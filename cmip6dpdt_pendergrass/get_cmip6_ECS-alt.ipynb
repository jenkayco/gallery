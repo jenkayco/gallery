{
 "cells": [
  {
   "cell_type": "markdown",
   "metadata": {},
   "source": [
    "# Calculate ECS in CMIP6 models\n",
    "## Goal: Use Gregory regression to calculate ECS $\\Delta T$ [Gregory et al 2004](https://agupubs.onlinelibrary.wiley.com/doi/full/10.1029/2003GL018747) \n",
    "\n",
    "### Using all available members of sufficient length of abrupt-4xCO2 simulations available from the NCAR CGD mirror of the ETH CMIP6 archive\n",
    "\n",
    "## Potentially useful utilities to get pathnames \n",
    "\n",
    "### get area weighting from $d\\phi *cos(\\phi)$"
   ]
  },
  {
   "cell_type": "code",
   "execution_count": 1,
   "metadata": {},
   "outputs": [],
   "source": [
    "import sys\n",
    "import os\n",
    "import datetime\n",
    "\n",
    "%matplotlib inline\n",
    "import numpy as np\n",
    "import warnings\n",
    "warnings.filterwarnings('ignore')\n",
    "import xarray as xr\n",
    "from matplotlib import pyplot as plt\n",
    "from scipy import stats"
   ]
  },
  {
   "cell_type": "markdown",
   "metadata": {},
   "source": [
    "## Utilities for handling files from Urs Beyerle's darkweb system \n",
    "\n",
    "### For some model, experiment, and variables, get all available variants (ensemble members) and filenames. Define a class to put them in. "
   ]
  },
  {
   "cell_type": "code",
   "execution_count": 2,
   "metadata": {},
   "outputs": [],
   "source": [
    "def getOneModelExperimentVar(model,experiment,var):\n",
    "    basedir = '/project/cmip6/'\n",
    "    # new: basedir/experiment/Amon/\"+variable+\" / model / variant / gridlabel /\n",
    "    # old: basedir/institution/model/experiment/variant/Amon/\"+variable / gridlabel / version {latest/vDATE} \n",
    "    thisModelExpVar = []\n",
    "    models = os.listdir(basedir+experiment+\"/Amon/\"+var)\n",
    "    hasmodel = any(elem == model for elem in models)\n",
    "    if hasmodel:\n",
    "        # get ensemble members with data and also their end paths\n",
    "        variants,gridlabels = getvariants(basedir+experiment+\"/Amon/\"+var+\"/\"+model+\"/\")\n",
    "        if len(variants)>0:\n",
    "            thisModelExpVar = ModelExpVar(model,experiment,var,basedir+experiment+\"/Amon/\"+var+\"/\"+model,variants,gridlabels)\n",
    "    else:\n",
    "        print(experiment+\" doesn't have \"+model)\n",
    "    return thisModelExpVar"
   ]
  },
  {
   "cell_type": "code",
   "execution_count": 3,
   "metadata": {},
   "outputs": [],
   "source": [
    "def getvariants(pathtoexp):\n",
    "    variants = []\n",
    "    gridlabels = [] \n",
    "    for variant in sorted(os.listdir(pathtoexp)):\n",
    "        thispath = pathtoexp+variant\n",
    "        #print(thispath)\n",
    "        thesegridlabels=os.listdir(thispath)\n",
    "        #print(gridlabels)\n",
    "        if len(thesegridlabels)==1:\n",
    "            gridlabel=thesegridlabels[0]\n",
    "            files = os.listdir(thispath+\"/\"+gridlabel)\n",
    "            #print(files)\n",
    "            ncfiles = [item for item in files if item.endswith('.nc')]\n",
    "            if len(ncfiles)>0:\n",
    "                variants.append(variant)\n",
    "                gridlabels.append(gridlabel)\n",
    "        else:\n",
    "            print(len(thesegridlabels)+\"grid labels - skipping\")\n",
    "    return variants,gridlabels"
   ]
  },
  {
   "cell_type": "code",
   "execution_count": 4,
   "metadata": {},
   "outputs": [],
   "source": [
    "class ModelExpVar:\n",
    "  def __init__(self, model, experiment, variable,startpath,variants,gridlabels):\n",
    "    self.model = model\n",
    "    self.experiment = experiment\n",
    "    self.variable = variable\n",
    "    # The rest are derived\n",
    "    ## basedir/experiment/Amon/\"+variable+\" / model / variant / gridlabel /\n",
    "    paths = []\n",
    "    files = []\n",
    "    for i in range(len(variants)):\n",
    "        #print(variants[i])\n",
    "        thepath = startpath+\"/\"+variants[i]+\"/\"+gridlabels[i]\n",
    "        ensfiles = os.listdir(thepath)\n",
    "        thisensfiles = []\n",
    "        for file in ensfiles:\n",
    "            if file.endswith(\".nc\"):\n",
    "                # deals with duplicate files in GISS-E2-1-G\n",
    "                if (model+\"_\"+experiment in file):  \n",
    "                    thisensfiles.append(thepath+\"/\"+file)\n",
    "        files.append(sorted(thisensfiles))\n",
    "    self.variants = dict(zip(variants, files))\n"
   ]
  },
  {
   "cell_type": "code",
   "execution_count": 5,
   "metadata": {},
   "outputs": [
    {
     "name": "stdout",
     "output_type": "stream",
     "text": [
      "['BCC-CSM2-MR', 'BCC-ESM1', 'CAMS-CSM1-0', 'CESM2-WACCM', 'CESM2', 'CNRM-CM6-1', 'CNRM-ESM2-1', 'CanESM5', 'E3SM-1-0', 'EC-Earth3-Veg', 'GISS-E2-1-G', 'GISS-E2-1-H', 'HadGEM3-GC31-LL', 'IPSL-CM6A-LR', 'MIROC6', 'MRI-ESM2-0', 'SAM0-UNICON', 'UKESM1-0-LL']\n",
      "True\n",
      "['r1i1p1f1']\n"
     ]
    }
   ],
   "source": [
    "model = \"CESM2\"\n",
    "experiment = \"abrupt-4xCO2\"# = getOneModelExperimentVar(model,\"abrupt-4xCO2\",\"ts\")\n",
    "var =\"ts\"\n",
    "#imem = list(cesm4x.variants)[0]\n",
    "basedir = '/project/cmip6/'\n",
    "# new: basedir/experiment/Amon/\"+variable+\" / model / variant / gridlabel /\n",
    "# old: basedir/institution/model/experiment/variant/Amon/\"+variable / gridlabel / version {latest/vDATE} \n",
    "thisModelExpVar = []\n",
    "models = os.listdir(basedir+experiment+\"/Amon/\"+var)\n",
    "print(models)\n",
    "hasmodel = any(elem == model for elem in models)\n",
    "print(hasmodel)\n",
    "print(os.listdir(basedir+experiment+\"/Amon/\"+var+\"/\"+model))\n"
   ]
  },
  {
   "cell_type": "code",
   "execution_count": 6,
   "metadata": {},
   "outputs": [
    {
     "name": "stdout",
     "output_type": "stream",
     "text": [
      "/project/cmip6/abrupt-4xCO2/Amon/ts/IPSL-CM6A-LR/\n",
      "/project/cmip6/abrupt-4xCO2/Amon/ts/IPSL-CM6A-LR/r10i1p1f1\n",
      "['.ts_Amon_IPSL-CM6A-LR_abrupt-4xCO2_r10i1p1f1_gr_185010-185509.info', 'ts_Amon_IPSL-CM6A-LR_abrupt-4xCO2_r10i1p1f1_gr_185010-185509.nc']\n",
      "/project/cmip6/abrupt-4xCO2/Amon/ts/IPSL-CM6A-LR/r11i1p1f1\n",
      "['.ts_Amon_IPSL-CM6A-LR_abrupt-4xCO2_r11i1p1f1_gr_185011-185510.info', 'ts_Amon_IPSL-CM6A-LR_abrupt-4xCO2_r11i1p1f1_gr_185011-185510.nc']\n",
      "/project/cmip6/abrupt-4xCO2/Amon/ts/IPSL-CM6A-LR/r12i1p1f1\n",
      "['.ts_Amon_IPSL-CM6A-LR_abrupt-4xCO2_r12i1p1f1_gr_185012-185511.info', 'ts_Amon_IPSL-CM6A-LR_abrupt-4xCO2_r12i1p1f1_gr_185012-185511.nc']\n",
      "/project/cmip6/abrupt-4xCO2/Amon/ts/IPSL-CM6A-LR/r1i1p1f1\n",
      "['.ts_Amon_IPSL-CM6A-LR_abrupt-4xCO2_r1i1p1f1_gr_185001-214912.info', '.ts_Amon_IPSL-CM6A-LR_abrupt-4xCO2_r1i1p1f1_gr_215001-244912.info', '.ts_Amon_IPSL-CM6A-LR_abrupt-4xCO2_r1i1p1f1_gr_245001-274912.info', 'ts_Amon_IPSL-CM6A-LR_abrupt-4xCO2_r1i1p1f1_gr_185001-214912.nc', 'ts_Amon_IPSL-CM6A-LR_abrupt-4xCO2_r1i1p1f1_gr_215001-244912.nc', 'ts_Amon_IPSL-CM6A-LR_abrupt-4xCO2_r1i1p1f1_gr_245001-274912.nc']\n",
      "/project/cmip6/abrupt-4xCO2/Amon/ts/IPSL-CM6A-LR/r2i1p1f1\n",
      "['.ts_Amon_IPSL-CM6A-LR_abrupt-4xCO2_r2i1p1f1_gr_185002-185501.info', 'ts_Amon_IPSL-CM6A-LR_abrupt-4xCO2_r2i1p1f1_gr_185002-185501.nc']\n",
      "/project/cmip6/abrupt-4xCO2/Amon/ts/IPSL-CM6A-LR/r3i1p1f1\n",
      "['.ts_Amon_IPSL-CM6A-LR_abrupt-4xCO2_r3i1p1f1_gr_185003-185502.info', 'ts_Amon_IPSL-CM6A-LR_abrupt-4xCO2_r3i1p1f1_gr_185003-185502.nc']\n",
      "/project/cmip6/abrupt-4xCO2/Amon/ts/IPSL-CM6A-LR/r4i1p1f1\n",
      "['.ts_Amon_IPSL-CM6A-LR_abrupt-4xCO2_r4i1p1f1_gr_185004-185503.info', 'ts_Amon_IPSL-CM6A-LR_abrupt-4xCO2_r4i1p1f1_gr_185004-185503.nc']\n",
      "/project/cmip6/abrupt-4xCO2/Amon/ts/IPSL-CM6A-LR/r5i1p1f1\n",
      "['.ts_Amon_IPSL-CM6A-LR_abrupt-4xCO2_r5i1p1f1_gr_185005-185504.info', 'ts_Amon_IPSL-CM6A-LR_abrupt-4xCO2_r5i1p1f1_gr_185005-185504.nc']\n",
      "/project/cmip6/abrupt-4xCO2/Amon/ts/IPSL-CM6A-LR/r6i1p1f1\n",
      "['.ts_Amon_IPSL-CM6A-LR_abrupt-4xCO2_r6i1p1f1_gr_185006-185505.info', 'ts_Amon_IPSL-CM6A-LR_abrupt-4xCO2_r6i1p1f1_gr_185006-185505.nc']\n",
      "/project/cmip6/abrupt-4xCO2/Amon/ts/IPSL-CM6A-LR/r7i1p1f1\n",
      "['.ts_Amon_IPSL-CM6A-LR_abrupt-4xCO2_r7i1p1f1_gr_185007-185506.info', 'ts_Amon_IPSL-CM6A-LR_abrupt-4xCO2_r7i1p1f1_gr_185007-185506.nc']\n",
      "/project/cmip6/abrupt-4xCO2/Amon/ts/IPSL-CM6A-LR/r8i1p1f1\n",
      "['.ts_Amon_IPSL-CM6A-LR_abrupt-4xCO2_r8i1p1f1_gr_185008-185507.info', 'ts_Amon_IPSL-CM6A-LR_abrupt-4xCO2_r8i1p1f1_gr_185008-185507.nc']\n",
      "/project/cmip6/abrupt-4xCO2/Amon/ts/IPSL-CM6A-LR/r9i1p1f1\n",
      "['.ts_Amon_IPSL-CM6A-LR_abrupt-4xCO2_r9i1p1f1_gr_185009-185508.info', 'ts_Amon_IPSL-CM6A-LR_abrupt-4xCO2_r9i1p1f1_gr_185009-185508.nc']\n"
     ]
    }
   ],
   "source": [
    "model=\"IPSL-CM6A-LR\"\n",
    "\n",
    "pathtoexp = basedir+experiment+\"/Amon/\"+var+\"/\"+model+\"/\"\n",
    "print(pathtoexp)\n",
    "variants = []\n",
    "gridlabels = [] \n",
    "directories = os.listdir(pathtoexp)\n",
    "#print(directories)\n",
    "for variant in sorted(os.listdir(pathtoexp)):\n",
    "    thispath = pathtoexp+variant\n",
    "    print(thispath)\n",
    "    #print(os.listdir(thispath))\n",
    "    # check that there is actually a path for this particular variable in this experiment\n",
    "    #os.listdir(thispath)\n",
    "    thesegridlabels=os.listdir(thispath)\n",
    "    #print(gridlabels)\n",
    "    if len(thesegridlabels)==1:\n",
    "        gridlabel=thesegridlabels[0]\n",
    "        files = os.listdir(thispath+\"/\"+gridlabel)\n",
    "        print(files)\n",
    "        ncfiles = [item for item in files if item.endswith('.nc')]\n",
    "        if len(ncfiles)>0:\n",
    "            variants.append(variant)\n",
    "            gridlabels.append(gridlabel)\n",
    "    else:\n",
    "        print(len(thesegridlabels)+\"grid labels - skipping\")"
   ]
  },
  {
   "cell_type": "code",
   "execution_count": 7,
   "metadata": {},
   "outputs": [
    {
     "name": "stdout",
     "output_type": "stream",
     "text": [
      "['r10i1p1f1', 'r11i1p1f1', 'r12i1p1f1', 'r1i1p1f1', 'r2i1p1f1', 'r3i1p1f1', 'r4i1p1f1', 'r5i1p1f1', 'r6i1p1f1', 'r7i1p1f1', 'r8i1p1f1', 'r9i1p1f1']\n",
      "['gr', 'gr', 'gr', 'gr', 'gr', 'gr', 'gr', 'gr', 'gr', 'gr', 'gr', 'gr']\n"
     ]
    }
   ],
   "source": [
    "model=\"IPSL-CM6A-LR\"\n",
    "variants,gridlabels = getvariants(basedir+experiment+\"/Amon/\"+var+\"/\"+model+\"/\")\n",
    "print(variants)\n",
    "print(gridlabels)"
   ]
  },
  {
   "cell_type": "code",
   "execution_count": 8,
   "metadata": {},
   "outputs": [
    {
     "name": "stdout",
     "output_type": "stream",
     "text": [
      "['r1i1p1f1']\n",
      "['gn']\n"
     ]
    }
   ],
   "source": [
    "model=\"CESM2\"\n",
    "variants,gridlabels = getvariants(basedir+experiment+\"/Amon/\"+var+\"/\"+model+\"/\")\n",
    "print(variants)\n",
    "print(gridlabels)"
   ]
  },
  {
   "cell_type": "code",
   "execution_count": 9,
   "metadata": {},
   "outputs": [
    {
     "data": {
      "text/plain": [
       "<__main__.ModelExpVar at 0x7fbd2cdfab70>"
      ]
     },
     "execution_count": 9,
     "metadata": {},
     "output_type": "execute_result"
    }
   ],
   "source": [
    "thisModelExpVar = ModelExpVar(model,experiment,var,basedir+experiment+\"/Amon/\"+var+\"/\"+model,variants,gridlabels)\n",
    "thisModelExpVar"
   ]
  },
  {
   "cell_type": "markdown",
   "metadata": {},
   "source": [
    "### For experiment and variable, get all models with data (and their variants [ensemble members] and filenames). "
   ]
  },
  {
   "cell_type": "code",
   "execution_count": 10,
   "metadata": {},
   "outputs": [],
   "source": [
    "def getModelsForExperimentVar(experiment,var):\n",
    "    basedir = '/project/cmip6/'\n",
    "    ## basedir/experiment/Amon/\"+variable+\" / model / variant / gridlabel /\n",
    "    evd_ofmodels = {}\n",
    "    #models = os.listdir(basedir+experiment+\"/Amon/\"+var)\n",
    "    #print(models)\n",
    "    for model in os.listdir(basedir+experiment+\"/Amon/\"+var):\n",
    "        #print(model)\n",
    "        variants,gridlabels = getvariants(basedir+experiment+\"/Amon/\"+var+\"/\"+model+\"/\")\n",
    "        if len(variants)>0:\n",
    "            #print(model)\n",
    "            evd_ofmodels[model] = ModelExpVar(model,experiment,var,basedir+experiment+\"/Amon/\"+var+\"/\"+model,variants,gridlabels)\n",
    "    return evd_ofmodels"
   ]
  },
  {
   "cell_type": "code",
   "execution_count": 11,
   "metadata": {},
   "outputs": [],
   "source": [
    "basedir = '/project/cmip6/'\n",
    "## basedir/experiment/Amon/\"+variable+\" / model / variant / gridlabel /\n",
    "evd_ofmodels = {}\n",
    "#models = os.listdir(basedir+experiment+\"/Amon/\"+var)\n",
    "for model in os.listdir(basedir+experiment+\"/Amon/\"+var):\n",
    "    #print(model)\n",
    "    variants,gridlabels = getvariants(basedir+experiment+\"/Amon/\"+var+\"/\"+model+\"/\")\n",
    "    if len(variants)>0:\n",
    "        evd_ofmodels[model] = ModelExpVar(model,experiment,var,basedir+experiment+\"/Amon/\"+var+\"/\"+model,variants,gridlabels)\n",
    "        "
   ]
  },
  {
   "cell_type": "code",
   "execution_count": 12,
   "metadata": {},
   "outputs": [
    {
     "name": "stdout",
     "output_type": "stream",
     "text": [
      "r1i1p1f1\n"
     ]
    }
   ],
   "source": [
    "model = \"CESM2\"\n",
    "cesm4x = getOneModelExperimentVar(model,\"abrupt-4xCO2\",\"ts\")\n",
    "imem = list(cesm4x.variants)[0]\n",
    "print(imem)\n",
    "#thisModelArea = getModelAreacella(model)\n",
    "#dts = getChangeTimeseries(model,\"ts\",imem,thisModelArea.areacella)\n",
    "#drsdt = getChangeTimeseries(model,\"rsdt\",imem,thisModelArea.areacella)\n",
    "#drsut = getChangeTimeseries(model,\"rsut\",imem,thisModelArea.areacella)\n",
    "#drlut = getChangeTimeseries(model,\"rlut\",imem,thisModelArea.areacella)\n",
    "#dN = drsdt - drsut - drlut\n",
    "#slope, intercept, r_value, p_value, std_err = stats.linregress(dts,dN)\n",
    "#cesmECS = -intercept / slope"
   ]
  },
  {
   "cell_type": "code",
   "execution_count": 13,
   "metadata": {},
   "outputs": [
    {
     "name": "stdout",
     "output_type": "stream",
     "text": [
      "{'BCC-CSM2-MR': <__main__.ModelExpVar object at 0x7fbd2cdfaef0>, 'BCC-ESM1': <__main__.ModelExpVar object at 0x7fbd2cdfafd0>, 'CAMS-CSM1-0': <__main__.ModelExpVar object at 0x7fbd2cdfae48>, 'CESM2-WACCM': <__main__.ModelExpVar object at 0x7fbd2ce0d9b0>, 'CESM2': <__main__.ModelExpVar object at 0x7fbd2ce0d860>, 'CNRM-CM6-1': <__main__.ModelExpVar object at 0x7fbd2cdfadd8>, 'CNRM-ESM2-1': <__main__.ModelExpVar object at 0x7fbd2ce0d5f8>, 'CanESM5': <__main__.ModelExpVar object at 0x7fbd2cdfaf60>, 'E3SM-1-0': <__main__.ModelExpVar object at 0x7fbd2cdfab00>, 'EC-Earth3-Veg': <__main__.ModelExpVar object at 0x7fbd2cdfae80>, 'GISS-E2-1-G': <__main__.ModelExpVar object at 0x7fbd2cdfada0>, 'GISS-E2-1-H': <__main__.ModelExpVar object at 0x7fbd2cdfab38>, 'HadGEM3-GC31-LL': <__main__.ModelExpVar object at 0x7fbd2cdfad30>, 'IPSL-CM6A-LR': <__main__.ModelExpVar object at 0x7fbd2cdfac18>, 'MIROC6': <__main__.ModelExpVar object at 0x7fbd2cdfaf98>, 'MRI-ESM2-0': <__main__.ModelExpVar object at 0x7fbd2cdfac50>, 'SAM0-UNICON': <__main__.ModelExpVar object at 0x7fbd2cdfac88>, 'UKESM1-0-LL': <__main__.ModelExpVar object at 0x7fbd2cdfaeb8>}\n"
     ]
    }
   ],
   "source": [
    "var=\"ts\"\n",
    "ts4x_models = getModelsForExperimentVar(\"abrupt-4xCO2\",var)\n",
    "print(ts4x_models)"
   ]
  },
  {
   "cell_type": "markdown",
   "metadata": {},
   "source": [
    "### Deal with grid cell area.  Get areacella files if they exist (when I made this only CESM2 and CESM2-WACCM did). Otherwise look in folder areacella with manually-downloaded files for each model. Otherwise, use dlat * cos(lat)"
   ]
  },
  {
   "cell_type": "code",
   "execution_count": 14,
   "metadata": {},
   "outputs": [],
   "source": [
    "class ModelArea:\n",
    "  def __init__(self,model,file,areacella):\n",
    "    self.model = model\n",
    "    self.variable = \"areacella\"\n",
    "    self.file = file\n",
    "    self.areacella = areacella\n",
    "    \n",
    "def getModelAreacella(model):\n",
    "    #basedir = \"/glade/collections/cmip/CMIP6/CMIP/\"\n",
    "    experiment=\"piControl\"\n",
    "    #var=\"areacella\"\n",
    "    thisModelExpVar = []\n",
    "    #institutions = []\n",
    "    thisModelArea = []\n",
    "    # this first method will work for CESM2. Maybe nothing else. \n",
    "#    for institution in os.listdir(basedir):\n",
    "        #print(institution)\n",
    "#        models = os.listdir(basedir+institution)\n",
    "#        hasmodel = any(elem == model for elem in models)\n",
    "#        if hasmodel:\n",
    "#            institutions.append(institution)        \n",
    "#    if len(institutions)==1:\n",
    "#        institution = institutions[0]\n",
    "#        exps = os.listdir(basedir+institution+\"/\"+model)\n",
    "#        hasexp = any(elem == experiment for elem in exps)\n",
    "#        if (hasexp) : \n",
    "            # get ensemble members with data and also their end paths\n",
    "#            variants,endpaths,extraVarFolder = getFXvariants(basedir+institution+\"/\"+model+\"/\"+experiment+\"/\",var)\n",
    "#            if len(variants)>0:\n",
    "#                thepath = basedir+institution+\"/\"+model+\"/\"+experiment+\"/\"+variants[0]+\"/fx/\"+var+endpaths[0]\n",
    "#                if extraVarFolder:\n",
    "#                    thepath = thepath+var+\"/\"\n",
    "#                files = os.listdir(thepath)\n",
    "#                thisModelArea = ModelArea(model,thepath+files[0],[])\n",
    "    # If that didn't work, then we try something else. Next step is the folder with areacella files I downloaded. \n",
    "    #if thisModelArea==[]:\n",
    "    #    areacelladir=\"/glade/work/apgrass/pythonhackathon/areacella/\"\n",
    "    #    files = os.listdir(areacelladir)\n",
    "    #    thefile = [item for item in files if model in item]\n",
    "    #    #print(thefile)\n",
    "    #    if len(thefile)>0:\n",
    "    #        thisModelArea = ModelArea(model,areacelladir + thefile[0],[])\n",
    "    #        print(model+\": Using manually downloaded areacella\")\n",
    "#    if thisModelArea!=[]:\n",
    "#        ds = xr.open_mfdataset(thisModelArea.file)\n",
    "#        areacella = ds.get(thisModelArea.variable)\n",
    "#        thisModelArea.areacella = areacella\n",
    "#        print(model+\": Successfully retrieved areacella from CMIP analysis platform\")\n",
    "#    else:\n",
    "# Move the next block right one indent to get it to work in the loop\n",
    "    # Finally, if that still didn't work, we just do lat/lon weighting. Leave it empty\n",
    "    thismodeltas = getOneModelExperimentVar(model,experiment,\"tas\")\n",
    "    ds = xr.open_dataset(thismodeltas.variants[list(thismodeltas.variants)[0]][0])\n",
    "    tas1time = ds.tas.sel(time=(ds.time[-1]))\n",
    "    l1=np.array(tas1time.lat)\n",
    "    l2=np.copy(l1)\n",
    "    l2[1:]=l1[0:-1]\n",
    "    l2[0]=-90\n",
    "    l3=np.copy(l1)\n",
    "    l3[0:-1]=l1[1:]\n",
    "    l3[-1]=90\n",
    "    lw = np.cos(l1*np.pi/180)*(l3-l2)\n",
    "    areacella = xr.DataArray(np.transpose(np.tile(lw,[len(tas1time.lon),1])),coords = tas1time.coords, dims = tas1time.dims)\n",
    "    thisModelArea = ModelArea(model,[],areacella)\n",
    "    print(model+\": Area from cos lat\")\n",
    "    return thisModelArea"
   ]
  },
  {
   "cell_type": "code",
   "execution_count": 15,
   "metadata": {},
   "outputs": [
    {
     "name": "stdout",
     "output_type": "stream",
     "text": [
      "/project/cmip6/piControl/Amon/tas/CESM2/r1i1p1f1/gn/tas_Amon_CESM2_piControl_r1i1p1f1_gn_000101-009912.nc\n",
      "CESM2: Area from cos lat\n"
     ]
    }
   ],
   "source": [
    "model=\"CESM2\"\n",
    "#basedir = \"/glade/collections/cmip/CMIP6/CMIP/\"\n",
    "experiment=\"piControl\"\n",
    "#var=\"areacella\"\n",
    "thisModelExpVar = []\n",
    "#institutions = []\n",
    "thisModelArea = []\n",
    "thismodeltas = getOneModelExperimentVar(model,experiment,\"tas\")\n",
    "print(thismodeltas.variants[list(thismodeltas.variants)[0]][0])\n",
    "ds = xr.open_dataset(thismodeltas.variants[list(thismodeltas.variants)[0]][0])\n",
    "tas1time = ds.tas.sel(time=(ds.time[-1]))\n",
    "l1=np.array(tas1time.lat)\n",
    "l2=np.copy(l1)\n",
    "l2[1:]=l1[0:-1]\n",
    "l2[0]=-90\n",
    "l3=np.copy(l1)\n",
    "l3[0:-1]=l1[1:]\n",
    "l3[-1]=90\n",
    "lw = np.cos(l1*np.pi/180)*(l3-l2)\n",
    "areacella = xr.DataArray(np.transpose(np.tile(lw,[len(tas1time.lon),1])),coords = tas1time.coords, dims = tas1time.dims)\n",
    "thisModelArea = ModelArea(model,[],areacella)\n",
    "print(model+\": Area from cos lat\")\n"
   ]
  },
  {
   "cell_type": "code",
   "execution_count": 16,
   "metadata": {},
   "outputs": [],
   "source": [
    "## this is not yet needed for the dark web\n",
    "\n",
    "def getFXvariants(pathtoexp,var):\n",
    "    variants = []\n",
    "    endpaths = [] \n",
    "    extrabit = []\n",
    "    for variant in os.listdir(pathtoexp):\n",
    "        try: \n",
    "            # check that there is actually a path for this particular variable in this experiment\n",
    "            os.listdir(pathtoexp+variant+\"/fx/\"+var)\n",
    "            #print(variant)\n",
    "            # we will now call a function that gets the end path. this is not trivial; it includes the grid label and finding the latest version. \n",
    "            thispath = pathtoexp+variant+\"/fx/\"+var\n",
    "            #print(thispath)\n",
    "            thisendpath,extrabit = getendpath(thispath,var)\n",
    "            # if this all worked, then add the variant / ensemble member, and its path info, to the list of existing ones\n",
    "            if len(thisendpath)>0:\n",
    "                endpaths.append(thisendpath)\n",
    "                variants.append(variant)\n",
    "        except:\n",
    "            # in case there is not actually any data for this model + variant / ensemble member\n",
    "            #print(pathtoexp+\" \"+variant+\" is missing\")\n",
    "            pass\n",
    "    #print(variants)\n",
    "    return variants,endpaths,extrabit"
   ]
  },
  {
   "cell_type": "markdown",
   "metadata": {},
   "source": [
    "## Define functions that use the tools to calculate things \n",
    "\n",
    "### Global annual mean timeseries, climatological global mean (one value), a timeseries of the difference of those two, and ECS"
   ]
  },
  {
   "cell_type": "code",
   "execution_count": 17,
   "metadata": {},
   "outputs": [],
   "source": [
    "def globalannualmean(aModelExpVar,areacella,mem):\n",
    "    weight= areacella / areacella.sum(dim=('lon','lat'))\n",
    "    weight.sum(dim=('lon','lat'))\n",
    "    try:\n",
    "        ds = xr.open_mfdataset(aModelExpVar.variants[mem][:])\n",
    "        it = ds.get(aModelExpVar.variable)\n",
    "        itGm=(np.tile(weight,[len(ds.time),1,1])*it).sum(dim=('lat','lon'))\n",
    "        if len(ds.time)>=1800:\n",
    "            # this is to get the first 150 years from abrupt-4xCO2\n",
    "            starttimes = ds.time[0:150*12]\n",
    "            its=itGm.sel(time=slice(starttimes[0],starttimes[-1]))\n",
    "            itGm_annual = its.resample(time='A',label='left',loffset='6M').mean(dim='time')\n",
    "        else:\n",
    "            itGm_annual = itGm.resample(time='A',label='left',loffset='6M').mean(dim='time')\n",
    "    except:\n",
    "    # IPSL-CM6A-LR abrupt-4xCO2 has a member that goes for 900 yrs and breaks this. if it fails, just get the first file\n",
    "        print(\"globalannualmean: \"+aModelExpVar.model+\" \"+mem+\" trying just first file\")\n",
    "        ds = xr.open_dataset(aModelExpVar.variants[mem][0])\n",
    "        it = ds.get(aModelExpVar.variable)\n",
    "        itGm=(np.tile(weight,[len(ds.time),1,1])*it).sum(dim=('lat','lon'))\n",
    "        starttimes = ds.time[0:150*12]\n",
    "        its=itGm.sel(time=slice(starttimes[0],starttimes[-1]))\n",
    "        itGm_annual = its.resample(time='A',label='left',loffset='6M').mean(dim='time')\n",
    "    return itGm_annual\n"
   ]
  },
  {
   "cell_type": "code",
   "execution_count": 18,
   "metadata": {},
   "outputs": [],
   "source": [
    "def climglobalmean(aModelExpVar,areacella):\n",
    "    weight= areacella / areacella.sum(dim=('lon','lat'))\n",
    "    weight.sum(dim=('lon','lat'))\n",
    "    # average across all piControl members\n",
    "    c = []\n",
    "    for mem in list(aModelExpVar.variants):\n",
    "        print(aModelExpVar.variants[mem][0])\n",
    "        try:\n",
    "            ds = xr.open_mfdataset(aModelExpVar.variants[mem][:])\n",
    "        except:\n",
    "            ds = xr.open_dataset(aModelExpVar.variants[mem][0])\n",
    "        endtimes = ds.time[-(12*30):]\n",
    "        print(aModelExpVar.variable)\n",
    "        it = ds.get(aModelExpVar.variable)\n",
    "        it_c=it.sel(time=slice(endtimes[0],endtimes[-1])).mean(dim=('time'))\n",
    "        itGm=(it_c*weight).sum(dim=('lat','lon'))\n",
    "        c.append(itGm.values)\n",
    "        c.append(itGm.values)\n",
    "    itGm_c = np.average(c)\n",
    "    return itGm_c\n"
   ]
  },
  {
   "cell_type": "code",
   "execution_count": 19,
   "metadata": {},
   "outputs": [],
   "source": [
    "def getChangeTimeseries(model,var,mem,areacella):\n",
    "    v4x = getOneModelExperimentVar(model,\"abrupt-4xCO2\",var)\n",
    "    vpi = getOneModelExperimentVar(model,\"piControl\",var)\n",
    "    vGAm = globalannualmean(v4x,areacella,mem)\n",
    "    vpi_c = climglobalmean(vpi,areacella)\n",
    "    change = vGAm-vpi_c\n",
    "    return change"
   ]
  },
  {
   "cell_type": "code",
   "execution_count": 20,
   "metadata": {},
   "outputs": [],
   "source": [
    "def calcECSts(model,mem):\n",
    "    thisModelArea = getModelAreacella(model)\n",
    "    dts = getChangeTimeseries(model,\"ts\",mem,thisModelArea.areacella)\n",
    "    drsdt = getChangeTimeseries(model,\"rsdt\",mem,thisModelArea.areacella)\n",
    "    drsut = getChangeTimeseries(model,\"rsut\",mem,thisModelArea.areacella)\n",
    "    drlut = getChangeTimeseries(model,\"rlut\",mem,thisModelArea.areacella)\n",
    "    dN = drsdt - drsut - drlut\n",
    "    slope, intercept, r_value, p_value, std_err = stats.linregress(dts,dN)\n",
    "    ECS = -intercept / slope\n",
    "    return ECS,intercept\n",
    "\n"
   ]
  },
  {
   "cell_type": "markdown",
   "metadata": {},
   "source": [
    "## Test the tools with CESM2"
   ]
  },
  {
   "cell_type": "code",
   "execution_count": 21,
   "metadata": {},
   "outputs": [
    {
     "data": {
      "text/plain": [
       "<__main__.ModelExpVar at 0x7fbd2cdcfd68>"
      ]
     },
     "execution_count": 21,
     "metadata": {},
     "output_type": "execute_result"
    }
   ],
   "source": [
    "model = \"CESM2\"\n",
    "cesm4x = getOneModelExperimentVar(model,\"abrupt-4xCO2\",\"ts\")\n",
    "cesm4x"
   ]
  },
  {
   "cell_type": "code",
   "execution_count": 22,
   "metadata": {},
   "outputs": [
    {
     "name": "stdout",
     "output_type": "stream",
     "text": [
      "CESM2: Area from cos lat\n"
     ]
    }
   ],
   "source": [
    "imem = list(cesm4x.variants)[0]\n",
    "thisModelArea = getModelAreacella(model)"
   ]
  },
  {
   "cell_type": "code",
   "execution_count": 23,
   "metadata": {},
   "outputs": [
    {
     "name": "stdout",
     "output_type": "stream",
     "text": [
      "CESM2: Area from cos lat\n",
      "/project/cmip6/piControl/Amon/ts/CESM2/r1i1p1f1/gn/ts_Amon_CESM2_piControl_r1i1p1f1_gn_000101-009912.nc\n",
      "ts\n",
      "/project/cmip6/piControl/Amon/rsdt/CESM2/r1i1p1f1/gn/rsdt_Amon_CESM2_piControl_r1i1p1f1_gn_000101-009912.nc\n",
      "rsdt\n",
      "/project/cmip6/piControl/Amon/rsut/CESM2/r1i1p1f1/gn/rsut_Amon_CESM2_piControl_r1i1p1f1_gn_000101-009912.nc\n",
      "rsut\n",
      "/project/cmip6/piControl/Amon/rlut/CESM2/r1i1p1f1/gn/rlut_Amon_CESM2_piControl_r1i1p1f1_gn_000101-009912.nc\n",
      "rlut\n"
     ]
    }
   ],
   "source": [
    "model = \"CESM2\"\n",
    "cesm4x = getOneModelExperimentVar(model,\"abrupt-4xCO2\",\"ts\")\n",
    "imem = list(cesm4x.variants)[0]\n",
    "thisModelArea = getModelAreacella(model)\n",
    "dts = getChangeTimeseries(model,\"ts\",imem,thisModelArea.areacella)\n",
    "drsdt = getChangeTimeseries(model,\"rsdt\",imem,thisModelArea.areacella)\n",
    "drsut = getChangeTimeseries(model,\"rsut\",imem,thisModelArea.areacella)\n",
    "drlut = getChangeTimeseries(model,\"rlut\",imem,thisModelArea.areacella)\n",
    "dN = drsdt - drsut - drlut\n",
    "slope, intercept, r_value, p_value, std_err = stats.linregress(dts,dN)\n",
    "cesmECS = -intercept / slope"
   ]
  },
  {
   "cell_type": "code",
   "execution_count": 24,
   "metadata": {},
   "outputs": [
    {
     "name": "stdout",
     "output_type": "stream",
     "text": [
      "10.237067067918854\n",
      "5.118533533959427\n"
     ]
    }
   ],
   "source": [
    "print(cesmECS)\n",
    "print(cesmECS/2)"
   ]
  },
  {
   "cell_type": "code",
   "execution_count": 25,
   "metadata": {},
   "outputs": [
    {
     "data": {
      "text/plain": [
       "'r1i1p1f1'"
      ]
     },
     "execution_count": 25,
     "metadata": {},
     "output_type": "execute_result"
    }
   ],
   "source": [
    "list(cesm4x.variants)[0]"
   ]
  },
  {
   "cell_type": "code",
   "execution_count": 27,
   "metadata": {},
   "outputs": [
    {
     "name": "stdout",
     "output_type": "stream",
     "text": [
      "CESM2: Area from cos lat\n",
      "/project/cmip6/piControl/Amon/ts/CESM2/r1i1p1f1/gn/ts_Amon_CESM2_piControl_r1i1p1f1_gn_000101-009912.nc\n",
      "ts\n",
      "/project/cmip6/piControl/Amon/rsdt/CESM2/r1i1p1f1/gn/rsdt_Amon_CESM2_piControl_r1i1p1f1_gn_000101-009912.nc\n",
      "rsdt\n",
      "/project/cmip6/piControl/Amon/rsut/CESM2/r1i1p1f1/gn/rsut_Amon_CESM2_piControl_r1i1p1f1_gn_000101-009912.nc\n",
      "rsut\n",
      "/project/cmip6/piControl/Amon/rlut/CESM2/r1i1p1f1/gn/rlut_Amon_CESM2_piControl_r1i1p1f1_gn_000101-009912.nc\n",
      "rlut\n",
      "5.118533533959427\n"
     ]
    }
   ],
   "source": [
    "# test: does it work for CESM2? \n",
    "cesmECS,F = calcECSts(\"CESM2\",imem)\n",
    "print(cesmECS/2)"
   ]
  },
  {
   "cell_type": "markdown",
   "metadata": {},
   "source": [
    "## Next: Make it work for CMIP6"
   ]
  },
  {
   "cell_type": "markdown",
   "metadata": {},
   "source": [
    "### Make a function that reconciles two dicts of models"
   ]
  },
  {
   "cell_type": "code",
   "execution_count": 28,
   "metadata": {},
   "outputs": [],
   "source": [
    "def keepModelsWithAllData(modeldict1,modeldict2):\n",
    "    missingmodel = set(list(modeldict1)).symmetric_difference(list(modeldict2))\n",
    "    for model in missingmodel:\n",
    "        #print(model)\n",
    "        try: \n",
    "            modeldict1.pop(model)\n",
    "        except:\n",
    "            pass\n",
    "        try: \n",
    "            modeldict2.pop(model)\n",
    "        except:\n",
    "            pass\n",
    "    return modeldict1,modeldict2"
   ]
  },
  {
   "cell_type": "markdown",
   "metadata": {},
   "source": [
    "### Get models with surface temperature for abrupt-4xCO2 and piControl experiments, then models that have the other fields we need too (net TOA radiative fluxes)."
   ]
  },
  {
   "cell_type": "code",
   "execution_count": 50,
   "metadata": {},
   "outputs": [
    {
     "data": {
      "text/plain": [
       "['BCC-CSM2-MR',\n",
       " 'BCC-ESM1',\n",
       " 'CESM2-WACCM',\n",
       " 'CESM2',\n",
       " 'CNRM-CM6-1',\n",
       " 'CNRM-ESM2-1',\n",
       " 'E3SM-1-0',\n",
       " 'EC-Earth3-Veg',\n",
       " 'GISS-E2-1-G',\n",
       " 'GISS-E2-1-H',\n",
       " 'HadGEM3-GC31-LL',\n",
       " 'IPSL-CM6A-LR',\n",
       " 'MIROC6',\n",
       " 'MRI-ESM2-0',\n",
       " 'SAM0-UNICON',\n",
       " 'UKESM1-0-LL']"
      ]
     },
     "execution_count": 50,
     "metadata": {},
     "output_type": "execute_result"
    }
   ],
   "source": [
    "var=\"ts\"\n",
    "ts4x_models = getModelsForExperimentVar(\"abrupt-4xCO2\",var)\n",
    "tsPi_models = getModelsForExperimentVar(\"piControl\",var)\n",
    "ts4x_models,tsPi_models = keepModelsWithAllData(ts4x_models,tsPi_models)\n",
    "variables = [\"rsdt\",\"rsut\",\"rlut\"]\n",
    "for var in variables:\n",
    "    #print(var)\n",
    "    v4x_models = getModelsForExperimentVar(\"abrupt-4xCO2\",var)\n",
    "    vPi_models = getModelsForExperimentVar(\"piControl\",var)\n",
    "    v4x_models,vPi_models = keepModelsWithAllData(v4x_models,vPi_models)\n",
    "    ts4x_models,v4x_models = keepModelsWithAllData(ts4x_models,v4x_models)\n",
    "list(ts4x_models)"
   ]
  },
  {
   "cell_type": "code",
   "execution_count": 51,
   "metadata": {},
   "outputs": [
    {
     "data": {
      "text/plain": [
       "16"
      ]
     },
     "execution_count": 51,
     "metadata": {},
     "output_type": "execute_result"
    }
   ],
   "source": [
    "len(list(ts4x_models))"
   ]
  },
  {
   "cell_type": "code",
   "execution_count": 52,
   "metadata": {},
   "outputs": [
    {
     "name": "stdout",
     "output_type": "stream",
     "text": [
      "IPSL-CM6A-LR: Area from cos lat\n"
     ]
    }
   ],
   "source": [
    "model=\"IPSL-CM6A-LR\"\n",
    "thisModelArea = getModelAreacella(model)\n",
    "#vGAm = globalannualmean(ts4x_models[model],thisModelArea.areacella,mem) "
   ]
  },
  {
   "cell_type": "code",
   "execution_count": 53,
   "metadata": {},
   "outputs": [
    {
     "data": {
      "text/plain": [
       "['/project/cmip6/abrupt-4xCO2/Amon/ts/IPSL-CM6A-LR/r1i1p1f1/gr/ts_Amon_IPSL-CM6A-LR_abrupt-4xCO2_r1i1p1f1_gr_185001-214912.nc',\n",
       " '/project/cmip6/abrupt-4xCO2/Amon/ts/IPSL-CM6A-LR/r1i1p1f1/gr/ts_Amon_IPSL-CM6A-LR_abrupt-4xCO2_r1i1p1f1_gr_215001-244912.nc',\n",
       " '/project/cmip6/abrupt-4xCO2/Amon/ts/IPSL-CM6A-LR/r1i1p1f1/gr/ts_Amon_IPSL-CM6A-LR_abrupt-4xCO2_r1i1p1f1_gr_245001-274912.nc']"
      ]
     },
     "execution_count": 53,
     "metadata": {},
     "output_type": "execute_result"
    }
   ],
   "source": [
    "model=\"IPSL-CM6A-LR\"\n",
    "ts4x_models[model].variants[\"r1i1p1f1\"]\n",
    "#vGAm = globalannualmean(ts4x_models[model],thisModelArea.areacella,ts4x_models[model].variants[\"r1i1p1f1\"]) "
   ]
  },
  {
   "cell_type": "code",
   "execution_count": 54,
   "metadata": {},
   "outputs": [
    {
     "name": "stdout",
     "output_type": "stream",
     "text": [
      "BCC-CSM2-MR: Area from cos lat\n",
      "r1i1p1f1\n",
      "150\n",
      "BCC-ESM1: Area from cos lat\n",
      "r1i1p1f1\n",
      "150\n",
      "CESM2-WACCM: Area from cos lat\n",
      "r1i1p1f1\n",
      "150\n",
      "CESM2: Area from cos lat\n",
      "r1i1p1f1\n",
      "150\n",
      "CNRM-CM6-1: Area from cos lat\n",
      "r1i1p1f2\n",
      "150\n",
      "r2i1p1f2\n",
      "10\n",
      "r3i1p1f2\n",
      "10\n",
      "r4i1p1f2\n",
      "10\n",
      "r5i1p1f2\n",
      "10\n",
      "r6i1p1f2\n",
      "10\n",
      "CNRM-ESM2-1: Area from cos lat\n",
      "r1i1p1f2\n",
      "150\n",
      "r2i1p1f2\n",
      "150\n",
      "r3i1p1f2\n",
      "150\n",
      "E3SM-1-0: Area from cos lat\n",
      "r1i1p1f1\n",
      "25\n",
      "EC-Earth3-Veg: Area from cos lat\n",
      "r1i1p1f1\n",
      "150\n",
      "GISS-E2-1-G: Area from cos lat\n",
      "r1i1p1f1\n",
      "150\n",
      "GISS-E2-1-H: Area from cos lat\n",
      "r1i1p1f1\n",
      "150\n",
      "HadGEM3-GC31-LL: Area from cos lat\n",
      "r1i1p1f3\n",
      "150\n",
      "IPSL-CM6A-LR: Area from cos lat\n",
      "r10i1p1f1\n",
      "6\n",
      "r11i1p1f1\n",
      "6\n",
      "r12i1p1f1\n",
      "6\n",
      "r1i1p1f1\n"
     ]
    },
    {
     "ename": "OverflowError",
     "evalue": "Python int too large to convert to C long",
     "output_type": "error",
     "traceback": [
      "\u001b[0;31m---------------------------------------------------------------------------\u001b[0m",
      "\u001b[0;31mTypeError\u001b[0m                                 Traceback (most recent call last)",
      "\u001b[0;32mpandas/_libs/tslibs/timedeltas.pyx\u001b[0m in \u001b[0;36mpandas._libs.tslibs.timedeltas.array_to_timedelta64\u001b[0;34m()\u001b[0m\n",
      "\u001b[0;32mpandas/_libs/tslibs/timedeltas.pyx\u001b[0m in \u001b[0;36mpandas._libs.tslibs.timedeltas.parse_timedelta_string\u001b[0;34m()\u001b[0m\n",
      "\u001b[0;31mTypeError\u001b[0m: object of type 'datetime.timedelta' has no len()",
      "\nDuring handling of the above exception, another exception occurred:\n",
      "\u001b[0;31mOverflowError\u001b[0m                             Traceback (most recent call last)",
      "\u001b[0;32m/project/ccr/apgrass/miniconda3/envs/cmip6/lib/python3.7/site-packages/xarray/coding/cftimeindex.py\u001b[0m in \u001b[0;36m__sub__\u001b[0;34m(self, other)\u001b[0m\n\u001b[1;32m    413\u001b[0m         \u001b[0;32mimport\u001b[0m \u001b[0mcftime\u001b[0m\u001b[0;34m\u001b[0m\u001b[0;34m\u001b[0m\u001b[0m\n\u001b[1;32m    414\u001b[0m         \u001b[0;32mif\u001b[0m \u001b[0misinstance\u001b[0m\u001b[0;34m(\u001b[0m\u001b[0mother\u001b[0m\u001b[0;34m,\u001b[0m \u001b[0;34m(\u001b[0m\u001b[0mCFTimeIndex\u001b[0m\u001b[0;34m,\u001b[0m \u001b[0mcftime\u001b[0m\u001b[0;34m.\u001b[0m\u001b[0mdatetime\u001b[0m\u001b[0;34m)\u001b[0m\u001b[0;34m)\u001b[0m\u001b[0;34m:\u001b[0m\u001b[0;34m\u001b[0m\u001b[0;34m\u001b[0m\u001b[0m\n\u001b[0;32m--> 415\u001b[0;31m             \u001b[0;32mreturn\u001b[0m \u001b[0mpd\u001b[0m\u001b[0;34m.\u001b[0m\u001b[0mTimedeltaIndex\u001b[0m\u001b[0;34m(\u001b[0m\u001b[0mnp\u001b[0m\u001b[0;34m.\u001b[0m\u001b[0marray\u001b[0m\u001b[0;34m(\u001b[0m\u001b[0mself\u001b[0m\u001b[0;34m)\u001b[0m \u001b[0;34m-\u001b[0m \u001b[0mnp\u001b[0m\u001b[0;34m.\u001b[0m\u001b[0marray\u001b[0m\u001b[0;34m(\u001b[0m\u001b[0mother\u001b[0m\u001b[0;34m)\u001b[0m\u001b[0;34m)\u001b[0m\u001b[0;34m\u001b[0m\u001b[0;34m\u001b[0m\u001b[0m\n\u001b[0m\u001b[1;32m    416\u001b[0m         \u001b[0;32melif\u001b[0m \u001b[0misinstance\u001b[0m\u001b[0;34m(\u001b[0m\u001b[0mother\u001b[0m\u001b[0;34m,\u001b[0m \u001b[0mpd\u001b[0m\u001b[0;34m.\u001b[0m\u001b[0mTimedeltaIndex\u001b[0m\u001b[0;34m)\u001b[0m\u001b[0;34m:\u001b[0m\u001b[0;34m\u001b[0m\u001b[0;34m\u001b[0m\u001b[0m\n\u001b[1;32m    417\u001b[0m             \u001b[0;32mreturn\u001b[0m \u001b[0mCFTimeIndex\u001b[0m\u001b[0;34m(\u001b[0m\u001b[0mnp\u001b[0m\u001b[0;34m.\u001b[0m\u001b[0marray\u001b[0m\u001b[0;34m(\u001b[0m\u001b[0mself\u001b[0m\u001b[0;34m)\u001b[0m \u001b[0;34m-\u001b[0m \u001b[0mother\u001b[0m\u001b[0;34m.\u001b[0m\u001b[0mto_pytimedelta\u001b[0m\u001b[0;34m(\u001b[0m\u001b[0;34m)\u001b[0m\u001b[0;34m)\u001b[0m\u001b[0;34m\u001b[0m\u001b[0;34m\u001b[0m\u001b[0m\n",
      "\u001b[0;32m/project/ccr/apgrass/miniconda3/envs/cmip6/lib/python3.7/site-packages/pandas/core/indexes/timedeltas.py\u001b[0m in \u001b[0;36m__new__\u001b[0;34m(cls, data, unit, freq, start, end, periods, closed, dtype, copy, name, verify_integrity)\u001b[0m\n\u001b[1;32m    256\u001b[0m \u001b[0;34m\u001b[0m\u001b[0m\n\u001b[1;32m    257\u001b[0m         tdarr = TimedeltaArray._from_sequence(\n\u001b[0;32m--> 258\u001b[0;31m             \u001b[0mdata\u001b[0m\u001b[0;34m,\u001b[0m \u001b[0mfreq\u001b[0m\u001b[0;34m=\u001b[0m\u001b[0mfreq\u001b[0m\u001b[0;34m,\u001b[0m \u001b[0munit\u001b[0m\u001b[0;34m=\u001b[0m\u001b[0munit\u001b[0m\u001b[0;34m,\u001b[0m \u001b[0mdtype\u001b[0m\u001b[0;34m=\u001b[0m\u001b[0mdtype\u001b[0m\u001b[0;34m,\u001b[0m \u001b[0mcopy\u001b[0m\u001b[0;34m=\u001b[0m\u001b[0mcopy\u001b[0m\u001b[0;34m\u001b[0m\u001b[0;34m\u001b[0m\u001b[0m\n\u001b[0m\u001b[1;32m    259\u001b[0m         )\n\u001b[1;32m    260\u001b[0m         \u001b[0;32mreturn\u001b[0m \u001b[0mcls\u001b[0m\u001b[0;34m.\u001b[0m\u001b[0m_simple_new\u001b[0m\u001b[0;34m(\u001b[0m\u001b[0mtdarr\u001b[0m\u001b[0;34m.\u001b[0m\u001b[0m_data\u001b[0m\u001b[0;34m,\u001b[0m \u001b[0mfreq\u001b[0m\u001b[0;34m=\u001b[0m\u001b[0mtdarr\u001b[0m\u001b[0;34m.\u001b[0m\u001b[0mfreq\u001b[0m\u001b[0;34m,\u001b[0m \u001b[0mname\u001b[0m\u001b[0;34m=\u001b[0m\u001b[0mname\u001b[0m\u001b[0;34m)\u001b[0m\u001b[0;34m\u001b[0m\u001b[0;34m\u001b[0m\u001b[0m\n",
      "\u001b[0;32m/project/ccr/apgrass/miniconda3/envs/cmip6/lib/python3.7/site-packages/pandas/core/arrays/timedeltas.py\u001b[0m in \u001b[0;36m_from_sequence\u001b[0;34m(cls, data, dtype, copy, freq, unit)\u001b[0m\n\u001b[1;32m    270\u001b[0m         \u001b[0mfreq\u001b[0m\u001b[0;34m,\u001b[0m \u001b[0mfreq_infer\u001b[0m \u001b[0;34m=\u001b[0m \u001b[0mdtl\u001b[0m\u001b[0;34m.\u001b[0m\u001b[0mmaybe_infer_freq\u001b[0m\u001b[0;34m(\u001b[0m\u001b[0mfreq\u001b[0m\u001b[0;34m)\u001b[0m\u001b[0;34m\u001b[0m\u001b[0;34m\u001b[0m\u001b[0m\n\u001b[1;32m    271\u001b[0m \u001b[0;34m\u001b[0m\u001b[0m\n\u001b[0;32m--> 272\u001b[0;31m         \u001b[0mdata\u001b[0m\u001b[0;34m,\u001b[0m \u001b[0minferred_freq\u001b[0m \u001b[0;34m=\u001b[0m \u001b[0msequence_to_td64ns\u001b[0m\u001b[0;34m(\u001b[0m\u001b[0mdata\u001b[0m\u001b[0;34m,\u001b[0m \u001b[0mcopy\u001b[0m\u001b[0;34m=\u001b[0m\u001b[0mcopy\u001b[0m\u001b[0;34m,\u001b[0m \u001b[0munit\u001b[0m\u001b[0;34m=\u001b[0m\u001b[0munit\u001b[0m\u001b[0;34m)\u001b[0m\u001b[0;34m\u001b[0m\u001b[0;34m\u001b[0m\u001b[0m\n\u001b[0m\u001b[1;32m    273\u001b[0m         \u001b[0mfreq\u001b[0m\u001b[0;34m,\u001b[0m \u001b[0mfreq_infer\u001b[0m \u001b[0;34m=\u001b[0m \u001b[0mdtl\u001b[0m\u001b[0;34m.\u001b[0m\u001b[0mvalidate_inferred_freq\u001b[0m\u001b[0;34m(\u001b[0m\u001b[0mfreq\u001b[0m\u001b[0;34m,\u001b[0m \u001b[0minferred_freq\u001b[0m\u001b[0;34m,\u001b[0m \u001b[0mfreq_infer\u001b[0m\u001b[0;34m)\u001b[0m\u001b[0;34m\u001b[0m\u001b[0;34m\u001b[0m\u001b[0m\n\u001b[1;32m    274\u001b[0m \u001b[0;34m\u001b[0m\u001b[0m\n",
      "\u001b[0;32m/project/ccr/apgrass/miniconda3/envs/cmip6/lib/python3.7/site-packages/pandas/core/arrays/timedeltas.py\u001b[0m in \u001b[0;36msequence_to_td64ns\u001b[0;34m(data, copy, unit, errors)\u001b[0m\n\u001b[1;32m    971\u001b[0m     \u001b[0;32mif\u001b[0m \u001b[0mis_object_dtype\u001b[0m\u001b[0;34m(\u001b[0m\u001b[0mdata\u001b[0m\u001b[0;34m.\u001b[0m\u001b[0mdtype\u001b[0m\u001b[0;34m)\u001b[0m \u001b[0;32mor\u001b[0m \u001b[0mis_string_dtype\u001b[0m\u001b[0;34m(\u001b[0m\u001b[0mdata\u001b[0m\u001b[0;34m.\u001b[0m\u001b[0mdtype\u001b[0m\u001b[0;34m)\u001b[0m\u001b[0;34m:\u001b[0m\u001b[0;34m\u001b[0m\u001b[0;34m\u001b[0m\u001b[0m\n\u001b[1;32m    972\u001b[0m         \u001b[0;31m# no need to make a copy, need to convert if string-dtyped\u001b[0m\u001b[0;34m\u001b[0m\u001b[0;34m\u001b[0m\u001b[0;34m\u001b[0m\u001b[0m\n\u001b[0;32m--> 973\u001b[0;31m         \u001b[0mdata\u001b[0m \u001b[0;34m=\u001b[0m \u001b[0mobjects_to_td64ns\u001b[0m\u001b[0;34m(\u001b[0m\u001b[0mdata\u001b[0m\u001b[0;34m,\u001b[0m \u001b[0munit\u001b[0m\u001b[0;34m=\u001b[0m\u001b[0munit\u001b[0m\u001b[0;34m,\u001b[0m \u001b[0merrors\u001b[0m\u001b[0;34m=\u001b[0m\u001b[0merrors\u001b[0m\u001b[0;34m)\u001b[0m\u001b[0;34m\u001b[0m\u001b[0;34m\u001b[0m\u001b[0m\n\u001b[0m\u001b[1;32m    974\u001b[0m         \u001b[0mcopy\u001b[0m \u001b[0;34m=\u001b[0m \u001b[0;32mFalse\u001b[0m\u001b[0;34m\u001b[0m\u001b[0;34m\u001b[0m\u001b[0m\n\u001b[1;32m    975\u001b[0m \u001b[0;34m\u001b[0m\u001b[0m\n",
      "\u001b[0;32m/project/ccr/apgrass/miniconda3/envs/cmip6/lib/python3.7/site-packages/pandas/core/arrays/timedeltas.py\u001b[0m in \u001b[0;36mobjects_to_td64ns\u001b[0;34m(data, unit, errors)\u001b[0m\n\u001b[1;32m   1096\u001b[0m     \u001b[0mvalues\u001b[0m \u001b[0;34m=\u001b[0m \u001b[0mnp\u001b[0m\u001b[0;34m.\u001b[0m\u001b[0marray\u001b[0m\u001b[0;34m(\u001b[0m\u001b[0mdata\u001b[0m\u001b[0;34m,\u001b[0m \u001b[0mdtype\u001b[0m\u001b[0;34m=\u001b[0m\u001b[0mnp\u001b[0m\u001b[0;34m.\u001b[0m\u001b[0mobject_\u001b[0m\u001b[0;34m,\u001b[0m \u001b[0mcopy\u001b[0m\u001b[0;34m=\u001b[0m\u001b[0;32mFalse\u001b[0m\u001b[0;34m)\u001b[0m\u001b[0;34m\u001b[0m\u001b[0;34m\u001b[0m\u001b[0m\n\u001b[1;32m   1097\u001b[0m \u001b[0;34m\u001b[0m\u001b[0m\n\u001b[0;32m-> 1098\u001b[0;31m     \u001b[0mresult\u001b[0m \u001b[0;34m=\u001b[0m \u001b[0marray_to_timedelta64\u001b[0m\u001b[0;34m(\u001b[0m\u001b[0mvalues\u001b[0m\u001b[0;34m,\u001b[0m \u001b[0munit\u001b[0m\u001b[0;34m=\u001b[0m\u001b[0munit\u001b[0m\u001b[0;34m,\u001b[0m \u001b[0merrors\u001b[0m\u001b[0;34m=\u001b[0m\u001b[0merrors\u001b[0m\u001b[0;34m)\u001b[0m\u001b[0;34m\u001b[0m\u001b[0;34m\u001b[0m\u001b[0m\n\u001b[0m\u001b[1;32m   1099\u001b[0m     \u001b[0;32mreturn\u001b[0m \u001b[0mresult\u001b[0m\u001b[0;34m.\u001b[0m\u001b[0mview\u001b[0m\u001b[0;34m(\u001b[0m\u001b[0;34m\"timedelta64[ns]\"\u001b[0m\u001b[0;34m)\u001b[0m\u001b[0;34m\u001b[0m\u001b[0;34m\u001b[0m\u001b[0m\n\u001b[1;32m   1100\u001b[0m \u001b[0;34m\u001b[0m\u001b[0m\n",
      "\u001b[0;32mpandas/_libs/tslibs/timedeltas.pyx\u001b[0m in \u001b[0;36mpandas._libs.tslibs.timedeltas.array_to_timedelta64\u001b[0;34m()\u001b[0m\n",
      "\u001b[0;32mpandas/_libs/tslibs/timedeltas.pyx\u001b[0m in \u001b[0;36mpandas._libs.tslibs.timedeltas.convert_to_timedelta64\u001b[0;34m()\u001b[0m\n",
      "\u001b[0;32mpandas/_libs/tslibs/timedeltas.pyx\u001b[0m in \u001b[0;36mpandas._libs.tslibs.timedeltas.delta_to_nanoseconds\u001b[0;34m()\u001b[0m\n",
      "\u001b[0;31mOverflowError\u001b[0m: Python int too large to convert to C long"
     ]
    },
    {
     "name": "stderr",
     "output_type": "stream",
     "text": [
      "Exception ignored in: 'pandas._libs.algos.are_diff'\n",
      "Traceback (most recent call last):\n",
      "  File \"/project/ccr/apgrass/miniconda3/envs/cmip6/lib/python3.7/site-packages/xarray/coding/cftimeindex.py\", line 415, in __sub__\n",
      "    return pd.TimedeltaIndex(np.array(self) - np.array(other))\n",
      "  File \"/project/ccr/apgrass/miniconda3/envs/cmip6/lib/python3.7/site-packages/pandas/core/indexes/timedeltas.py\", line 258, in __new__\n",
      "    data, freq=freq, unit=unit, dtype=dtype, copy=copy\n",
      "  File \"/project/ccr/apgrass/miniconda3/envs/cmip6/lib/python3.7/site-packages/pandas/core/arrays/timedeltas.py\", line 272, in _from_sequence\n",
      "    data, inferred_freq = sequence_to_td64ns(data, copy=copy, unit=unit)\n",
      "  File \"/project/ccr/apgrass/miniconda3/envs/cmip6/lib/python3.7/site-packages/pandas/core/arrays/timedeltas.py\", line 973, in sequence_to_td64ns\n",
      "    data = objects_to_td64ns(data, unit=unit, errors=errors)\n",
      "  File \"/project/ccr/apgrass/miniconda3/envs/cmip6/lib/python3.7/site-packages/pandas/core/arrays/timedeltas.py\", line 1098, in objects_to_td64ns\n",
      "    result = array_to_timedelta64(values, unit=unit, errors=errors)\n",
      "  File \"pandas/_libs/tslibs/timedeltas.pyx\", line 236, in pandas._libs.tslibs.timedeltas.array_to_timedelta64\n",
      "  File \"pandas/_libs/tslibs/timedeltas.pyx\", line 199, in pandas._libs.tslibs.timedeltas.convert_to_timedelta64\n",
      "  File \"pandas/_libs/tslibs/timedeltas.pyx\", line 144, in pandas._libs.tslibs.timedeltas.delta_to_nanoseconds\n",
      "OverflowError: Python int too large to convert to C long\n"
     ]
    },
    {
     "name": "stdout",
     "output_type": "stream",
     "text": [
      "globalannualmean: IPSL-CM6A-LR r1i1p1f1 trying just first file\n",
      "150\n",
      "r2i1p1f1\n",
      "6\n",
      "r3i1p1f1\n",
      "6\n",
      "r4i1p1f1\n",
      "6\n",
      "r5i1p1f1\n",
      "6\n",
      "r6i1p1f1\n",
      "6\n",
      "r7i1p1f1\n",
      "6\n",
      "r8i1p1f1\n",
      "6\n",
      "r9i1p1f1\n",
      "6\n",
      "MIROC6: Area from cos lat\n",
      "r1i1p1f1\n",
      "150\n",
      "MRI-ESM2-0: Area from cos lat\n",
      "r10i1p1f1\n",
      "150\n",
      "r11i1p1f1\n",
      "6\n",
      "r12i1p1f1\n",
      "6\n",
      "r13i1p1f1\n",
      "150\n",
      "r1i1p1f1\n",
      "150\n",
      "r2i1p1f1\n",
      "6\n",
      "r3i1p1f1\n",
      "6\n",
      "r4i1p1f1\n",
      "150\n",
      "r5i1p1f1\n",
      "6\n",
      "r6i1p1f1\n",
      "6\n",
      "r7i1p1f1\n",
      "150\n",
      "r8i1p1f1\n",
      "6\n",
      "r9i1p1f1\n",
      "6\n",
      "SAM0-UNICON: Area from cos lat\n",
      "r1i1p1f1\n",
      "150\n",
      "UKESM1-0-LL: Area from cos lat\n",
      "r1i1p1f2\n",
      "150\n"
     ]
    }
   ],
   "source": [
    "# get rid of variants with less than 150 years of data for abrupt 4xCO2\n",
    "for model in list(ts4x_models):\n",
    "    thisModelArea = getModelAreacella(model)\n",
    "    for mem in list(ts4x_models[model].variants):\n",
    "        print(mem)\n",
    "        vGAm = globalannualmean(ts4x_models[model],thisModelArea.areacella,mem) \n",
    "        print(len(vGAm))\n",
    "        if len(vGAm)<150:\n",
    "            ts4x_models[model].variants.pop(mem)\n",
    "    "
   ]
  },
  {
   "cell_type": "code",
   "execution_count": 55,
   "metadata": {},
   "outputs": [
    {
     "name": "stdout",
     "output_type": "stream",
     "text": [
      "1\n",
      "1\n",
      "1\n",
      "1\n",
      "1\n",
      "3\n",
      "0\n",
      "1\n",
      "1\n",
      "1\n",
      "1\n",
      "1\n",
      "1\n",
      "5\n",
      "1\n",
      "1\n"
     ]
    }
   ],
   "source": [
    "# Make sure our models still have variants\n",
    "for model in list(ts4x_models):\n",
    "    print(len(ts4x_models[model].variants))\n",
    "    if len(ts4x_models[model].variants)==0:\n",
    "        ts4x_models.pop(model)"
   ]
  },
  {
   "cell_type": "code",
   "execution_count": 56,
   "metadata": {},
   "outputs": [
    {
     "data": {
      "text/plain": [
       "15"
      ]
     },
     "execution_count": 56,
     "metadata": {},
     "output_type": "execute_result"
    }
   ],
   "source": [
    "len(ts4x_models)\n",
    "#ts4x_models"
   ]
  },
  {
   "cell_type": "markdown",
   "metadata": {},
   "source": [
    "### Check and make sure areacella works for models other than NCAR"
   ]
  },
  {
   "cell_type": "code",
   "execution_count": 57,
   "metadata": {},
   "outputs": [
    {
     "name": "stdout",
     "output_type": "stream",
     "text": [
      "CESM2: Area from cos lat\n"
     ]
    },
    {
     "data": {
      "text/plain": [
       "<matplotlib.collections.QuadMesh at 0x7fbcd8334438>"
      ]
     },
     "execution_count": 57,
     "metadata": {},
     "output_type": "execute_result"
    },
    {
     "data": {
      "image/png": "[encoded data removed]",
      "text/plain": [
       "<Figure size 432x288 with 2 Axes>"
      ]
     },
     "metadata": {
      "needs_background": "light"
     },
     "output_type": "display_data"
    }
   ],
   "source": [
    "model = \"CESM2\"\n",
    "cesm4x = getOneModelExperimentVar(model,\"abrupt-4xCO2\",\"ts\")\n",
    "imem = list(cesm4x.variants)[0]\n",
    "thisModelArea = getModelAreacella(model)\n",
    "#dts = getChangeTimeseries(model,\"ts\",imem,thisModelArea.areacella)\n",
    "thisModelArea.areacella.plot()"
   ]
  },
  {
   "cell_type": "code",
   "execution_count": 58,
   "metadata": {},
   "outputs": [
    {
     "data": {
      "text/plain": [
       "'BCC-CSM2-MR'"
      ]
     },
     "execution_count": 58,
     "metadata": {},
     "output_type": "execute_result"
    }
   ],
   "source": [
    "list(ts4x_models)[0]"
   ]
  },
  {
   "cell_type": "code",
   "execution_count": 59,
   "metadata": {},
   "outputs": [
    {
     "name": "stdout",
     "output_type": "stream",
     "text": [
      "BCC-CSM2-MR: Area from cos lat\n"
     ]
    },
    {
     "data": {
      "text/plain": [
       "<matplotlib.collections.QuadMesh at 0x7fbcf8346b70>"
      ]
     },
     "execution_count": 59,
     "metadata": {},
     "output_type": "execute_result"
    },
    {
     "data": {
      "image/png": "[encoded data removed]",
      "text/plain": [
       "<Figure size 432x288 with 2 Axes>"
      ]
     },
     "metadata": {
      "needs_background": "light"
     },
     "output_type": "display_data"
    }
   ],
   "source": [
    "model=list(ts4x_models)[0]\n",
    "cnrm4x = getOneModelExperimentVar(model,\"abrupt-4xCO2\",\"ts\")\n",
    "imem = list(cnrm4x.variants)[0]\n",
    "thisModelArea = getModelAreacella(model)\n",
    "#dts = getChangeTimeseries(model,\"ts\",imem,thisModelArea.areacella)\n",
    "thisModelArea.areacella.plot()"
   ]
  },
  {
   "cell_type": "markdown",
   "metadata": {},
   "source": [
    "### Use our tools to get the data and calculate ECS"
   ]
  },
  {
   "cell_type": "code",
   "execution_count": 60,
   "metadata": {},
   "outputs": [],
   "source": [
    "ECS_models = ts4x_models"
   ]
  },
  {
   "cell_type": "code",
   "execution_count": 61,
   "metadata": {},
   "outputs": [
    {
     "data": {
      "text/plain": [
       "{'BCC-CSM2-MR': <__main__.ModelExpVar at 0x7fbcd8470898>,\n",
       " 'BCC-ESM1': <__main__.ModelExpVar at 0x7fbcd8470f60>,\n",
       " 'CESM2-WACCM': <__main__.ModelExpVar at 0x7fbcd8470a20>,\n",
       " 'CESM2': <__main__.ModelExpVar at 0x7fbcd8470710>,\n",
       " 'CNRM-CM6-1': <__main__.ModelExpVar at 0x7fbcd84703c8>,\n",
       " 'CNRM-ESM2-1': <__main__.ModelExpVar at 0x7fbcd8470a58>,\n",
       " 'EC-Earth3-Veg': <__main__.ModelExpVar at 0x7fbcd8470390>,\n",
       " 'GISS-E2-1-G': <__main__.ModelExpVar at 0x7fbcd8470198>,\n",
       " 'GISS-E2-1-H': <__main__.ModelExpVar at 0x7fbcd8470748>,\n",
       " 'HadGEM3-GC31-LL': <__main__.ModelExpVar at 0x7fbcd8470ac8>,\n",
       " 'IPSL-CM6A-LR': <__main__.ModelExpVar at 0x7fbcd8470320>,\n",
       " 'MIROC6': <__main__.ModelExpVar at 0x7fbcd84707b8>,\n",
       " 'MRI-ESM2-0': <__main__.ModelExpVar at 0x7fbcd84701d0>,\n",
       " 'SAM0-UNICON': <__main__.ModelExpVar at 0x7fbcd8470cc0>,\n",
       " 'UKESM1-0-LL': <__main__.ModelExpVar at 0x7fbcd84705f8>}"
      ]
     },
     "execution_count": 61,
     "metadata": {},
     "output_type": "execute_result"
    }
   ],
   "source": [
    "ts4x_models"
   ]
  },
  {
   "cell_type": "code",
   "execution_count": 43,
   "metadata": {},
   "outputs": [],
   "source": [
    "#file=\"/project/cmip6/piControl/Amon/ts/BCC-CSM2-MR/r1i1p1f1/gn/ts_Amon_BCC-CSM2-MR_piControl_r1i1p1f1_gn_185001-244912.nc\"\n",
    "#ds = xr.open_dataset(file)\n",
    "#endtimes = ds.time[-(12*30):]\n",
    "#print(endtimes)\n",
    "#print(aModelExpVar.variable)\n",
    "#it = ds.get(\"ts\")\n",
    "#it_c=it.sel(time=slice(endtimes[0],endtimes[-1])).mean(dim=('time'))\n",
    "#itGm=(it_c*weight).sum(dim=('lat','lon'))\n",
    "#c.append(itGm.values)\n",
    "#c.append(itGm.values)\n"
   ]
  },
  {
   "cell_type": "code",
   "execution_count": 65,
   "metadata": {},
   "outputs": [
    {
     "name": "stdout",
     "output_type": "stream",
     "text": [
      "BCC-CSM2-MR\n",
      "r1i1p1f1\n",
      "BCC-ESM1\n",
      "r1i1p1f1\n",
      "CESM2-WACCM\n",
      "r1i1p1f1\n",
      "CESM2\n",
      "r1i1p1f1\n",
      "CNRM-CM6-1\n",
      "r1i1p1f2\n",
      "CNRM-ESM2-1\n",
      "r1i1p1f2\n",
      "r2i1p1f2\n",
      "r3i1p1f2\n",
      "EC-Earth3-Veg\n",
      "r1i1p1f1\n",
      "GISS-E2-1-G\n",
      "r1i1p1f1\n",
      "GISS-E2-1-H\n",
      "r1i1p1f1\n",
      "HadGEM3-GC31-LL\n",
      "r1i1p1f3\n",
      "IPSL-CM6A-LR\n",
      "r1i1p1f1\n",
      "MIROC6\n",
      "r1i1p1f1\n",
      "MRI-ESM2-0\n",
      "r10i1p1f1\n",
      "r13i1p1f1\n",
      "r1i1p1f1\n",
      "r4i1p1f1\n",
      "r7i1p1f1\n",
      "SAM0-UNICON\n",
      "r1i1p1f1\n",
      "UKESM1-0-LL\n",
      "r1i1p1f2\n"
     ]
    }
   ],
   "source": [
    "ECS={}\n",
    "for model in list(ECS_models):\n",
    "    print(model)\n",
    "    allECS = []\n",
    "    for mem in list(ECS_models[model].variants):\n",
    "        print(mem)"
   ]
  },
  {
   "cell_type": "code",
   "execution_count": 66,
   "metadata": {},
   "outputs": [
    {
     "name": "stdout",
     "output_type": "stream",
     "text": [
      "BCC-CSM2-MR\n",
      "r1i1p1f1\n",
      "BCC-CSM2-MR: Area from cos lat\n",
      "/project/cmip6/piControl/Amon/ts/BCC-CSM2-MR/r1i1p1f1/gn/ts_Amon_BCC-CSM2-MR_piControl_r1i1p1f1_gn_185001-244912.nc\n",
      "ts\n",
      "/project/cmip6/piControl/Amon/rsdt/BCC-CSM2-MR/r1i1p1f1/gn/rsdt_Amon_BCC-CSM2-MR_piControl_r1i1p1f1_gn_185001-244912.nc\n",
      "rsdt\n",
      "/project/cmip6/piControl/Amon/rsut/BCC-CSM2-MR/r1i1p1f1/gn/rsut_Amon_BCC-CSM2-MR_piControl_r1i1p1f1_gn_185001-244912.nc\n",
      "rsut\n",
      "/project/cmip6/piControl/Amon/rlut/BCC-CSM2-MR/r1i1p1f1/gn/rlut_Amon_BCC-CSM2-MR_piControl_r1i1p1f1_gn_185001-244912.nc\n",
      "rlut\n",
      "2.9312830532206493\n",
      "BCC-ESM1\n",
      "r1i1p1f1\n",
      "BCC-ESM1: Area from cos lat\n",
      "/project/cmip6/piControl/Amon/ts/BCC-ESM1/r1i1p1f1/gn/ts_Amon_BCC-ESM1_piControl_r1i1p1f1_gn_185001-230012.nc\n",
      "ts\n",
      "/project/cmip6/piControl/Amon/rsdt/BCC-ESM1/r1i1p1f1/gn/rsdt_Amon_BCC-ESM1_piControl_r1i1p1f1_gn_185001-230012.nc\n",
      "rsdt\n",
      "/project/cmip6/piControl/Amon/rsut/BCC-ESM1/r1i1p1f1/gn/rsut_Amon_BCC-ESM1_piControl_r1i1p1f1_gn_185001-230012.nc\n",
      "rsut\n",
      "/project/cmip6/piControl/Amon/rlut/BCC-ESM1/r1i1p1f1/gn/rlut_Amon_BCC-ESM1_piControl_r1i1p1f1_gn_185001-230012.nc\n",
      "rlut\n",
      "3.3252584356072408\n",
      "CESM2-WACCM\n",
      "r1i1p1f1\n",
      "CESM2-WACCM: Area from cos lat\n",
      "/project/cmip6/piControl/Amon/ts/CESM2-WACCM/r1i1p1f1/gn/ts_Amon_CESM2-WACCM_piControl_r1i1p1f1_gn_000101-009912.nc\n",
      "ts\n",
      "/project/cmip6/piControl/Amon/rsdt/CESM2-WACCM/r1i1p1f1/gn/rsdt_Amon_CESM2-WACCM_piControl_r1i1p1f1_gn_000101-009912.nc\n",
      "rsdt\n",
      "/project/cmip6/piControl/Amon/rsut/CESM2-WACCM/r1i1p1f1/gn/rsut_Amon_CESM2-WACCM_piControl_r1i1p1f1_gn_000101-009912.nc\n",
      "rsut\n",
      "/project/cmip6/piControl/Amon/rlut/CESM2-WACCM/r1i1p1f1/gn/rlut_Amon_CESM2-WACCM_piControl_r1i1p1f1_gn_000101-009912.nc\n",
      "rlut\n",
      "4.603034591347171\n",
      "CESM2\n",
      "r1i1p1f1\n",
      "CESM2: Area from cos lat\n",
      "/project/cmip6/piControl/Amon/ts/CESM2/r1i1p1f1/gn/ts_Amon_CESM2_piControl_r1i1p1f1_gn_000101-009912.nc\n",
      "ts\n",
      "/project/cmip6/piControl/Amon/rsdt/CESM2/r1i1p1f1/gn/rsdt_Amon_CESM2_piControl_r1i1p1f1_gn_000101-009912.nc\n",
      "rsdt\n",
      "/project/cmip6/piControl/Amon/rsut/CESM2/r1i1p1f1/gn/rsut_Amon_CESM2_piControl_r1i1p1f1_gn_000101-009912.nc\n",
      "rsut\n",
      "/project/cmip6/piControl/Amon/rlut/CESM2/r1i1p1f1/gn/rlut_Amon_CESM2_piControl_r1i1p1f1_gn_000101-009912.nc\n",
      "rlut\n",
      "5.118533533959427\n",
      "CNRM-CM6-1\n",
      "r1i1p1f2\n",
      "CNRM-CM6-1: Area from cos lat\n",
      "/project/cmip6/piControl/Amon/ts/CNRM-CM6-1/r1i1p1f2/gr/ts_Amon_CNRM-CM6-1_piControl_r1i1p1f2_gr_185001-234912.nc\n",
      "ts\n",
      "/project/cmip6/piControl/Amon/rsdt/CNRM-CM6-1/r1i1p1f2/gr/rsdt_Amon_CNRM-CM6-1_piControl_r1i1p1f2_gr_185001-234912.nc\n",
      "rsdt\n",
      "/project/cmip6/piControl/Amon/rsut/CNRM-CM6-1/r1i1p1f2/gr/rsut_Amon_CNRM-CM6-1_piControl_r1i1p1f2_gr_185001-234912.nc\n",
      "rsut\n",
      "/project/cmip6/piControl/Amon/rlut/CNRM-CM6-1/r1i1p1f2/gr/rlut_Amon_CNRM-CM6-1_piControl_r1i1p1f2_gr_185001-234912.nc\n",
      "rlut\n",
      "4.7949075411770545\n",
      "CNRM-ESM2-1\n",
      "r1i1p1f2\n",
      "CNRM-ESM2-1: Area from cos lat\n",
      "/project/cmip6/piControl/Amon/ts/CNRM-ESM2-1/r1i1p1f2/gr/ts_Amon_CNRM-ESM2-1_piControl_r1i1p1f2_gr_185001-234912.nc\n",
      "ts\n",
      "/project/cmip6/piControl/Amon/rsdt/CNRM-ESM2-1/r1i1p1f2/gr/rsdt_Amon_CNRM-ESM2-1_piControl_r1i1p1f2_gr_185001-234912.nc\n",
      "rsdt\n",
      "/project/cmip6/piControl/Amon/rsut/CNRM-ESM2-1/r1i1p1f2/gr/rsut_Amon_CNRM-ESM2-1_piControl_r1i1p1f2_gr_185001-234912.nc\n",
      "rsut\n",
      "/project/cmip6/piControl/Amon/rlut/CNRM-ESM2-1/r1i1p1f2/gr/rlut_Amon_CNRM-ESM2-1_piControl_r1i1p1f2_gr_185001-234912.nc\n",
      "rlut\n",
      "4.684017334024744\n",
      "r2i1p1f2\n",
      "CNRM-ESM2-1: Area from cos lat\n",
      "/project/cmip6/piControl/Amon/ts/CNRM-ESM2-1/r1i1p1f2/gr/ts_Amon_CNRM-ESM2-1_piControl_r1i1p1f2_gr_185001-234912.nc\n",
      "ts\n",
      "/project/cmip6/piControl/Amon/rsdt/CNRM-ESM2-1/r1i1p1f2/gr/rsdt_Amon_CNRM-ESM2-1_piControl_r1i1p1f2_gr_185001-234912.nc\n",
      "rsdt\n",
      "/project/cmip6/piControl/Amon/rsut/CNRM-ESM2-1/r1i1p1f2/gr/rsut_Amon_CNRM-ESM2-1_piControl_r1i1p1f2_gr_185001-234912.nc\n",
      "rsut\n",
      "/project/cmip6/piControl/Amon/rlut/CNRM-ESM2-1/r1i1p1f2/gr/rlut_Amon_CNRM-ESM2-1_piControl_r1i1p1f2_gr_185001-234912.nc\n",
      "rlut\n",
      "4.555762403524064\n",
      "r3i1p1f2\n",
      "CNRM-ESM2-1: Area from cos lat\n",
      "/project/cmip6/piControl/Amon/ts/CNRM-ESM2-1/r1i1p1f2/gr/ts_Amon_CNRM-ESM2-1_piControl_r1i1p1f2_gr_185001-234912.nc\n",
      "ts\n",
      "/project/cmip6/piControl/Amon/rsdt/CNRM-ESM2-1/r1i1p1f2/gr/rsdt_Amon_CNRM-ESM2-1_piControl_r1i1p1f2_gr_185001-234912.nc\n",
      "rsdt\n",
      "/project/cmip6/piControl/Amon/rsut/CNRM-ESM2-1/r1i1p1f2/gr/rsut_Amon_CNRM-ESM2-1_piControl_r1i1p1f2_gr_185001-234912.nc\n",
      "rsut\n",
      "/project/cmip6/piControl/Amon/rlut/CNRM-ESM2-1/r1i1p1f2/gr/rlut_Amon_CNRM-ESM2-1_piControl_r1i1p1f2_gr_185001-234912.nc\n",
      "rlut\n",
      "4.722622159200362\n",
      "EC-Earth3-Veg\n",
      "r1i1p1f1\n",
      "EC-Earth3-Veg: Area from cos lat\n",
      "/project/cmip6/piControl/Amon/ts/EC-Earth3-Veg/r1i1p1f1/gr/ts_Amon_EC-Earth3-Veg_piControl_r1i1p1f1_gr_185001-185012.nc\n",
      "ts\n",
      "/project/cmip6/piControl/Amon/rsdt/EC-Earth3-Veg/r1i1p1f1/gr/rsdt_Amon_EC-Earth3-Veg_piControl_r1i1p1f1_gr_185001-185012.nc\n",
      "rsdt\n",
      "/project/cmip6/piControl/Amon/rsut/EC-Earth3-Veg/r1i1p1f1/gr/rsut_Amon_EC-Earth3-Veg_piControl_r1i1p1f1_gr_185001-185012.nc\n",
      "rsut\n",
      "/project/cmip6/piControl/Amon/rlut/EC-Earth3-Veg/r1i1p1f1/gr/rlut_Amon_EC-Earth3-Veg_piControl_r1i1p1f1_gr_185001-185012.nc\n",
      "rlut\n",
      "4.03204661998398\n",
      "GISS-E2-1-G\n",
      "r1i1p1f1\n",
      "GISS-E2-1-G: Area from cos lat\n",
      "/project/cmip6/piControl/Amon/ts/GISS-E2-1-G/r1i1p1f1/gn/ts_Amon_GISS-E2-1-G_piControl_r1i1p1f1_gn_415001-420012.nc\n",
      "ts\n",
      "/project/cmip6/piControl/Amon/rsdt/GISS-E2-1-G/r1i1p1f1/gn/rsdt_Amon_GISS-E2-1-G_piControl_r1i1p1f1_gn_415001-420012.nc\n",
      "rsdt\n",
      "/project/cmip6/piControl/Amon/rsut/GISS-E2-1-G/r1i1p1f1/gn/rsut_Amon_GISS-E2-1-G_piControl_r1i1p1f1_gn_415001-420012.nc\n",
      "rsut\n",
      "/project/cmip6/piControl/Amon/rlut/GISS-E2-1-G/r1i1p1f1/gn/rlut_Amon_GISS-E2-1-G_piControl_r1i1p1f1_gn_415001-420012.nc\n",
      "rlut\n",
      "2.589818297110948\n",
      "GISS-E2-1-H\n",
      "r1i1p1f1\n",
      "GISS-E2-1-H: Area from cos lat\n",
      "/project/cmip6/piControl/Amon/ts/GISS-E2-1-H/r1i1p1f1/gn/ts_Amon_GISS-E2-1-H_piControl_r1i1p1f1_gn_318001-323012.nc\n",
      "ts\n",
      "/project/cmip6/piControl/Amon/rsdt/GISS-E2-1-H/r1i1p1f1/gn/rsdt_Amon_GISS-E2-1-H_piControl_r1i1p1f1_gn_318001-323012.nc\n",
      "rsdt\n",
      "/project/cmip6/piControl/Amon/rsut/GISS-E2-1-H/r1i1p1f1/gn/rsut_Amon_GISS-E2-1-H_piControl_r1i1p1f1_gn_318001-323012.nc\n",
      "rsut\n",
      "/project/cmip6/piControl/Amon/rlut/GISS-E2-1-H/r1i1p1f1/gn/rlut_Amon_GISS-E2-1-H_piControl_r1i1p1f1_gn_318001-323012.nc\n",
      "rlut\n",
      "2.949423808175263\n",
      "HadGEM3-GC31-LL\n",
      "r1i1p1f3\n",
      "HadGEM3-GC31-LL: Area from cos lat\n",
      "/project/cmip6/piControl/Amon/ts/HadGEM3-GC31-LL/r1i1p1f1/gn/ts_Amon_HadGEM3-GC31-LL_piControl_r1i1p1f1_gn_185001-194912.nc\n",
      "ts\n",
      "/project/cmip6/piControl/Amon/rsdt/HadGEM3-GC31-LL/r1i1p1f1/gn/rsdt_Amon_HadGEM3-GC31-LL_piControl_r1i1p1f1_gn_185001-194912.nc\n",
      "rsdt\n",
      "/project/cmip6/piControl/Amon/rsdt/HadGEM3-GC31-LL/r3i1p1f1/gn/rsdt_Amon_HadGEM3-GC31-LL_piControl_r3i1p1f1_gn_185001-186912.nc\n",
      "rsdt\n",
      "/project/cmip6/piControl/Amon/rsut/HadGEM3-GC31-LL/r1i1p1f1/gn/rsut_Amon_HadGEM3-GC31-LL_piControl_r1i1p1f1_gn_185001-194912.nc\n",
      "rsut\n",
      "/project/cmip6/piControl/Amon/rsut/HadGEM3-GC31-LL/r3i1p1f1/gn/rsut_Amon_HadGEM3-GC31-LL_piControl_r3i1p1f1_gn_185001-186912.nc\n",
      "rsut\n",
      "/project/cmip6/piControl/Amon/rlut/HadGEM3-GC31-LL/r1i1p1f1/gn/rlut_Amon_HadGEM3-GC31-LL_piControl_r1i1p1f1_gn_185001-194912.nc\n",
      "rlut\n",
      "/project/cmip6/piControl/Amon/rlut/HadGEM3-GC31-LL/r3i1p1f1/gn/rlut_Amon_HadGEM3-GC31-LL_piControl_r3i1p1f1_gn_185001-186912.nc\n",
      "rlut\n",
      "5.407428220075852\n",
      "IPSL-CM6A-LR\n",
      "r1i1p1f1\n",
      "IPSL-CM6A-LR: Area from cos lat\n"
     ]
    },
    {
     "ename": "OverflowError",
     "evalue": "Python int too large to convert to C long",
     "output_type": "error",
     "traceback": [
      "\u001b[0;31m---------------------------------------------------------------------------\u001b[0m",
      "\u001b[0;31mTypeError\u001b[0m                                 Traceback (most recent call last)",
      "\u001b[0;32mpandas/_libs/tslibs/timedeltas.pyx\u001b[0m in \u001b[0;36mpandas._libs.tslibs.timedeltas.array_to_timedelta64\u001b[0;34m()\u001b[0m\n",
      "\u001b[0;32mpandas/_libs/tslibs/timedeltas.pyx\u001b[0m in \u001b[0;36mpandas._libs.tslibs.timedeltas.parse_timedelta_string\u001b[0;34m()\u001b[0m\n",
      "\u001b[0;31mTypeError\u001b[0m: object of type 'datetime.timedelta' has no len()",
      "\nDuring handling of the above exception, another exception occurred:\n",
      "\u001b[0;31mOverflowError\u001b[0m                             Traceback (most recent call last)",
      "\u001b[0;32m/project/ccr/apgrass/miniconda3/envs/cmip6/lib/python3.7/site-packages/xarray/coding/cftimeindex.py\u001b[0m in \u001b[0;36m__sub__\u001b[0;34m(self, other)\u001b[0m\n\u001b[1;32m    413\u001b[0m         \u001b[0;32mimport\u001b[0m \u001b[0mcftime\u001b[0m\u001b[0;34m\u001b[0m\u001b[0;34m\u001b[0m\u001b[0m\n\u001b[1;32m    414\u001b[0m         \u001b[0;32mif\u001b[0m \u001b[0misinstance\u001b[0m\u001b[0;34m(\u001b[0m\u001b[0mother\u001b[0m\u001b[0;34m,\u001b[0m \u001b[0;34m(\u001b[0m\u001b[0mCFTimeIndex\u001b[0m\u001b[0;34m,\u001b[0m \u001b[0mcftime\u001b[0m\u001b[0;34m.\u001b[0m\u001b[0mdatetime\u001b[0m\u001b[0;34m)\u001b[0m\u001b[0;34m)\u001b[0m\u001b[0;34m:\u001b[0m\u001b[0;34m\u001b[0m\u001b[0;34m\u001b[0m\u001b[0m\n\u001b[0;32m--> 415\u001b[0;31m             \u001b[0;32mreturn\u001b[0m \u001b[0mpd\u001b[0m\u001b[0;34m.\u001b[0m\u001b[0mTimedeltaIndex\u001b[0m\u001b[0;34m(\u001b[0m\u001b[0mnp\u001b[0m\u001b[0;34m.\u001b[0m\u001b[0marray\u001b[0m\u001b[0;34m(\u001b[0m\u001b[0mself\u001b[0m\u001b[0;34m)\u001b[0m \u001b[0;34m-\u001b[0m \u001b[0mnp\u001b[0m\u001b[0;34m.\u001b[0m\u001b[0marray\u001b[0m\u001b[0;34m(\u001b[0m\u001b[0mother\u001b[0m\u001b[0;34m)\u001b[0m\u001b[0;34m)\u001b[0m\u001b[0;34m\u001b[0m\u001b[0;34m\u001b[0m\u001b[0m\n\u001b[0m\u001b[1;32m    416\u001b[0m         \u001b[0;32melif\u001b[0m \u001b[0misinstance\u001b[0m\u001b[0;34m(\u001b[0m\u001b[0mother\u001b[0m\u001b[0;34m,\u001b[0m \u001b[0mpd\u001b[0m\u001b[0;34m.\u001b[0m\u001b[0mTimedeltaIndex\u001b[0m\u001b[0;34m)\u001b[0m\u001b[0;34m:\u001b[0m\u001b[0;34m\u001b[0m\u001b[0;34m\u001b[0m\u001b[0m\n\u001b[1;32m    417\u001b[0m             \u001b[0;32mreturn\u001b[0m \u001b[0mCFTimeIndex\u001b[0m\u001b[0;34m(\u001b[0m\u001b[0mnp\u001b[0m\u001b[0;34m.\u001b[0m\u001b[0marray\u001b[0m\u001b[0;34m(\u001b[0m\u001b[0mself\u001b[0m\u001b[0;34m)\u001b[0m \u001b[0;34m-\u001b[0m \u001b[0mother\u001b[0m\u001b[0;34m.\u001b[0m\u001b[0mto_pytimedelta\u001b[0m\u001b[0;34m(\u001b[0m\u001b[0;34m)\u001b[0m\u001b[0;34m)\u001b[0m\u001b[0;34m\u001b[0m\u001b[0;34m\u001b[0m\u001b[0m\n",
      "\u001b[0;32m/project/ccr/apgrass/miniconda3/envs/cmip6/lib/python3.7/site-packages/pandas/core/indexes/timedeltas.py\u001b[0m in \u001b[0;36m__new__\u001b[0;34m(cls, data, unit, freq, start, end, periods, closed, dtype, copy, name, verify_integrity)\u001b[0m\n\u001b[1;32m    256\u001b[0m \u001b[0;34m\u001b[0m\u001b[0m\n\u001b[1;32m    257\u001b[0m         tdarr = TimedeltaArray._from_sequence(\n\u001b[0;32m--> 258\u001b[0;31m             \u001b[0mdata\u001b[0m\u001b[0;34m,\u001b[0m \u001b[0mfreq\u001b[0m\u001b[0;34m=\u001b[0m\u001b[0mfreq\u001b[0m\u001b[0;34m,\u001b[0m \u001b[0munit\u001b[0m\u001b[0;34m=\u001b[0m\u001b[0munit\u001b[0m\u001b[0;34m,\u001b[0m \u001b[0mdtype\u001b[0m\u001b[0;34m=\u001b[0m\u001b[0mdtype\u001b[0m\u001b[0;34m,\u001b[0m \u001b[0mcopy\u001b[0m\u001b[0;34m=\u001b[0m\u001b[0mcopy\u001b[0m\u001b[0;34m\u001b[0m\u001b[0;34m\u001b[0m\u001b[0m\n\u001b[0m\u001b[1;32m    259\u001b[0m         )\n\u001b[1;32m    260\u001b[0m         \u001b[0;32mreturn\u001b[0m \u001b[0mcls\u001b[0m\u001b[0;34m.\u001b[0m\u001b[0m_simple_new\u001b[0m\u001b[0;34m(\u001b[0m\u001b[0mtdarr\u001b[0m\u001b[0;34m.\u001b[0m\u001b[0m_data\u001b[0m\u001b[0;34m,\u001b[0m \u001b[0mfreq\u001b[0m\u001b[0;34m=\u001b[0m\u001b[0mtdarr\u001b[0m\u001b[0;34m.\u001b[0m\u001b[0mfreq\u001b[0m\u001b[0;34m,\u001b[0m \u001b[0mname\u001b[0m\u001b[0;34m=\u001b[0m\u001b[0mname\u001b[0m\u001b[0;34m)\u001b[0m\u001b[0;34m\u001b[0m\u001b[0;34m\u001b[0m\u001b[0m\n",
      "\u001b[0;32m/project/ccr/apgrass/miniconda3/envs/cmip6/lib/python3.7/site-packages/pandas/core/arrays/timedeltas.py\u001b[0m in \u001b[0;36m_from_sequence\u001b[0;34m(cls, data, dtype, copy, freq, unit)\u001b[0m\n\u001b[1;32m    270\u001b[0m         \u001b[0mfreq\u001b[0m\u001b[0;34m,\u001b[0m \u001b[0mfreq_infer\u001b[0m \u001b[0;34m=\u001b[0m \u001b[0mdtl\u001b[0m\u001b[0;34m.\u001b[0m\u001b[0mmaybe_infer_freq\u001b[0m\u001b[0;34m(\u001b[0m\u001b[0mfreq\u001b[0m\u001b[0;34m)\u001b[0m\u001b[0;34m\u001b[0m\u001b[0;34m\u001b[0m\u001b[0m\n\u001b[1;32m    271\u001b[0m \u001b[0;34m\u001b[0m\u001b[0m\n\u001b[0;32m--> 272\u001b[0;31m         \u001b[0mdata\u001b[0m\u001b[0;34m,\u001b[0m \u001b[0minferred_freq\u001b[0m \u001b[0;34m=\u001b[0m \u001b[0msequence_to_td64ns\u001b[0m\u001b[0;34m(\u001b[0m\u001b[0mdata\u001b[0m\u001b[0;34m,\u001b[0m \u001b[0mcopy\u001b[0m\u001b[0;34m=\u001b[0m\u001b[0mcopy\u001b[0m\u001b[0;34m,\u001b[0m \u001b[0munit\u001b[0m\u001b[0;34m=\u001b[0m\u001b[0munit\u001b[0m\u001b[0;34m)\u001b[0m\u001b[0;34m\u001b[0m\u001b[0;34m\u001b[0m\u001b[0m\n\u001b[0m\u001b[1;32m    273\u001b[0m         \u001b[0mfreq\u001b[0m\u001b[0;34m,\u001b[0m \u001b[0mfreq_infer\u001b[0m \u001b[0;34m=\u001b[0m \u001b[0mdtl\u001b[0m\u001b[0;34m.\u001b[0m\u001b[0mvalidate_inferred_freq\u001b[0m\u001b[0;34m(\u001b[0m\u001b[0mfreq\u001b[0m\u001b[0;34m,\u001b[0m \u001b[0minferred_freq\u001b[0m\u001b[0;34m,\u001b[0m \u001b[0mfreq_infer\u001b[0m\u001b[0;34m)\u001b[0m\u001b[0;34m\u001b[0m\u001b[0;34m\u001b[0m\u001b[0m\n\u001b[1;32m    274\u001b[0m \u001b[0;34m\u001b[0m\u001b[0m\n",
      "\u001b[0;32m/project/ccr/apgrass/miniconda3/envs/cmip6/lib/python3.7/site-packages/pandas/core/arrays/timedeltas.py\u001b[0m in \u001b[0;36msequence_to_td64ns\u001b[0;34m(data, copy, unit, errors)\u001b[0m\n\u001b[1;32m    971\u001b[0m     \u001b[0;32mif\u001b[0m \u001b[0mis_object_dtype\u001b[0m\u001b[0;34m(\u001b[0m\u001b[0mdata\u001b[0m\u001b[0;34m.\u001b[0m\u001b[0mdtype\u001b[0m\u001b[0;34m)\u001b[0m \u001b[0;32mor\u001b[0m \u001b[0mis_string_dtype\u001b[0m\u001b[0;34m(\u001b[0m\u001b[0mdata\u001b[0m\u001b[0;34m.\u001b[0m\u001b[0mdtype\u001b[0m\u001b[0;34m)\u001b[0m\u001b[0;34m:\u001b[0m\u001b[0;34m\u001b[0m\u001b[0;34m\u001b[0m\u001b[0m\n\u001b[1;32m    972\u001b[0m         \u001b[0;31m# no need to make a copy, need to convert if string-dtyped\u001b[0m\u001b[0;34m\u001b[0m\u001b[0;34m\u001b[0m\u001b[0;34m\u001b[0m\u001b[0m\n\u001b[0;32m--> 973\u001b[0;31m         \u001b[0mdata\u001b[0m \u001b[0;34m=\u001b[0m \u001b[0mobjects_to_td64ns\u001b[0m\u001b[0;34m(\u001b[0m\u001b[0mdata\u001b[0m\u001b[0;34m,\u001b[0m \u001b[0munit\u001b[0m\u001b[0;34m=\u001b[0m\u001b[0munit\u001b[0m\u001b[0;34m,\u001b[0m \u001b[0merrors\u001b[0m\u001b[0;34m=\u001b[0m\u001b[0merrors\u001b[0m\u001b[0;34m)\u001b[0m\u001b[0;34m\u001b[0m\u001b[0;34m\u001b[0m\u001b[0m\n\u001b[0m\u001b[1;32m    974\u001b[0m         \u001b[0mcopy\u001b[0m \u001b[0;34m=\u001b[0m \u001b[0;32mFalse\u001b[0m\u001b[0;34m\u001b[0m\u001b[0;34m\u001b[0m\u001b[0m\n\u001b[1;32m    975\u001b[0m \u001b[0;34m\u001b[0m\u001b[0m\n",
      "\u001b[0;32m/project/ccr/apgrass/miniconda3/envs/cmip6/lib/python3.7/site-packages/pandas/core/arrays/timedeltas.py\u001b[0m in \u001b[0;36mobjects_to_td64ns\u001b[0;34m(data, unit, errors)\u001b[0m\n\u001b[1;32m   1096\u001b[0m     \u001b[0mvalues\u001b[0m \u001b[0;34m=\u001b[0m \u001b[0mnp\u001b[0m\u001b[0;34m.\u001b[0m\u001b[0marray\u001b[0m\u001b[0;34m(\u001b[0m\u001b[0mdata\u001b[0m\u001b[0;34m,\u001b[0m \u001b[0mdtype\u001b[0m\u001b[0;34m=\u001b[0m\u001b[0mnp\u001b[0m\u001b[0;34m.\u001b[0m\u001b[0mobject_\u001b[0m\u001b[0;34m,\u001b[0m \u001b[0mcopy\u001b[0m\u001b[0;34m=\u001b[0m\u001b[0;32mFalse\u001b[0m\u001b[0;34m)\u001b[0m\u001b[0;34m\u001b[0m\u001b[0;34m\u001b[0m\u001b[0m\n\u001b[1;32m   1097\u001b[0m \u001b[0;34m\u001b[0m\u001b[0m\n\u001b[0;32m-> 1098\u001b[0;31m     \u001b[0mresult\u001b[0m \u001b[0;34m=\u001b[0m \u001b[0marray_to_timedelta64\u001b[0m\u001b[0;34m(\u001b[0m\u001b[0mvalues\u001b[0m\u001b[0;34m,\u001b[0m \u001b[0munit\u001b[0m\u001b[0;34m=\u001b[0m\u001b[0munit\u001b[0m\u001b[0;34m,\u001b[0m \u001b[0merrors\u001b[0m\u001b[0;34m=\u001b[0m\u001b[0merrors\u001b[0m\u001b[0;34m)\u001b[0m\u001b[0;34m\u001b[0m\u001b[0;34m\u001b[0m\u001b[0m\n\u001b[0m\u001b[1;32m   1099\u001b[0m     \u001b[0;32mreturn\u001b[0m \u001b[0mresult\u001b[0m\u001b[0;34m.\u001b[0m\u001b[0mview\u001b[0m\u001b[0;34m(\u001b[0m\u001b[0;34m\"timedelta64[ns]\"\u001b[0m\u001b[0;34m)\u001b[0m\u001b[0;34m\u001b[0m\u001b[0;34m\u001b[0m\u001b[0m\n\u001b[1;32m   1100\u001b[0m \u001b[0;34m\u001b[0m\u001b[0m\n",
      "\u001b[0;32mpandas/_libs/tslibs/timedeltas.pyx\u001b[0m in \u001b[0;36mpandas._libs.tslibs.timedeltas.array_to_timedelta64\u001b[0;34m()\u001b[0m\n",
      "\u001b[0;32mpandas/_libs/tslibs/timedeltas.pyx\u001b[0m in \u001b[0;36mpandas._libs.tslibs.timedeltas.convert_to_timedelta64\u001b[0;34m()\u001b[0m\n",
      "\u001b[0;32mpandas/_libs/tslibs/timedeltas.pyx\u001b[0m in \u001b[0;36mpandas._libs.tslibs.timedeltas.delta_to_nanoseconds\u001b[0;34m()\u001b[0m\n",
      "\u001b[0;31mOverflowError\u001b[0m: Python int too large to convert to C long"
     ]
    },
    {
     "name": "stderr",
     "output_type": "stream",
     "text": [
      "Exception ignored in: 'pandas._libs.algos.are_diff'\n",
      "Traceback (most recent call last):\n",
      "  File \"/project/ccr/apgrass/miniconda3/envs/cmip6/lib/python3.7/site-packages/xarray/coding/cftimeindex.py\", line 415, in __sub__\n",
      "    return pd.TimedeltaIndex(np.array(self) - np.array(other))\n",
      "  File \"/project/ccr/apgrass/miniconda3/envs/cmip6/lib/python3.7/site-packages/pandas/core/indexes/timedeltas.py\", line 258, in __new__\n",
      "    data, freq=freq, unit=unit, dtype=dtype, copy=copy\n",
      "  File \"/project/ccr/apgrass/miniconda3/envs/cmip6/lib/python3.7/site-packages/pandas/core/arrays/timedeltas.py\", line 272, in _from_sequence\n",
      "    data, inferred_freq = sequence_to_td64ns(data, copy=copy, unit=unit)\n",
      "  File \"/project/ccr/apgrass/miniconda3/envs/cmip6/lib/python3.7/site-packages/pandas/core/arrays/timedeltas.py\", line 973, in sequence_to_td64ns\n",
      "    data = objects_to_td64ns(data, unit=unit, errors=errors)\n",
      "  File \"/project/ccr/apgrass/miniconda3/envs/cmip6/lib/python3.7/site-packages/pandas/core/arrays/timedeltas.py\", line 1098, in objects_to_td64ns\n",
      "    result = array_to_timedelta64(values, unit=unit, errors=errors)\n",
      "  File \"pandas/_libs/tslibs/timedeltas.pyx\", line 236, in pandas._libs.tslibs.timedeltas.array_to_timedelta64\n",
      "  File \"pandas/_libs/tslibs/timedeltas.pyx\", line 199, in pandas._libs.tslibs.timedeltas.convert_to_timedelta64\n",
      "  File \"pandas/_libs/tslibs/timedeltas.pyx\", line 144, in pandas._libs.tslibs.timedeltas.delta_to_nanoseconds\n",
      "OverflowError: Python int too large to convert to C long\n"
     ]
    },
    {
     "name": "stdout",
     "output_type": "stream",
     "text": [
      "globalannualmean: IPSL-CM6A-LR r1i1p1f1 trying just first file\n",
      "/project/cmip6/piControl/Amon/ts/IPSL-CM6A-LR/r1i1p1f1/gr/ts_Amon_IPSL-CM6A-LR_piControl_r1i1p1f1_gr_185001-234912.nc\n"
     ]
    },
    {
     "ename": "OverflowError",
     "evalue": "Python int too large to convert to C long",
     "output_type": "error",
     "traceback": [
      "\u001b[0;31m---------------------------------------------------------------------------\u001b[0m",
      "\u001b[0;31mTypeError\u001b[0m                                 Traceback (most recent call last)",
      "\u001b[0;32mpandas/_libs/tslibs/timedeltas.pyx\u001b[0m in \u001b[0;36mpandas._libs.tslibs.timedeltas.array_to_timedelta64\u001b[0;34m()\u001b[0m\n",
      "\u001b[0;32mpandas/_libs/tslibs/timedeltas.pyx\u001b[0m in \u001b[0;36mpandas._libs.tslibs.timedeltas.parse_timedelta_string\u001b[0;34m()\u001b[0m\n",
      "\u001b[0;31mTypeError\u001b[0m: object of type 'datetime.timedelta' has no len()",
      "\nDuring handling of the above exception, another exception occurred:\n",
      "\u001b[0;31mOverflowError\u001b[0m                             Traceback (most recent call last)",
      "\u001b[0;32m/project/ccr/apgrass/miniconda3/envs/cmip6/lib/python3.7/site-packages/xarray/coding/cftimeindex.py\u001b[0m in \u001b[0;36m__sub__\u001b[0;34m(self, other)\u001b[0m\n\u001b[1;32m    413\u001b[0m         \u001b[0;32mimport\u001b[0m \u001b[0mcftime\u001b[0m\u001b[0;34m\u001b[0m\u001b[0;34m\u001b[0m\u001b[0m\n\u001b[1;32m    414\u001b[0m         \u001b[0;32mif\u001b[0m \u001b[0misinstance\u001b[0m\u001b[0;34m(\u001b[0m\u001b[0mother\u001b[0m\u001b[0;34m,\u001b[0m \u001b[0;34m(\u001b[0m\u001b[0mCFTimeIndex\u001b[0m\u001b[0;34m,\u001b[0m \u001b[0mcftime\u001b[0m\u001b[0;34m.\u001b[0m\u001b[0mdatetime\u001b[0m\u001b[0;34m)\u001b[0m\u001b[0;34m)\u001b[0m\u001b[0;34m:\u001b[0m\u001b[0;34m\u001b[0m\u001b[0;34m\u001b[0m\u001b[0m\n\u001b[0;32m--> 415\u001b[0;31m             \u001b[0;32mreturn\u001b[0m \u001b[0mpd\u001b[0m\u001b[0;34m.\u001b[0m\u001b[0mTimedeltaIndex\u001b[0m\u001b[0;34m(\u001b[0m\u001b[0mnp\u001b[0m\u001b[0;34m.\u001b[0m\u001b[0marray\u001b[0m\u001b[0;34m(\u001b[0m\u001b[0mself\u001b[0m\u001b[0;34m)\u001b[0m \u001b[0;34m-\u001b[0m \u001b[0mnp\u001b[0m\u001b[0;34m.\u001b[0m\u001b[0marray\u001b[0m\u001b[0;34m(\u001b[0m\u001b[0mother\u001b[0m\u001b[0;34m)\u001b[0m\u001b[0;34m)\u001b[0m\u001b[0;34m\u001b[0m\u001b[0;34m\u001b[0m\u001b[0m\n\u001b[0m\u001b[1;32m    416\u001b[0m         \u001b[0;32melif\u001b[0m \u001b[0misinstance\u001b[0m\u001b[0;34m(\u001b[0m\u001b[0mother\u001b[0m\u001b[0;34m,\u001b[0m \u001b[0mpd\u001b[0m\u001b[0;34m.\u001b[0m\u001b[0mTimedeltaIndex\u001b[0m\u001b[0;34m)\u001b[0m\u001b[0;34m:\u001b[0m\u001b[0;34m\u001b[0m\u001b[0;34m\u001b[0m\u001b[0m\n\u001b[1;32m    417\u001b[0m             \u001b[0;32mreturn\u001b[0m \u001b[0mCFTimeIndex\u001b[0m\u001b[0;34m(\u001b[0m\u001b[0mnp\u001b[0m\u001b[0;34m.\u001b[0m\u001b[0marray\u001b[0m\u001b[0;34m(\u001b[0m\u001b[0mself\u001b[0m\u001b[0;34m)\u001b[0m \u001b[0;34m-\u001b[0m \u001b[0mother\u001b[0m\u001b[0;34m.\u001b[0m\u001b[0mto_pytimedelta\u001b[0m\u001b[0;34m(\u001b[0m\u001b[0;34m)\u001b[0m\u001b[0;34m)\u001b[0m\u001b[0;34m\u001b[0m\u001b[0;34m\u001b[0m\u001b[0m\n",
      "\u001b[0;32m/project/ccr/apgrass/miniconda3/envs/cmip6/lib/python3.7/site-packages/pandas/core/indexes/timedeltas.py\u001b[0m in \u001b[0;36m__new__\u001b[0;34m(cls, data, unit, freq, start, end, periods, closed, dtype, copy, name, verify_integrity)\u001b[0m\n\u001b[1;32m    256\u001b[0m \u001b[0;34m\u001b[0m\u001b[0m\n\u001b[1;32m    257\u001b[0m         tdarr = TimedeltaArray._from_sequence(\n\u001b[0;32m--> 258\u001b[0;31m             \u001b[0mdata\u001b[0m\u001b[0;34m,\u001b[0m \u001b[0mfreq\u001b[0m\u001b[0;34m=\u001b[0m\u001b[0mfreq\u001b[0m\u001b[0;34m,\u001b[0m \u001b[0munit\u001b[0m\u001b[0;34m=\u001b[0m\u001b[0munit\u001b[0m\u001b[0;34m,\u001b[0m \u001b[0mdtype\u001b[0m\u001b[0;34m=\u001b[0m\u001b[0mdtype\u001b[0m\u001b[0;34m,\u001b[0m \u001b[0mcopy\u001b[0m\u001b[0;34m=\u001b[0m\u001b[0mcopy\u001b[0m\u001b[0;34m\u001b[0m\u001b[0;34m\u001b[0m\u001b[0m\n\u001b[0m\u001b[1;32m    259\u001b[0m         )\n\u001b[1;32m    260\u001b[0m         \u001b[0;32mreturn\u001b[0m \u001b[0mcls\u001b[0m\u001b[0;34m.\u001b[0m\u001b[0m_simple_new\u001b[0m\u001b[0;34m(\u001b[0m\u001b[0mtdarr\u001b[0m\u001b[0;34m.\u001b[0m\u001b[0m_data\u001b[0m\u001b[0;34m,\u001b[0m \u001b[0mfreq\u001b[0m\u001b[0;34m=\u001b[0m\u001b[0mtdarr\u001b[0m\u001b[0;34m.\u001b[0m\u001b[0mfreq\u001b[0m\u001b[0;34m,\u001b[0m \u001b[0mname\u001b[0m\u001b[0;34m=\u001b[0m\u001b[0mname\u001b[0m\u001b[0;34m)\u001b[0m\u001b[0;34m\u001b[0m\u001b[0;34m\u001b[0m\u001b[0m\n",
      "\u001b[0;32m/project/ccr/apgrass/miniconda3/envs/cmip6/lib/python3.7/site-packages/pandas/core/arrays/timedeltas.py\u001b[0m in \u001b[0;36m_from_sequence\u001b[0;34m(cls, data, dtype, copy, freq, unit)\u001b[0m\n\u001b[1;32m    270\u001b[0m         \u001b[0mfreq\u001b[0m\u001b[0;34m,\u001b[0m \u001b[0mfreq_infer\u001b[0m \u001b[0;34m=\u001b[0m \u001b[0mdtl\u001b[0m\u001b[0;34m.\u001b[0m\u001b[0mmaybe_infer_freq\u001b[0m\u001b[0;34m(\u001b[0m\u001b[0mfreq\u001b[0m\u001b[0;34m)\u001b[0m\u001b[0;34m\u001b[0m\u001b[0;34m\u001b[0m\u001b[0m\n\u001b[1;32m    271\u001b[0m \u001b[0;34m\u001b[0m\u001b[0m\n\u001b[0;32m--> 272\u001b[0;31m         \u001b[0mdata\u001b[0m\u001b[0;34m,\u001b[0m \u001b[0minferred_freq\u001b[0m \u001b[0;34m=\u001b[0m \u001b[0msequence_to_td64ns\u001b[0m\u001b[0;34m(\u001b[0m\u001b[0mdata\u001b[0m\u001b[0;34m,\u001b[0m \u001b[0mcopy\u001b[0m\u001b[0;34m=\u001b[0m\u001b[0mcopy\u001b[0m\u001b[0;34m,\u001b[0m \u001b[0munit\u001b[0m\u001b[0;34m=\u001b[0m\u001b[0munit\u001b[0m\u001b[0;34m)\u001b[0m\u001b[0;34m\u001b[0m\u001b[0;34m\u001b[0m\u001b[0m\n\u001b[0m\u001b[1;32m    273\u001b[0m         \u001b[0mfreq\u001b[0m\u001b[0;34m,\u001b[0m \u001b[0mfreq_infer\u001b[0m \u001b[0;34m=\u001b[0m \u001b[0mdtl\u001b[0m\u001b[0;34m.\u001b[0m\u001b[0mvalidate_inferred_freq\u001b[0m\u001b[0;34m(\u001b[0m\u001b[0mfreq\u001b[0m\u001b[0;34m,\u001b[0m \u001b[0minferred_freq\u001b[0m\u001b[0;34m,\u001b[0m \u001b[0mfreq_infer\u001b[0m\u001b[0;34m)\u001b[0m\u001b[0;34m\u001b[0m\u001b[0;34m\u001b[0m\u001b[0m\n\u001b[1;32m    274\u001b[0m \u001b[0;34m\u001b[0m\u001b[0m\n",
      "\u001b[0;32m/project/ccr/apgrass/miniconda3/envs/cmip6/lib/python3.7/site-packages/pandas/core/arrays/timedeltas.py\u001b[0m in \u001b[0;36msequence_to_td64ns\u001b[0;34m(data, copy, unit, errors)\u001b[0m\n\u001b[1;32m    971\u001b[0m     \u001b[0;32mif\u001b[0m \u001b[0mis_object_dtype\u001b[0m\u001b[0;34m(\u001b[0m\u001b[0mdata\u001b[0m\u001b[0;34m.\u001b[0m\u001b[0mdtype\u001b[0m\u001b[0;34m)\u001b[0m \u001b[0;32mor\u001b[0m \u001b[0mis_string_dtype\u001b[0m\u001b[0;34m(\u001b[0m\u001b[0mdata\u001b[0m\u001b[0;34m.\u001b[0m\u001b[0mdtype\u001b[0m\u001b[0;34m)\u001b[0m\u001b[0;34m:\u001b[0m\u001b[0;34m\u001b[0m\u001b[0;34m\u001b[0m\u001b[0m\n\u001b[1;32m    972\u001b[0m         \u001b[0;31m# no need to make a copy, need to convert if string-dtyped\u001b[0m\u001b[0;34m\u001b[0m\u001b[0;34m\u001b[0m\u001b[0;34m\u001b[0m\u001b[0m\n\u001b[0;32m--> 973\u001b[0;31m         \u001b[0mdata\u001b[0m \u001b[0;34m=\u001b[0m \u001b[0mobjects_to_td64ns\u001b[0m\u001b[0;34m(\u001b[0m\u001b[0mdata\u001b[0m\u001b[0;34m,\u001b[0m \u001b[0munit\u001b[0m\u001b[0;34m=\u001b[0m\u001b[0munit\u001b[0m\u001b[0;34m,\u001b[0m \u001b[0merrors\u001b[0m\u001b[0;34m=\u001b[0m\u001b[0merrors\u001b[0m\u001b[0;34m)\u001b[0m\u001b[0;34m\u001b[0m\u001b[0;34m\u001b[0m\u001b[0m\n\u001b[0m\u001b[1;32m    974\u001b[0m         \u001b[0mcopy\u001b[0m \u001b[0;34m=\u001b[0m \u001b[0;32mFalse\u001b[0m\u001b[0;34m\u001b[0m\u001b[0;34m\u001b[0m\u001b[0m\n\u001b[1;32m    975\u001b[0m \u001b[0;34m\u001b[0m\u001b[0m\n",
      "\u001b[0;32m/project/ccr/apgrass/miniconda3/envs/cmip6/lib/python3.7/site-packages/pandas/core/arrays/timedeltas.py\u001b[0m in \u001b[0;36mobjects_to_td64ns\u001b[0;34m(data, unit, errors)\u001b[0m\n\u001b[1;32m   1096\u001b[0m     \u001b[0mvalues\u001b[0m \u001b[0;34m=\u001b[0m \u001b[0mnp\u001b[0m\u001b[0;34m.\u001b[0m\u001b[0marray\u001b[0m\u001b[0;34m(\u001b[0m\u001b[0mdata\u001b[0m\u001b[0;34m,\u001b[0m \u001b[0mdtype\u001b[0m\u001b[0;34m=\u001b[0m\u001b[0mnp\u001b[0m\u001b[0;34m.\u001b[0m\u001b[0mobject_\u001b[0m\u001b[0;34m,\u001b[0m \u001b[0mcopy\u001b[0m\u001b[0;34m=\u001b[0m\u001b[0;32mFalse\u001b[0m\u001b[0;34m)\u001b[0m\u001b[0;34m\u001b[0m\u001b[0;34m\u001b[0m\u001b[0m\n\u001b[1;32m   1097\u001b[0m \u001b[0;34m\u001b[0m\u001b[0m\n\u001b[0;32m-> 1098\u001b[0;31m     \u001b[0mresult\u001b[0m \u001b[0;34m=\u001b[0m \u001b[0marray_to_timedelta64\u001b[0m\u001b[0;34m(\u001b[0m\u001b[0mvalues\u001b[0m\u001b[0;34m,\u001b[0m \u001b[0munit\u001b[0m\u001b[0;34m=\u001b[0m\u001b[0munit\u001b[0m\u001b[0;34m,\u001b[0m \u001b[0merrors\u001b[0m\u001b[0;34m=\u001b[0m\u001b[0merrors\u001b[0m\u001b[0;34m)\u001b[0m\u001b[0;34m\u001b[0m\u001b[0;34m\u001b[0m\u001b[0m\n\u001b[0m\u001b[1;32m   1099\u001b[0m     \u001b[0;32mreturn\u001b[0m \u001b[0mresult\u001b[0m\u001b[0;34m.\u001b[0m\u001b[0mview\u001b[0m\u001b[0;34m(\u001b[0m\u001b[0;34m\"timedelta64[ns]\"\u001b[0m\u001b[0;34m)\u001b[0m\u001b[0;34m\u001b[0m\u001b[0;34m\u001b[0m\u001b[0m\n\u001b[1;32m   1100\u001b[0m \u001b[0;34m\u001b[0m\u001b[0m\n",
      "\u001b[0;32mpandas/_libs/tslibs/timedeltas.pyx\u001b[0m in \u001b[0;36mpandas._libs.tslibs.timedeltas.array_to_timedelta64\u001b[0;34m()\u001b[0m\n",
      "\u001b[0;32mpandas/_libs/tslibs/timedeltas.pyx\u001b[0m in \u001b[0;36mpandas._libs.tslibs.timedeltas.convert_to_timedelta64\u001b[0;34m()\u001b[0m\n",
      "\u001b[0;32mpandas/_libs/tslibs/timedeltas.pyx\u001b[0m in \u001b[0;36mpandas._libs.tslibs.timedeltas.delta_to_nanoseconds\u001b[0;34m()\u001b[0m\n",
      "\u001b[0;31mOverflowError\u001b[0m: Python int too large to convert to C long"
     ]
    },
    {
     "name": "stderr",
     "output_type": "stream",
     "text": [
      "Exception ignored in: 'pandas._libs.algos.are_diff'\n",
      "Traceback (most recent call last):\n",
      "  File \"/project/ccr/apgrass/miniconda3/envs/cmip6/lib/python3.7/site-packages/xarray/coding/cftimeindex.py\", line 415, in __sub__\n",
      "    return pd.TimedeltaIndex(np.array(self) - np.array(other))\n",
      "  File \"/project/ccr/apgrass/miniconda3/envs/cmip6/lib/python3.7/site-packages/pandas/core/indexes/timedeltas.py\", line 258, in __new__\n",
      "    data, freq=freq, unit=unit, dtype=dtype, copy=copy\n",
      "  File \"/project/ccr/apgrass/miniconda3/envs/cmip6/lib/python3.7/site-packages/pandas/core/arrays/timedeltas.py\", line 272, in _from_sequence\n",
      "    data, inferred_freq = sequence_to_td64ns(data, copy=copy, unit=unit)\n",
      "  File \"/project/ccr/apgrass/miniconda3/envs/cmip6/lib/python3.7/site-packages/pandas/core/arrays/timedeltas.py\", line 973, in sequence_to_td64ns\n",
      "    data = objects_to_td64ns(data, unit=unit, errors=errors)\n",
      "  File \"/project/ccr/apgrass/miniconda3/envs/cmip6/lib/python3.7/site-packages/pandas/core/arrays/timedeltas.py\", line 1098, in objects_to_td64ns\n",
      "    result = array_to_timedelta64(values, unit=unit, errors=errors)\n",
      "  File \"pandas/_libs/tslibs/timedeltas.pyx\", line 236, in pandas._libs.tslibs.timedeltas.array_to_timedelta64\n",
      "  File \"pandas/_libs/tslibs/timedeltas.pyx\", line 199, in pandas._libs.tslibs.timedeltas.convert_to_timedelta64\n",
      "  File \"pandas/_libs/tslibs/timedeltas.pyx\", line 144, in pandas._libs.tslibs.timedeltas.delta_to_nanoseconds\n",
      "OverflowError: Python int too large to convert to C long\n"
     ]
    },
    {
     "ename": "OverflowError",
     "evalue": "Python int too large to convert to C long",
     "output_type": "error",
     "traceback": [
      "\u001b[0;31m---------------------------------------------------------------------------\u001b[0m",
      "\u001b[0;31mTypeError\u001b[0m                                 Traceback (most recent call last)",
      "\u001b[0;32mpandas/_libs/tslibs/timedeltas.pyx\u001b[0m in \u001b[0;36mpandas._libs.tslibs.timedeltas.array_to_timedelta64\u001b[0;34m()\u001b[0m\n",
      "\u001b[0;32mpandas/_libs/tslibs/timedeltas.pyx\u001b[0m in \u001b[0;36mpandas._libs.tslibs.timedeltas.parse_timedelta_string\u001b[0;34m()\u001b[0m\n",
      "\u001b[0;31mTypeError\u001b[0m: object of type 'datetime.timedelta' has no len()",
      "\nDuring handling of the above exception, another exception occurred:\n",
      "\u001b[0;31mOverflowError\u001b[0m                             Traceback (most recent call last)",
      "\u001b[0;32m/project/ccr/apgrass/miniconda3/envs/cmip6/lib/python3.7/site-packages/xarray/coding/cftimeindex.py\u001b[0m in \u001b[0;36m__sub__\u001b[0;34m(self, other)\u001b[0m\n\u001b[1;32m    413\u001b[0m         \u001b[0;32mimport\u001b[0m \u001b[0mcftime\u001b[0m\u001b[0;34m\u001b[0m\u001b[0;34m\u001b[0m\u001b[0m\n\u001b[1;32m    414\u001b[0m         \u001b[0;32mif\u001b[0m \u001b[0misinstance\u001b[0m\u001b[0;34m(\u001b[0m\u001b[0mother\u001b[0m\u001b[0;34m,\u001b[0m \u001b[0;34m(\u001b[0m\u001b[0mCFTimeIndex\u001b[0m\u001b[0;34m,\u001b[0m \u001b[0mcftime\u001b[0m\u001b[0;34m.\u001b[0m\u001b[0mdatetime\u001b[0m\u001b[0;34m)\u001b[0m\u001b[0;34m)\u001b[0m\u001b[0;34m:\u001b[0m\u001b[0;34m\u001b[0m\u001b[0;34m\u001b[0m\u001b[0m\n\u001b[0;32m--> 415\u001b[0;31m             \u001b[0;32mreturn\u001b[0m \u001b[0mpd\u001b[0m\u001b[0;34m.\u001b[0m\u001b[0mTimedeltaIndex\u001b[0m\u001b[0;34m(\u001b[0m\u001b[0mnp\u001b[0m\u001b[0;34m.\u001b[0m\u001b[0marray\u001b[0m\u001b[0;34m(\u001b[0m\u001b[0mself\u001b[0m\u001b[0;34m)\u001b[0m \u001b[0;34m-\u001b[0m \u001b[0mnp\u001b[0m\u001b[0;34m.\u001b[0m\u001b[0marray\u001b[0m\u001b[0;34m(\u001b[0m\u001b[0mother\u001b[0m\u001b[0;34m)\u001b[0m\u001b[0;34m)\u001b[0m\u001b[0;34m\u001b[0m\u001b[0;34m\u001b[0m\u001b[0m\n\u001b[0m\u001b[1;32m    416\u001b[0m         \u001b[0;32melif\u001b[0m \u001b[0misinstance\u001b[0m\u001b[0;34m(\u001b[0m\u001b[0mother\u001b[0m\u001b[0;34m,\u001b[0m \u001b[0mpd\u001b[0m\u001b[0;34m.\u001b[0m\u001b[0mTimedeltaIndex\u001b[0m\u001b[0;34m)\u001b[0m\u001b[0;34m:\u001b[0m\u001b[0;34m\u001b[0m\u001b[0;34m\u001b[0m\u001b[0m\n\u001b[1;32m    417\u001b[0m             \u001b[0;32mreturn\u001b[0m \u001b[0mCFTimeIndex\u001b[0m\u001b[0;34m(\u001b[0m\u001b[0mnp\u001b[0m\u001b[0;34m.\u001b[0m\u001b[0marray\u001b[0m\u001b[0;34m(\u001b[0m\u001b[0mself\u001b[0m\u001b[0;34m)\u001b[0m \u001b[0;34m-\u001b[0m \u001b[0mother\u001b[0m\u001b[0;34m.\u001b[0m\u001b[0mto_pytimedelta\u001b[0m\u001b[0;34m(\u001b[0m\u001b[0;34m)\u001b[0m\u001b[0;34m)\u001b[0m\u001b[0;34m\u001b[0m\u001b[0;34m\u001b[0m\u001b[0m\n",
      "\u001b[0;32m/project/ccr/apgrass/miniconda3/envs/cmip6/lib/python3.7/site-packages/pandas/core/indexes/timedeltas.py\u001b[0m in \u001b[0;36m__new__\u001b[0;34m(cls, data, unit, freq, start, end, periods, closed, dtype, copy, name, verify_integrity)\u001b[0m\n\u001b[1;32m    256\u001b[0m \u001b[0;34m\u001b[0m\u001b[0m\n\u001b[1;32m    257\u001b[0m         tdarr = TimedeltaArray._from_sequence(\n\u001b[0;32m--> 258\u001b[0;31m             \u001b[0mdata\u001b[0m\u001b[0;34m,\u001b[0m \u001b[0mfreq\u001b[0m\u001b[0;34m=\u001b[0m\u001b[0mfreq\u001b[0m\u001b[0;34m,\u001b[0m \u001b[0munit\u001b[0m\u001b[0;34m=\u001b[0m\u001b[0munit\u001b[0m\u001b[0;34m,\u001b[0m \u001b[0mdtype\u001b[0m\u001b[0;34m=\u001b[0m\u001b[0mdtype\u001b[0m\u001b[0;34m,\u001b[0m \u001b[0mcopy\u001b[0m\u001b[0;34m=\u001b[0m\u001b[0mcopy\u001b[0m\u001b[0;34m\u001b[0m\u001b[0;34m\u001b[0m\u001b[0m\n\u001b[0m\u001b[1;32m    259\u001b[0m         )\n\u001b[1;32m    260\u001b[0m         \u001b[0;32mreturn\u001b[0m \u001b[0mcls\u001b[0m\u001b[0;34m.\u001b[0m\u001b[0m_simple_new\u001b[0m\u001b[0;34m(\u001b[0m\u001b[0mtdarr\u001b[0m\u001b[0;34m.\u001b[0m\u001b[0m_data\u001b[0m\u001b[0;34m,\u001b[0m \u001b[0mfreq\u001b[0m\u001b[0;34m=\u001b[0m\u001b[0mtdarr\u001b[0m\u001b[0;34m.\u001b[0m\u001b[0mfreq\u001b[0m\u001b[0;34m,\u001b[0m \u001b[0mname\u001b[0m\u001b[0;34m=\u001b[0m\u001b[0mname\u001b[0m\u001b[0;34m)\u001b[0m\u001b[0;34m\u001b[0m\u001b[0;34m\u001b[0m\u001b[0m\n",
      "\u001b[0;32m/project/ccr/apgrass/miniconda3/envs/cmip6/lib/python3.7/site-packages/pandas/core/arrays/timedeltas.py\u001b[0m in \u001b[0;36m_from_sequence\u001b[0;34m(cls, data, dtype, copy, freq, unit)\u001b[0m\n\u001b[1;32m    270\u001b[0m         \u001b[0mfreq\u001b[0m\u001b[0;34m,\u001b[0m \u001b[0mfreq_infer\u001b[0m \u001b[0;34m=\u001b[0m \u001b[0mdtl\u001b[0m\u001b[0;34m.\u001b[0m\u001b[0mmaybe_infer_freq\u001b[0m\u001b[0;34m(\u001b[0m\u001b[0mfreq\u001b[0m\u001b[0;34m)\u001b[0m\u001b[0;34m\u001b[0m\u001b[0;34m\u001b[0m\u001b[0m\n\u001b[1;32m    271\u001b[0m \u001b[0;34m\u001b[0m\u001b[0m\n\u001b[0;32m--> 272\u001b[0;31m         \u001b[0mdata\u001b[0m\u001b[0;34m,\u001b[0m \u001b[0minferred_freq\u001b[0m \u001b[0;34m=\u001b[0m \u001b[0msequence_to_td64ns\u001b[0m\u001b[0;34m(\u001b[0m\u001b[0mdata\u001b[0m\u001b[0;34m,\u001b[0m \u001b[0mcopy\u001b[0m\u001b[0;34m=\u001b[0m\u001b[0mcopy\u001b[0m\u001b[0;34m,\u001b[0m \u001b[0munit\u001b[0m\u001b[0;34m=\u001b[0m\u001b[0munit\u001b[0m\u001b[0;34m)\u001b[0m\u001b[0;34m\u001b[0m\u001b[0;34m\u001b[0m\u001b[0m\n\u001b[0m\u001b[1;32m    273\u001b[0m         \u001b[0mfreq\u001b[0m\u001b[0;34m,\u001b[0m \u001b[0mfreq_infer\u001b[0m \u001b[0;34m=\u001b[0m \u001b[0mdtl\u001b[0m\u001b[0;34m.\u001b[0m\u001b[0mvalidate_inferred_freq\u001b[0m\u001b[0;34m(\u001b[0m\u001b[0mfreq\u001b[0m\u001b[0;34m,\u001b[0m \u001b[0minferred_freq\u001b[0m\u001b[0;34m,\u001b[0m \u001b[0mfreq_infer\u001b[0m\u001b[0;34m)\u001b[0m\u001b[0;34m\u001b[0m\u001b[0;34m\u001b[0m\u001b[0m\n\u001b[1;32m    274\u001b[0m \u001b[0;34m\u001b[0m\u001b[0m\n",
      "\u001b[0;32m/project/ccr/apgrass/miniconda3/envs/cmip6/lib/python3.7/site-packages/pandas/core/arrays/timedeltas.py\u001b[0m in \u001b[0;36msequence_to_td64ns\u001b[0;34m(data, copy, unit, errors)\u001b[0m\n\u001b[1;32m    971\u001b[0m     \u001b[0;32mif\u001b[0m \u001b[0mis_object_dtype\u001b[0m\u001b[0;34m(\u001b[0m\u001b[0mdata\u001b[0m\u001b[0;34m.\u001b[0m\u001b[0mdtype\u001b[0m\u001b[0;34m)\u001b[0m \u001b[0;32mor\u001b[0m \u001b[0mis_string_dtype\u001b[0m\u001b[0;34m(\u001b[0m\u001b[0mdata\u001b[0m\u001b[0;34m.\u001b[0m\u001b[0mdtype\u001b[0m\u001b[0;34m)\u001b[0m\u001b[0;34m:\u001b[0m\u001b[0;34m\u001b[0m\u001b[0;34m\u001b[0m\u001b[0m\n\u001b[1;32m    972\u001b[0m         \u001b[0;31m# no need to make a copy, need to convert if string-dtyped\u001b[0m\u001b[0;34m\u001b[0m\u001b[0;34m\u001b[0m\u001b[0;34m\u001b[0m\u001b[0m\n\u001b[0;32m--> 973\u001b[0;31m         \u001b[0mdata\u001b[0m \u001b[0;34m=\u001b[0m \u001b[0mobjects_to_td64ns\u001b[0m\u001b[0;34m(\u001b[0m\u001b[0mdata\u001b[0m\u001b[0;34m,\u001b[0m \u001b[0munit\u001b[0m\u001b[0;34m=\u001b[0m\u001b[0munit\u001b[0m\u001b[0;34m,\u001b[0m \u001b[0merrors\u001b[0m\u001b[0;34m=\u001b[0m\u001b[0merrors\u001b[0m\u001b[0;34m)\u001b[0m\u001b[0;34m\u001b[0m\u001b[0;34m\u001b[0m\u001b[0m\n\u001b[0m\u001b[1;32m    974\u001b[0m         \u001b[0mcopy\u001b[0m \u001b[0;34m=\u001b[0m \u001b[0;32mFalse\u001b[0m\u001b[0;34m\u001b[0m\u001b[0;34m\u001b[0m\u001b[0m\n\u001b[1;32m    975\u001b[0m \u001b[0;34m\u001b[0m\u001b[0m\n",
      "\u001b[0;32m/project/ccr/apgrass/miniconda3/envs/cmip6/lib/python3.7/site-packages/pandas/core/arrays/timedeltas.py\u001b[0m in \u001b[0;36mobjects_to_td64ns\u001b[0;34m(data, unit, errors)\u001b[0m\n\u001b[1;32m   1096\u001b[0m     \u001b[0mvalues\u001b[0m \u001b[0;34m=\u001b[0m \u001b[0mnp\u001b[0m\u001b[0;34m.\u001b[0m\u001b[0marray\u001b[0m\u001b[0;34m(\u001b[0m\u001b[0mdata\u001b[0m\u001b[0;34m,\u001b[0m \u001b[0mdtype\u001b[0m\u001b[0;34m=\u001b[0m\u001b[0mnp\u001b[0m\u001b[0;34m.\u001b[0m\u001b[0mobject_\u001b[0m\u001b[0;34m,\u001b[0m \u001b[0mcopy\u001b[0m\u001b[0;34m=\u001b[0m\u001b[0;32mFalse\u001b[0m\u001b[0;34m)\u001b[0m\u001b[0;34m\u001b[0m\u001b[0;34m\u001b[0m\u001b[0m\n\u001b[1;32m   1097\u001b[0m \u001b[0;34m\u001b[0m\u001b[0m\n\u001b[0;32m-> 1098\u001b[0;31m     \u001b[0mresult\u001b[0m \u001b[0;34m=\u001b[0m \u001b[0marray_to_timedelta64\u001b[0m\u001b[0;34m(\u001b[0m\u001b[0mvalues\u001b[0m\u001b[0;34m,\u001b[0m \u001b[0munit\u001b[0m\u001b[0;34m=\u001b[0m\u001b[0munit\u001b[0m\u001b[0;34m,\u001b[0m \u001b[0merrors\u001b[0m\u001b[0;34m=\u001b[0m\u001b[0merrors\u001b[0m\u001b[0;34m)\u001b[0m\u001b[0;34m\u001b[0m\u001b[0;34m\u001b[0m\u001b[0m\n\u001b[0m\u001b[1;32m   1099\u001b[0m     \u001b[0;32mreturn\u001b[0m \u001b[0mresult\u001b[0m\u001b[0;34m.\u001b[0m\u001b[0mview\u001b[0m\u001b[0;34m(\u001b[0m\u001b[0;34m\"timedelta64[ns]\"\u001b[0m\u001b[0;34m)\u001b[0m\u001b[0;34m\u001b[0m\u001b[0;34m\u001b[0m\u001b[0m\n\u001b[1;32m   1100\u001b[0m \u001b[0;34m\u001b[0m\u001b[0m\n",
      "\u001b[0;32mpandas/_libs/tslibs/timedeltas.pyx\u001b[0m in \u001b[0;36mpandas._libs.tslibs.timedeltas.array_to_timedelta64\u001b[0;34m()\u001b[0m\n",
      "\u001b[0;32mpandas/_libs/tslibs/timedeltas.pyx\u001b[0m in \u001b[0;36mpandas._libs.tslibs.timedeltas.convert_to_timedelta64\u001b[0;34m()\u001b[0m\n",
      "\u001b[0;32mpandas/_libs/tslibs/timedeltas.pyx\u001b[0m in \u001b[0;36mpandas._libs.tslibs.timedeltas.delta_to_nanoseconds\u001b[0;34m()\u001b[0m\n",
      "\u001b[0;31mOverflowError\u001b[0m: Python int too large to convert to C long"
     ]
    },
    {
     "name": "stderr",
     "output_type": "stream",
     "text": [
      "Exception ignored in: 'pandas._libs.algos.are_diff'\n",
      "Traceback (most recent call last):\n",
      "  File \"/project/ccr/apgrass/miniconda3/envs/cmip6/lib/python3.7/site-packages/xarray/coding/cftimeindex.py\", line 415, in __sub__\n",
      "    return pd.TimedeltaIndex(np.array(self) - np.array(other))\n",
      "  File \"/project/ccr/apgrass/miniconda3/envs/cmip6/lib/python3.7/site-packages/pandas/core/indexes/timedeltas.py\", line 258, in __new__\n",
      "    data, freq=freq, unit=unit, dtype=dtype, copy=copy\n",
      "  File \"/project/ccr/apgrass/miniconda3/envs/cmip6/lib/python3.7/site-packages/pandas/core/arrays/timedeltas.py\", line 272, in _from_sequence\n",
      "    data, inferred_freq = sequence_to_td64ns(data, copy=copy, unit=unit)\n",
      "  File \"/project/ccr/apgrass/miniconda3/envs/cmip6/lib/python3.7/site-packages/pandas/core/arrays/timedeltas.py\", line 973, in sequence_to_td64ns\n",
      "    data = objects_to_td64ns(data, unit=unit, errors=errors)\n",
      "  File \"/project/ccr/apgrass/miniconda3/envs/cmip6/lib/python3.7/site-packages/pandas/core/arrays/timedeltas.py\", line 1098, in objects_to_td64ns\n",
      "    result = array_to_timedelta64(values, unit=unit, errors=errors)\n",
      "  File \"pandas/_libs/tslibs/timedeltas.pyx\", line 236, in pandas._libs.tslibs.timedeltas.array_to_timedelta64\n",
      "  File \"pandas/_libs/tslibs/timedeltas.pyx\", line 199, in pandas._libs.tslibs.timedeltas.convert_to_timedelta64\n",
      "  File \"pandas/_libs/tslibs/timedeltas.pyx\", line 144, in pandas._libs.tslibs.timedeltas.delta_to_nanoseconds\n",
      "OverflowError: Python int too large to convert to C long\n"
     ]
    },
    {
     "name": "stdout",
     "output_type": "stream",
     "text": [
      "ts\n",
      "/project/cmip6/piControl/Amon/ts/IPSL-CM6A-LR/r1i2p1f1/gr/ts_Amon_IPSL-CM6A-LR_piControl_r1i2p1f1_gr_185001-209812.nc\n",
      "ts\n"
     ]
    },
    {
     "ename": "OverflowError",
     "evalue": "Python int too large to convert to C long",
     "output_type": "error",
     "traceback": [
      "\u001b[0;31m---------------------------------------------------------------------------\u001b[0m",
      "\u001b[0;31mTypeError\u001b[0m                                 Traceback (most recent call last)",
      "\u001b[0;32mpandas/_libs/tslibs/timedeltas.pyx\u001b[0m in \u001b[0;36mpandas._libs.tslibs.timedeltas.array_to_timedelta64\u001b[0;34m()\u001b[0m\n",
      "\u001b[0;32mpandas/_libs/tslibs/timedeltas.pyx\u001b[0m in \u001b[0;36mpandas._libs.tslibs.timedeltas.parse_timedelta_string\u001b[0;34m()\u001b[0m\n",
      "\u001b[0;31mTypeError\u001b[0m: object of type 'datetime.timedelta' has no len()",
      "\nDuring handling of the above exception, another exception occurred:\n",
      "\u001b[0;31mOverflowError\u001b[0m                             Traceback (most recent call last)",
      "\u001b[0;32m/project/ccr/apgrass/miniconda3/envs/cmip6/lib/python3.7/site-packages/xarray/coding/cftimeindex.py\u001b[0m in \u001b[0;36m__sub__\u001b[0;34m(self, other)\u001b[0m\n\u001b[1;32m    413\u001b[0m         \u001b[0;32mimport\u001b[0m \u001b[0mcftime\u001b[0m\u001b[0;34m\u001b[0m\u001b[0;34m\u001b[0m\u001b[0m\n\u001b[1;32m    414\u001b[0m         \u001b[0;32mif\u001b[0m \u001b[0misinstance\u001b[0m\u001b[0;34m(\u001b[0m\u001b[0mother\u001b[0m\u001b[0;34m,\u001b[0m \u001b[0;34m(\u001b[0m\u001b[0mCFTimeIndex\u001b[0m\u001b[0;34m,\u001b[0m \u001b[0mcftime\u001b[0m\u001b[0;34m.\u001b[0m\u001b[0mdatetime\u001b[0m\u001b[0;34m)\u001b[0m\u001b[0;34m)\u001b[0m\u001b[0;34m:\u001b[0m\u001b[0;34m\u001b[0m\u001b[0;34m\u001b[0m\u001b[0m\n\u001b[0;32m--> 415\u001b[0;31m             \u001b[0;32mreturn\u001b[0m \u001b[0mpd\u001b[0m\u001b[0;34m.\u001b[0m\u001b[0mTimedeltaIndex\u001b[0m\u001b[0;34m(\u001b[0m\u001b[0mnp\u001b[0m\u001b[0;34m.\u001b[0m\u001b[0marray\u001b[0m\u001b[0;34m(\u001b[0m\u001b[0mself\u001b[0m\u001b[0;34m)\u001b[0m \u001b[0;34m-\u001b[0m \u001b[0mnp\u001b[0m\u001b[0;34m.\u001b[0m\u001b[0marray\u001b[0m\u001b[0;34m(\u001b[0m\u001b[0mother\u001b[0m\u001b[0;34m)\u001b[0m\u001b[0;34m)\u001b[0m\u001b[0;34m\u001b[0m\u001b[0;34m\u001b[0m\u001b[0m\n\u001b[0m\u001b[1;32m    416\u001b[0m         \u001b[0;32melif\u001b[0m \u001b[0misinstance\u001b[0m\u001b[0;34m(\u001b[0m\u001b[0mother\u001b[0m\u001b[0;34m,\u001b[0m \u001b[0mpd\u001b[0m\u001b[0;34m.\u001b[0m\u001b[0mTimedeltaIndex\u001b[0m\u001b[0;34m)\u001b[0m\u001b[0;34m:\u001b[0m\u001b[0;34m\u001b[0m\u001b[0;34m\u001b[0m\u001b[0m\n\u001b[1;32m    417\u001b[0m             \u001b[0;32mreturn\u001b[0m \u001b[0mCFTimeIndex\u001b[0m\u001b[0;34m(\u001b[0m\u001b[0mnp\u001b[0m\u001b[0;34m.\u001b[0m\u001b[0marray\u001b[0m\u001b[0;34m(\u001b[0m\u001b[0mself\u001b[0m\u001b[0;34m)\u001b[0m \u001b[0;34m-\u001b[0m \u001b[0mother\u001b[0m\u001b[0;34m.\u001b[0m\u001b[0mto_pytimedelta\u001b[0m\u001b[0;34m(\u001b[0m\u001b[0;34m)\u001b[0m\u001b[0;34m)\u001b[0m\u001b[0;34m\u001b[0m\u001b[0;34m\u001b[0m\u001b[0m\n",
      "\u001b[0;32m/project/ccr/apgrass/miniconda3/envs/cmip6/lib/python3.7/site-packages/pandas/core/indexes/timedeltas.py\u001b[0m in \u001b[0;36m__new__\u001b[0;34m(cls, data, unit, freq, start, end, periods, closed, dtype, copy, name, verify_integrity)\u001b[0m\n\u001b[1;32m    256\u001b[0m \u001b[0;34m\u001b[0m\u001b[0m\n\u001b[1;32m    257\u001b[0m         tdarr = TimedeltaArray._from_sequence(\n\u001b[0;32m--> 258\u001b[0;31m             \u001b[0mdata\u001b[0m\u001b[0;34m,\u001b[0m \u001b[0mfreq\u001b[0m\u001b[0;34m=\u001b[0m\u001b[0mfreq\u001b[0m\u001b[0;34m,\u001b[0m \u001b[0munit\u001b[0m\u001b[0;34m=\u001b[0m\u001b[0munit\u001b[0m\u001b[0;34m,\u001b[0m \u001b[0mdtype\u001b[0m\u001b[0;34m=\u001b[0m\u001b[0mdtype\u001b[0m\u001b[0;34m,\u001b[0m \u001b[0mcopy\u001b[0m\u001b[0;34m=\u001b[0m\u001b[0mcopy\u001b[0m\u001b[0;34m\u001b[0m\u001b[0;34m\u001b[0m\u001b[0m\n\u001b[0m\u001b[1;32m    259\u001b[0m         )\n\u001b[1;32m    260\u001b[0m         \u001b[0;32mreturn\u001b[0m \u001b[0mcls\u001b[0m\u001b[0;34m.\u001b[0m\u001b[0m_simple_new\u001b[0m\u001b[0;34m(\u001b[0m\u001b[0mtdarr\u001b[0m\u001b[0;34m.\u001b[0m\u001b[0m_data\u001b[0m\u001b[0;34m,\u001b[0m \u001b[0mfreq\u001b[0m\u001b[0;34m=\u001b[0m\u001b[0mtdarr\u001b[0m\u001b[0;34m.\u001b[0m\u001b[0mfreq\u001b[0m\u001b[0;34m,\u001b[0m \u001b[0mname\u001b[0m\u001b[0;34m=\u001b[0m\u001b[0mname\u001b[0m\u001b[0;34m)\u001b[0m\u001b[0;34m\u001b[0m\u001b[0;34m\u001b[0m\u001b[0m\n",
      "\u001b[0;32m/project/ccr/apgrass/miniconda3/envs/cmip6/lib/python3.7/site-packages/pandas/core/arrays/timedeltas.py\u001b[0m in \u001b[0;36m_from_sequence\u001b[0;34m(cls, data, dtype, copy, freq, unit)\u001b[0m\n\u001b[1;32m    270\u001b[0m         \u001b[0mfreq\u001b[0m\u001b[0;34m,\u001b[0m \u001b[0mfreq_infer\u001b[0m \u001b[0;34m=\u001b[0m \u001b[0mdtl\u001b[0m\u001b[0;34m.\u001b[0m\u001b[0mmaybe_infer_freq\u001b[0m\u001b[0;34m(\u001b[0m\u001b[0mfreq\u001b[0m\u001b[0;34m)\u001b[0m\u001b[0;34m\u001b[0m\u001b[0;34m\u001b[0m\u001b[0m\n\u001b[1;32m    271\u001b[0m \u001b[0;34m\u001b[0m\u001b[0m\n\u001b[0;32m--> 272\u001b[0;31m         \u001b[0mdata\u001b[0m\u001b[0;34m,\u001b[0m \u001b[0minferred_freq\u001b[0m \u001b[0;34m=\u001b[0m \u001b[0msequence_to_td64ns\u001b[0m\u001b[0;34m(\u001b[0m\u001b[0mdata\u001b[0m\u001b[0;34m,\u001b[0m \u001b[0mcopy\u001b[0m\u001b[0;34m=\u001b[0m\u001b[0mcopy\u001b[0m\u001b[0;34m,\u001b[0m \u001b[0munit\u001b[0m\u001b[0;34m=\u001b[0m\u001b[0munit\u001b[0m\u001b[0;34m)\u001b[0m\u001b[0;34m\u001b[0m\u001b[0;34m\u001b[0m\u001b[0m\n\u001b[0m\u001b[1;32m    273\u001b[0m         \u001b[0mfreq\u001b[0m\u001b[0;34m,\u001b[0m \u001b[0mfreq_infer\u001b[0m \u001b[0;34m=\u001b[0m \u001b[0mdtl\u001b[0m\u001b[0;34m.\u001b[0m\u001b[0mvalidate_inferred_freq\u001b[0m\u001b[0;34m(\u001b[0m\u001b[0mfreq\u001b[0m\u001b[0;34m,\u001b[0m \u001b[0minferred_freq\u001b[0m\u001b[0;34m,\u001b[0m \u001b[0mfreq_infer\u001b[0m\u001b[0;34m)\u001b[0m\u001b[0;34m\u001b[0m\u001b[0;34m\u001b[0m\u001b[0m\n\u001b[1;32m    274\u001b[0m \u001b[0;34m\u001b[0m\u001b[0m\n",
      "\u001b[0;32m/project/ccr/apgrass/miniconda3/envs/cmip6/lib/python3.7/site-packages/pandas/core/arrays/timedeltas.py\u001b[0m in \u001b[0;36msequence_to_td64ns\u001b[0;34m(data, copy, unit, errors)\u001b[0m\n\u001b[1;32m    971\u001b[0m     \u001b[0;32mif\u001b[0m \u001b[0mis_object_dtype\u001b[0m\u001b[0;34m(\u001b[0m\u001b[0mdata\u001b[0m\u001b[0;34m.\u001b[0m\u001b[0mdtype\u001b[0m\u001b[0;34m)\u001b[0m \u001b[0;32mor\u001b[0m \u001b[0mis_string_dtype\u001b[0m\u001b[0;34m(\u001b[0m\u001b[0mdata\u001b[0m\u001b[0;34m.\u001b[0m\u001b[0mdtype\u001b[0m\u001b[0;34m)\u001b[0m\u001b[0;34m:\u001b[0m\u001b[0;34m\u001b[0m\u001b[0;34m\u001b[0m\u001b[0m\n\u001b[1;32m    972\u001b[0m         \u001b[0;31m# no need to make a copy, need to convert if string-dtyped\u001b[0m\u001b[0;34m\u001b[0m\u001b[0;34m\u001b[0m\u001b[0;34m\u001b[0m\u001b[0m\n\u001b[0;32m--> 973\u001b[0;31m         \u001b[0mdata\u001b[0m \u001b[0;34m=\u001b[0m \u001b[0mobjects_to_td64ns\u001b[0m\u001b[0;34m(\u001b[0m\u001b[0mdata\u001b[0m\u001b[0;34m,\u001b[0m \u001b[0munit\u001b[0m\u001b[0;34m=\u001b[0m\u001b[0munit\u001b[0m\u001b[0;34m,\u001b[0m \u001b[0merrors\u001b[0m\u001b[0;34m=\u001b[0m\u001b[0merrors\u001b[0m\u001b[0;34m)\u001b[0m\u001b[0;34m\u001b[0m\u001b[0;34m\u001b[0m\u001b[0m\n\u001b[0m\u001b[1;32m    974\u001b[0m         \u001b[0mcopy\u001b[0m \u001b[0;34m=\u001b[0m \u001b[0;32mFalse\u001b[0m\u001b[0;34m\u001b[0m\u001b[0;34m\u001b[0m\u001b[0m\n\u001b[1;32m    975\u001b[0m \u001b[0;34m\u001b[0m\u001b[0m\n",
      "\u001b[0;32m/project/ccr/apgrass/miniconda3/envs/cmip6/lib/python3.7/site-packages/pandas/core/arrays/timedeltas.py\u001b[0m in \u001b[0;36mobjects_to_td64ns\u001b[0;34m(data, unit, errors)\u001b[0m\n\u001b[1;32m   1096\u001b[0m     \u001b[0mvalues\u001b[0m \u001b[0;34m=\u001b[0m \u001b[0mnp\u001b[0m\u001b[0;34m.\u001b[0m\u001b[0marray\u001b[0m\u001b[0;34m(\u001b[0m\u001b[0mdata\u001b[0m\u001b[0;34m,\u001b[0m \u001b[0mdtype\u001b[0m\u001b[0;34m=\u001b[0m\u001b[0mnp\u001b[0m\u001b[0;34m.\u001b[0m\u001b[0mobject_\u001b[0m\u001b[0;34m,\u001b[0m \u001b[0mcopy\u001b[0m\u001b[0;34m=\u001b[0m\u001b[0;32mFalse\u001b[0m\u001b[0;34m)\u001b[0m\u001b[0;34m\u001b[0m\u001b[0;34m\u001b[0m\u001b[0m\n\u001b[1;32m   1097\u001b[0m \u001b[0;34m\u001b[0m\u001b[0m\n\u001b[0;32m-> 1098\u001b[0;31m     \u001b[0mresult\u001b[0m \u001b[0;34m=\u001b[0m \u001b[0marray_to_timedelta64\u001b[0m\u001b[0;34m(\u001b[0m\u001b[0mvalues\u001b[0m\u001b[0;34m,\u001b[0m \u001b[0munit\u001b[0m\u001b[0;34m=\u001b[0m\u001b[0munit\u001b[0m\u001b[0;34m,\u001b[0m \u001b[0merrors\u001b[0m\u001b[0;34m=\u001b[0m\u001b[0merrors\u001b[0m\u001b[0;34m)\u001b[0m\u001b[0;34m\u001b[0m\u001b[0;34m\u001b[0m\u001b[0m\n\u001b[0m\u001b[1;32m   1099\u001b[0m     \u001b[0;32mreturn\u001b[0m \u001b[0mresult\u001b[0m\u001b[0;34m.\u001b[0m\u001b[0mview\u001b[0m\u001b[0;34m(\u001b[0m\u001b[0;34m\"timedelta64[ns]\"\u001b[0m\u001b[0;34m)\u001b[0m\u001b[0;34m\u001b[0m\u001b[0;34m\u001b[0m\u001b[0m\n\u001b[1;32m   1100\u001b[0m \u001b[0;34m\u001b[0m\u001b[0m\n",
      "\u001b[0;32mpandas/_libs/tslibs/timedeltas.pyx\u001b[0m in \u001b[0;36mpandas._libs.tslibs.timedeltas.array_to_timedelta64\u001b[0;34m()\u001b[0m\n",
      "\u001b[0;32mpandas/_libs/tslibs/timedeltas.pyx\u001b[0m in \u001b[0;36mpandas._libs.tslibs.timedeltas.convert_to_timedelta64\u001b[0;34m()\u001b[0m\n",
      "\u001b[0;32mpandas/_libs/tslibs/timedeltas.pyx\u001b[0m in \u001b[0;36mpandas._libs.tslibs.timedeltas.delta_to_nanoseconds\u001b[0;34m()\u001b[0m\n",
      "\u001b[0;31mOverflowError\u001b[0m: Python int too large to convert to C long"
     ]
    },
    {
     "name": "stderr",
     "output_type": "stream",
     "text": [
      "Exception ignored in: 'pandas._libs.algos.are_diff'\n",
      "Traceback (most recent call last):\n",
      "  File \"/project/ccr/apgrass/miniconda3/envs/cmip6/lib/python3.7/site-packages/xarray/coding/cftimeindex.py\", line 415, in __sub__\n",
      "    return pd.TimedeltaIndex(np.array(self) - np.array(other))\n",
      "  File \"/project/ccr/apgrass/miniconda3/envs/cmip6/lib/python3.7/site-packages/pandas/core/indexes/timedeltas.py\", line 258, in __new__\n",
      "    data, freq=freq, unit=unit, dtype=dtype, copy=copy\n",
      "  File \"/project/ccr/apgrass/miniconda3/envs/cmip6/lib/python3.7/site-packages/pandas/core/arrays/timedeltas.py\", line 272, in _from_sequence\n",
      "    data, inferred_freq = sequence_to_td64ns(data, copy=copy, unit=unit)\n",
      "  File \"/project/ccr/apgrass/miniconda3/envs/cmip6/lib/python3.7/site-packages/pandas/core/arrays/timedeltas.py\", line 973, in sequence_to_td64ns\n",
      "    data = objects_to_td64ns(data, unit=unit, errors=errors)\n",
      "  File \"/project/ccr/apgrass/miniconda3/envs/cmip6/lib/python3.7/site-packages/pandas/core/arrays/timedeltas.py\", line 1098, in objects_to_td64ns\n",
      "    result = array_to_timedelta64(values, unit=unit, errors=errors)\n",
      "  File \"pandas/_libs/tslibs/timedeltas.pyx\", line 236, in pandas._libs.tslibs.timedeltas.array_to_timedelta64\n",
      "  File \"pandas/_libs/tslibs/timedeltas.pyx\", line 199, in pandas._libs.tslibs.timedeltas.convert_to_timedelta64\n",
      "  File \"pandas/_libs/tslibs/timedeltas.pyx\", line 144, in pandas._libs.tslibs.timedeltas.delta_to_nanoseconds\n",
      "OverflowError: Python int too large to convert to C long\n"
     ]
    },
    {
     "name": "stdout",
     "output_type": "stream",
     "text": [
      "globalannualmean: IPSL-CM6A-LR r1i1p1f1 trying just first file\n",
      "/project/cmip6/piControl/Amon/rsdt/IPSL-CM6A-LR/r1i1p1f1/gr/rsdt_Amon_IPSL-CM6A-LR_piControl_r1i1p1f1_gr_185001-234912.nc\n"
     ]
    },
    {
     "ename": "OverflowError",
     "evalue": "Python int too large to convert to C long",
     "output_type": "error",
     "traceback": [
      "\u001b[0;31m---------------------------------------------------------------------------\u001b[0m",
      "\u001b[0;31mTypeError\u001b[0m                                 Traceback (most recent call last)",
      "\u001b[0;32mpandas/_libs/tslibs/timedeltas.pyx\u001b[0m in \u001b[0;36mpandas._libs.tslibs.timedeltas.array_to_timedelta64\u001b[0;34m()\u001b[0m\n",
      "\u001b[0;32mpandas/_libs/tslibs/timedeltas.pyx\u001b[0m in \u001b[0;36mpandas._libs.tslibs.timedeltas.parse_timedelta_string\u001b[0;34m()\u001b[0m\n",
      "\u001b[0;31mTypeError\u001b[0m: object of type 'datetime.timedelta' has no len()",
      "\nDuring handling of the above exception, another exception occurred:\n",
      "\u001b[0;31mOverflowError\u001b[0m                             Traceback (most recent call last)",
      "\u001b[0;32m/project/ccr/apgrass/miniconda3/envs/cmip6/lib/python3.7/site-packages/xarray/coding/cftimeindex.py\u001b[0m in \u001b[0;36m__sub__\u001b[0;34m(self, other)\u001b[0m\n\u001b[1;32m    413\u001b[0m         \u001b[0;32mimport\u001b[0m \u001b[0mcftime\u001b[0m\u001b[0;34m\u001b[0m\u001b[0;34m\u001b[0m\u001b[0m\n\u001b[1;32m    414\u001b[0m         \u001b[0;32mif\u001b[0m \u001b[0misinstance\u001b[0m\u001b[0;34m(\u001b[0m\u001b[0mother\u001b[0m\u001b[0;34m,\u001b[0m \u001b[0;34m(\u001b[0m\u001b[0mCFTimeIndex\u001b[0m\u001b[0;34m,\u001b[0m \u001b[0mcftime\u001b[0m\u001b[0;34m.\u001b[0m\u001b[0mdatetime\u001b[0m\u001b[0;34m)\u001b[0m\u001b[0;34m)\u001b[0m\u001b[0;34m:\u001b[0m\u001b[0;34m\u001b[0m\u001b[0;34m\u001b[0m\u001b[0m\n\u001b[0;32m--> 415\u001b[0;31m             \u001b[0;32mreturn\u001b[0m \u001b[0mpd\u001b[0m\u001b[0;34m.\u001b[0m\u001b[0mTimedeltaIndex\u001b[0m\u001b[0;34m(\u001b[0m\u001b[0mnp\u001b[0m\u001b[0;34m.\u001b[0m\u001b[0marray\u001b[0m\u001b[0;34m(\u001b[0m\u001b[0mself\u001b[0m\u001b[0;34m)\u001b[0m \u001b[0;34m-\u001b[0m \u001b[0mnp\u001b[0m\u001b[0;34m.\u001b[0m\u001b[0marray\u001b[0m\u001b[0;34m(\u001b[0m\u001b[0mother\u001b[0m\u001b[0;34m)\u001b[0m\u001b[0;34m)\u001b[0m\u001b[0;34m\u001b[0m\u001b[0;34m\u001b[0m\u001b[0m\n\u001b[0m\u001b[1;32m    416\u001b[0m         \u001b[0;32melif\u001b[0m \u001b[0misinstance\u001b[0m\u001b[0;34m(\u001b[0m\u001b[0mother\u001b[0m\u001b[0;34m,\u001b[0m \u001b[0mpd\u001b[0m\u001b[0;34m.\u001b[0m\u001b[0mTimedeltaIndex\u001b[0m\u001b[0;34m)\u001b[0m\u001b[0;34m:\u001b[0m\u001b[0;34m\u001b[0m\u001b[0;34m\u001b[0m\u001b[0m\n\u001b[1;32m    417\u001b[0m             \u001b[0;32mreturn\u001b[0m \u001b[0mCFTimeIndex\u001b[0m\u001b[0;34m(\u001b[0m\u001b[0mnp\u001b[0m\u001b[0;34m.\u001b[0m\u001b[0marray\u001b[0m\u001b[0;34m(\u001b[0m\u001b[0mself\u001b[0m\u001b[0;34m)\u001b[0m \u001b[0;34m-\u001b[0m \u001b[0mother\u001b[0m\u001b[0;34m.\u001b[0m\u001b[0mto_pytimedelta\u001b[0m\u001b[0;34m(\u001b[0m\u001b[0;34m)\u001b[0m\u001b[0;34m)\u001b[0m\u001b[0;34m\u001b[0m\u001b[0;34m\u001b[0m\u001b[0m\n",
      "\u001b[0;32m/project/ccr/apgrass/miniconda3/envs/cmip6/lib/python3.7/site-packages/pandas/core/indexes/timedeltas.py\u001b[0m in \u001b[0;36m__new__\u001b[0;34m(cls, data, unit, freq, start, end, periods, closed, dtype, copy, name, verify_integrity)\u001b[0m\n\u001b[1;32m    256\u001b[0m \u001b[0;34m\u001b[0m\u001b[0m\n\u001b[1;32m    257\u001b[0m         tdarr = TimedeltaArray._from_sequence(\n\u001b[0;32m--> 258\u001b[0;31m             \u001b[0mdata\u001b[0m\u001b[0;34m,\u001b[0m \u001b[0mfreq\u001b[0m\u001b[0;34m=\u001b[0m\u001b[0mfreq\u001b[0m\u001b[0;34m,\u001b[0m \u001b[0munit\u001b[0m\u001b[0;34m=\u001b[0m\u001b[0munit\u001b[0m\u001b[0;34m,\u001b[0m \u001b[0mdtype\u001b[0m\u001b[0;34m=\u001b[0m\u001b[0mdtype\u001b[0m\u001b[0;34m,\u001b[0m \u001b[0mcopy\u001b[0m\u001b[0;34m=\u001b[0m\u001b[0mcopy\u001b[0m\u001b[0;34m\u001b[0m\u001b[0;34m\u001b[0m\u001b[0m\n\u001b[0m\u001b[1;32m    259\u001b[0m         )\n\u001b[1;32m    260\u001b[0m         \u001b[0;32mreturn\u001b[0m \u001b[0mcls\u001b[0m\u001b[0;34m.\u001b[0m\u001b[0m_simple_new\u001b[0m\u001b[0;34m(\u001b[0m\u001b[0mtdarr\u001b[0m\u001b[0;34m.\u001b[0m\u001b[0m_data\u001b[0m\u001b[0;34m,\u001b[0m \u001b[0mfreq\u001b[0m\u001b[0;34m=\u001b[0m\u001b[0mtdarr\u001b[0m\u001b[0;34m.\u001b[0m\u001b[0mfreq\u001b[0m\u001b[0;34m,\u001b[0m \u001b[0mname\u001b[0m\u001b[0;34m=\u001b[0m\u001b[0mname\u001b[0m\u001b[0;34m)\u001b[0m\u001b[0;34m\u001b[0m\u001b[0;34m\u001b[0m\u001b[0m\n",
      "\u001b[0;32m/project/ccr/apgrass/miniconda3/envs/cmip6/lib/python3.7/site-packages/pandas/core/arrays/timedeltas.py\u001b[0m in \u001b[0;36m_from_sequence\u001b[0;34m(cls, data, dtype, copy, freq, unit)\u001b[0m\n\u001b[1;32m    270\u001b[0m         \u001b[0mfreq\u001b[0m\u001b[0;34m,\u001b[0m \u001b[0mfreq_infer\u001b[0m \u001b[0;34m=\u001b[0m \u001b[0mdtl\u001b[0m\u001b[0;34m.\u001b[0m\u001b[0mmaybe_infer_freq\u001b[0m\u001b[0;34m(\u001b[0m\u001b[0mfreq\u001b[0m\u001b[0;34m)\u001b[0m\u001b[0;34m\u001b[0m\u001b[0;34m\u001b[0m\u001b[0m\n\u001b[1;32m    271\u001b[0m \u001b[0;34m\u001b[0m\u001b[0m\n\u001b[0;32m--> 272\u001b[0;31m         \u001b[0mdata\u001b[0m\u001b[0;34m,\u001b[0m \u001b[0minferred_freq\u001b[0m \u001b[0;34m=\u001b[0m \u001b[0msequence_to_td64ns\u001b[0m\u001b[0;34m(\u001b[0m\u001b[0mdata\u001b[0m\u001b[0;34m,\u001b[0m \u001b[0mcopy\u001b[0m\u001b[0;34m=\u001b[0m\u001b[0mcopy\u001b[0m\u001b[0;34m,\u001b[0m \u001b[0munit\u001b[0m\u001b[0;34m=\u001b[0m\u001b[0munit\u001b[0m\u001b[0;34m)\u001b[0m\u001b[0;34m\u001b[0m\u001b[0;34m\u001b[0m\u001b[0m\n\u001b[0m\u001b[1;32m    273\u001b[0m         \u001b[0mfreq\u001b[0m\u001b[0;34m,\u001b[0m \u001b[0mfreq_infer\u001b[0m \u001b[0;34m=\u001b[0m \u001b[0mdtl\u001b[0m\u001b[0;34m.\u001b[0m\u001b[0mvalidate_inferred_freq\u001b[0m\u001b[0;34m(\u001b[0m\u001b[0mfreq\u001b[0m\u001b[0;34m,\u001b[0m \u001b[0minferred_freq\u001b[0m\u001b[0;34m,\u001b[0m \u001b[0mfreq_infer\u001b[0m\u001b[0;34m)\u001b[0m\u001b[0;34m\u001b[0m\u001b[0;34m\u001b[0m\u001b[0m\n\u001b[1;32m    274\u001b[0m \u001b[0;34m\u001b[0m\u001b[0m\n",
      "\u001b[0;32m/project/ccr/apgrass/miniconda3/envs/cmip6/lib/python3.7/site-packages/pandas/core/arrays/timedeltas.py\u001b[0m in \u001b[0;36msequence_to_td64ns\u001b[0;34m(data, copy, unit, errors)\u001b[0m\n\u001b[1;32m    971\u001b[0m     \u001b[0;32mif\u001b[0m \u001b[0mis_object_dtype\u001b[0m\u001b[0;34m(\u001b[0m\u001b[0mdata\u001b[0m\u001b[0;34m.\u001b[0m\u001b[0mdtype\u001b[0m\u001b[0;34m)\u001b[0m \u001b[0;32mor\u001b[0m \u001b[0mis_string_dtype\u001b[0m\u001b[0;34m(\u001b[0m\u001b[0mdata\u001b[0m\u001b[0;34m.\u001b[0m\u001b[0mdtype\u001b[0m\u001b[0;34m)\u001b[0m\u001b[0;34m:\u001b[0m\u001b[0;34m\u001b[0m\u001b[0;34m\u001b[0m\u001b[0m\n\u001b[1;32m    972\u001b[0m         \u001b[0;31m# no need to make a copy, need to convert if string-dtyped\u001b[0m\u001b[0;34m\u001b[0m\u001b[0;34m\u001b[0m\u001b[0;34m\u001b[0m\u001b[0m\n\u001b[0;32m--> 973\u001b[0;31m         \u001b[0mdata\u001b[0m \u001b[0;34m=\u001b[0m \u001b[0mobjects_to_td64ns\u001b[0m\u001b[0;34m(\u001b[0m\u001b[0mdata\u001b[0m\u001b[0;34m,\u001b[0m \u001b[0munit\u001b[0m\u001b[0;34m=\u001b[0m\u001b[0munit\u001b[0m\u001b[0;34m,\u001b[0m \u001b[0merrors\u001b[0m\u001b[0;34m=\u001b[0m\u001b[0merrors\u001b[0m\u001b[0;34m)\u001b[0m\u001b[0;34m\u001b[0m\u001b[0;34m\u001b[0m\u001b[0m\n\u001b[0m\u001b[1;32m    974\u001b[0m         \u001b[0mcopy\u001b[0m \u001b[0;34m=\u001b[0m \u001b[0;32mFalse\u001b[0m\u001b[0;34m\u001b[0m\u001b[0;34m\u001b[0m\u001b[0m\n\u001b[1;32m    975\u001b[0m \u001b[0;34m\u001b[0m\u001b[0m\n",
      "\u001b[0;32m/project/ccr/apgrass/miniconda3/envs/cmip6/lib/python3.7/site-packages/pandas/core/arrays/timedeltas.py\u001b[0m in \u001b[0;36mobjects_to_td64ns\u001b[0;34m(data, unit, errors)\u001b[0m\n\u001b[1;32m   1096\u001b[0m     \u001b[0mvalues\u001b[0m \u001b[0;34m=\u001b[0m \u001b[0mnp\u001b[0m\u001b[0;34m.\u001b[0m\u001b[0marray\u001b[0m\u001b[0;34m(\u001b[0m\u001b[0mdata\u001b[0m\u001b[0;34m,\u001b[0m \u001b[0mdtype\u001b[0m\u001b[0;34m=\u001b[0m\u001b[0mnp\u001b[0m\u001b[0;34m.\u001b[0m\u001b[0mobject_\u001b[0m\u001b[0;34m,\u001b[0m \u001b[0mcopy\u001b[0m\u001b[0;34m=\u001b[0m\u001b[0;32mFalse\u001b[0m\u001b[0;34m)\u001b[0m\u001b[0;34m\u001b[0m\u001b[0;34m\u001b[0m\u001b[0m\n\u001b[1;32m   1097\u001b[0m \u001b[0;34m\u001b[0m\u001b[0m\n\u001b[0;32m-> 1098\u001b[0;31m     \u001b[0mresult\u001b[0m \u001b[0;34m=\u001b[0m \u001b[0marray_to_timedelta64\u001b[0m\u001b[0;34m(\u001b[0m\u001b[0mvalues\u001b[0m\u001b[0;34m,\u001b[0m \u001b[0munit\u001b[0m\u001b[0;34m=\u001b[0m\u001b[0munit\u001b[0m\u001b[0;34m,\u001b[0m \u001b[0merrors\u001b[0m\u001b[0;34m=\u001b[0m\u001b[0merrors\u001b[0m\u001b[0;34m)\u001b[0m\u001b[0;34m\u001b[0m\u001b[0;34m\u001b[0m\u001b[0m\n\u001b[0m\u001b[1;32m   1099\u001b[0m     \u001b[0;32mreturn\u001b[0m \u001b[0mresult\u001b[0m\u001b[0;34m.\u001b[0m\u001b[0mview\u001b[0m\u001b[0;34m(\u001b[0m\u001b[0;34m\"timedelta64[ns]\"\u001b[0m\u001b[0;34m)\u001b[0m\u001b[0;34m\u001b[0m\u001b[0;34m\u001b[0m\u001b[0m\n\u001b[1;32m   1100\u001b[0m \u001b[0;34m\u001b[0m\u001b[0m\n",
      "\u001b[0;32mpandas/_libs/tslibs/timedeltas.pyx\u001b[0m in \u001b[0;36mpandas._libs.tslibs.timedeltas.array_to_timedelta64\u001b[0;34m()\u001b[0m\n",
      "\u001b[0;32mpandas/_libs/tslibs/timedeltas.pyx\u001b[0m in \u001b[0;36mpandas._libs.tslibs.timedeltas.convert_to_timedelta64\u001b[0;34m()\u001b[0m\n",
      "\u001b[0;32mpandas/_libs/tslibs/timedeltas.pyx\u001b[0m in \u001b[0;36mpandas._libs.tslibs.timedeltas.delta_to_nanoseconds\u001b[0;34m()\u001b[0m\n",
      "\u001b[0;31mOverflowError\u001b[0m: Python int too large to convert to C long"
     ]
    },
    {
     "name": "stderr",
     "output_type": "stream",
     "text": [
      "Exception ignored in: 'pandas._libs.algos.are_diff'\n",
      "Traceback (most recent call last):\n",
      "  File \"/project/ccr/apgrass/miniconda3/envs/cmip6/lib/python3.7/site-packages/xarray/coding/cftimeindex.py\", line 415, in __sub__\n",
      "    return pd.TimedeltaIndex(np.array(self) - np.array(other))\n",
      "  File \"/project/ccr/apgrass/miniconda3/envs/cmip6/lib/python3.7/site-packages/pandas/core/indexes/timedeltas.py\", line 258, in __new__\n",
      "    data, freq=freq, unit=unit, dtype=dtype, copy=copy\n",
      "  File \"/project/ccr/apgrass/miniconda3/envs/cmip6/lib/python3.7/site-packages/pandas/core/arrays/timedeltas.py\", line 272, in _from_sequence\n",
      "    data, inferred_freq = sequence_to_td64ns(data, copy=copy, unit=unit)\n",
      "  File \"/project/ccr/apgrass/miniconda3/envs/cmip6/lib/python3.7/site-packages/pandas/core/arrays/timedeltas.py\", line 973, in sequence_to_td64ns\n",
      "    data = objects_to_td64ns(data, unit=unit, errors=errors)\n",
      "  File \"/project/ccr/apgrass/miniconda3/envs/cmip6/lib/python3.7/site-packages/pandas/core/arrays/timedeltas.py\", line 1098, in objects_to_td64ns\n",
      "    result = array_to_timedelta64(values, unit=unit, errors=errors)\n",
      "  File \"pandas/_libs/tslibs/timedeltas.pyx\", line 236, in pandas._libs.tslibs.timedeltas.array_to_timedelta64\n",
      "  File \"pandas/_libs/tslibs/timedeltas.pyx\", line 199, in pandas._libs.tslibs.timedeltas.convert_to_timedelta64\n",
      "  File \"pandas/_libs/tslibs/timedeltas.pyx\", line 144, in pandas._libs.tslibs.timedeltas.delta_to_nanoseconds\n",
      "OverflowError: Python int too large to convert to C long\n"
     ]
    },
    {
     "ename": "OverflowError",
     "evalue": "Python int too large to convert to C long",
     "output_type": "error",
     "traceback": [
      "\u001b[0;31m---------------------------------------------------------------------------\u001b[0m",
      "\u001b[0;31mTypeError\u001b[0m                                 Traceback (most recent call last)",
      "\u001b[0;32mpandas/_libs/tslibs/timedeltas.pyx\u001b[0m in \u001b[0;36mpandas._libs.tslibs.timedeltas.array_to_timedelta64\u001b[0;34m()\u001b[0m\n",
      "\u001b[0;32mpandas/_libs/tslibs/timedeltas.pyx\u001b[0m in \u001b[0;36mpandas._libs.tslibs.timedeltas.parse_timedelta_string\u001b[0;34m()\u001b[0m\n",
      "\u001b[0;31mTypeError\u001b[0m: object of type 'datetime.timedelta' has no len()",
      "\nDuring handling of the above exception, another exception occurred:\n",
      "\u001b[0;31mOverflowError\u001b[0m                             Traceback (most recent call last)",
      "\u001b[0;32m/project/ccr/apgrass/miniconda3/envs/cmip6/lib/python3.7/site-packages/xarray/coding/cftimeindex.py\u001b[0m in \u001b[0;36m__sub__\u001b[0;34m(self, other)\u001b[0m\n\u001b[1;32m    413\u001b[0m         \u001b[0;32mimport\u001b[0m \u001b[0mcftime\u001b[0m\u001b[0;34m\u001b[0m\u001b[0;34m\u001b[0m\u001b[0m\n\u001b[1;32m    414\u001b[0m         \u001b[0;32mif\u001b[0m \u001b[0misinstance\u001b[0m\u001b[0;34m(\u001b[0m\u001b[0mother\u001b[0m\u001b[0;34m,\u001b[0m \u001b[0;34m(\u001b[0m\u001b[0mCFTimeIndex\u001b[0m\u001b[0;34m,\u001b[0m \u001b[0mcftime\u001b[0m\u001b[0;34m.\u001b[0m\u001b[0mdatetime\u001b[0m\u001b[0;34m)\u001b[0m\u001b[0;34m)\u001b[0m\u001b[0;34m:\u001b[0m\u001b[0;34m\u001b[0m\u001b[0;34m\u001b[0m\u001b[0m\n\u001b[0;32m--> 415\u001b[0;31m             \u001b[0;32mreturn\u001b[0m \u001b[0mpd\u001b[0m\u001b[0;34m.\u001b[0m\u001b[0mTimedeltaIndex\u001b[0m\u001b[0;34m(\u001b[0m\u001b[0mnp\u001b[0m\u001b[0;34m.\u001b[0m\u001b[0marray\u001b[0m\u001b[0;34m(\u001b[0m\u001b[0mself\u001b[0m\u001b[0;34m)\u001b[0m \u001b[0;34m-\u001b[0m \u001b[0mnp\u001b[0m\u001b[0;34m.\u001b[0m\u001b[0marray\u001b[0m\u001b[0;34m(\u001b[0m\u001b[0mother\u001b[0m\u001b[0;34m)\u001b[0m\u001b[0;34m)\u001b[0m\u001b[0;34m\u001b[0m\u001b[0;34m\u001b[0m\u001b[0m\n\u001b[0m\u001b[1;32m    416\u001b[0m         \u001b[0;32melif\u001b[0m \u001b[0misinstance\u001b[0m\u001b[0;34m(\u001b[0m\u001b[0mother\u001b[0m\u001b[0;34m,\u001b[0m \u001b[0mpd\u001b[0m\u001b[0;34m.\u001b[0m\u001b[0mTimedeltaIndex\u001b[0m\u001b[0;34m)\u001b[0m\u001b[0;34m:\u001b[0m\u001b[0;34m\u001b[0m\u001b[0;34m\u001b[0m\u001b[0m\n\u001b[1;32m    417\u001b[0m             \u001b[0;32mreturn\u001b[0m \u001b[0mCFTimeIndex\u001b[0m\u001b[0;34m(\u001b[0m\u001b[0mnp\u001b[0m\u001b[0;34m.\u001b[0m\u001b[0marray\u001b[0m\u001b[0;34m(\u001b[0m\u001b[0mself\u001b[0m\u001b[0;34m)\u001b[0m \u001b[0;34m-\u001b[0m \u001b[0mother\u001b[0m\u001b[0;34m.\u001b[0m\u001b[0mto_pytimedelta\u001b[0m\u001b[0;34m(\u001b[0m\u001b[0;34m)\u001b[0m\u001b[0;34m)\u001b[0m\u001b[0;34m\u001b[0m\u001b[0;34m\u001b[0m\u001b[0m\n",
      "\u001b[0;32m/project/ccr/apgrass/miniconda3/envs/cmip6/lib/python3.7/site-packages/pandas/core/indexes/timedeltas.py\u001b[0m in \u001b[0;36m__new__\u001b[0;34m(cls, data, unit, freq, start, end, periods, closed, dtype, copy, name, verify_integrity)\u001b[0m\n\u001b[1;32m    256\u001b[0m \u001b[0;34m\u001b[0m\u001b[0m\n\u001b[1;32m    257\u001b[0m         tdarr = TimedeltaArray._from_sequence(\n\u001b[0;32m--> 258\u001b[0;31m             \u001b[0mdata\u001b[0m\u001b[0;34m,\u001b[0m \u001b[0mfreq\u001b[0m\u001b[0;34m=\u001b[0m\u001b[0mfreq\u001b[0m\u001b[0;34m,\u001b[0m \u001b[0munit\u001b[0m\u001b[0;34m=\u001b[0m\u001b[0munit\u001b[0m\u001b[0;34m,\u001b[0m \u001b[0mdtype\u001b[0m\u001b[0;34m=\u001b[0m\u001b[0mdtype\u001b[0m\u001b[0;34m,\u001b[0m \u001b[0mcopy\u001b[0m\u001b[0;34m=\u001b[0m\u001b[0mcopy\u001b[0m\u001b[0;34m\u001b[0m\u001b[0;34m\u001b[0m\u001b[0m\n\u001b[0m\u001b[1;32m    259\u001b[0m         )\n\u001b[1;32m    260\u001b[0m         \u001b[0;32mreturn\u001b[0m \u001b[0mcls\u001b[0m\u001b[0;34m.\u001b[0m\u001b[0m_simple_new\u001b[0m\u001b[0;34m(\u001b[0m\u001b[0mtdarr\u001b[0m\u001b[0;34m.\u001b[0m\u001b[0m_data\u001b[0m\u001b[0;34m,\u001b[0m \u001b[0mfreq\u001b[0m\u001b[0;34m=\u001b[0m\u001b[0mtdarr\u001b[0m\u001b[0;34m.\u001b[0m\u001b[0mfreq\u001b[0m\u001b[0;34m,\u001b[0m \u001b[0mname\u001b[0m\u001b[0;34m=\u001b[0m\u001b[0mname\u001b[0m\u001b[0;34m)\u001b[0m\u001b[0;34m\u001b[0m\u001b[0;34m\u001b[0m\u001b[0m\n",
      "\u001b[0;32m/project/ccr/apgrass/miniconda3/envs/cmip6/lib/python3.7/site-packages/pandas/core/arrays/timedeltas.py\u001b[0m in \u001b[0;36m_from_sequence\u001b[0;34m(cls, data, dtype, copy, freq, unit)\u001b[0m\n\u001b[1;32m    270\u001b[0m         \u001b[0mfreq\u001b[0m\u001b[0;34m,\u001b[0m \u001b[0mfreq_infer\u001b[0m \u001b[0;34m=\u001b[0m \u001b[0mdtl\u001b[0m\u001b[0;34m.\u001b[0m\u001b[0mmaybe_infer_freq\u001b[0m\u001b[0;34m(\u001b[0m\u001b[0mfreq\u001b[0m\u001b[0;34m)\u001b[0m\u001b[0;34m\u001b[0m\u001b[0;34m\u001b[0m\u001b[0m\n\u001b[1;32m    271\u001b[0m \u001b[0;34m\u001b[0m\u001b[0m\n\u001b[0;32m--> 272\u001b[0;31m         \u001b[0mdata\u001b[0m\u001b[0;34m,\u001b[0m \u001b[0minferred_freq\u001b[0m \u001b[0;34m=\u001b[0m \u001b[0msequence_to_td64ns\u001b[0m\u001b[0;34m(\u001b[0m\u001b[0mdata\u001b[0m\u001b[0;34m,\u001b[0m \u001b[0mcopy\u001b[0m\u001b[0;34m=\u001b[0m\u001b[0mcopy\u001b[0m\u001b[0;34m,\u001b[0m \u001b[0munit\u001b[0m\u001b[0;34m=\u001b[0m\u001b[0munit\u001b[0m\u001b[0;34m)\u001b[0m\u001b[0;34m\u001b[0m\u001b[0;34m\u001b[0m\u001b[0m\n\u001b[0m\u001b[1;32m    273\u001b[0m         \u001b[0mfreq\u001b[0m\u001b[0;34m,\u001b[0m \u001b[0mfreq_infer\u001b[0m \u001b[0;34m=\u001b[0m \u001b[0mdtl\u001b[0m\u001b[0;34m.\u001b[0m\u001b[0mvalidate_inferred_freq\u001b[0m\u001b[0;34m(\u001b[0m\u001b[0mfreq\u001b[0m\u001b[0;34m,\u001b[0m \u001b[0minferred_freq\u001b[0m\u001b[0;34m,\u001b[0m \u001b[0mfreq_infer\u001b[0m\u001b[0;34m)\u001b[0m\u001b[0;34m\u001b[0m\u001b[0;34m\u001b[0m\u001b[0m\n\u001b[1;32m    274\u001b[0m \u001b[0;34m\u001b[0m\u001b[0m\n",
      "\u001b[0;32m/project/ccr/apgrass/miniconda3/envs/cmip6/lib/python3.7/site-packages/pandas/core/arrays/timedeltas.py\u001b[0m in \u001b[0;36msequence_to_td64ns\u001b[0;34m(data, copy, unit, errors)\u001b[0m\n\u001b[1;32m    971\u001b[0m     \u001b[0;32mif\u001b[0m \u001b[0mis_object_dtype\u001b[0m\u001b[0;34m(\u001b[0m\u001b[0mdata\u001b[0m\u001b[0;34m.\u001b[0m\u001b[0mdtype\u001b[0m\u001b[0;34m)\u001b[0m \u001b[0;32mor\u001b[0m \u001b[0mis_string_dtype\u001b[0m\u001b[0;34m(\u001b[0m\u001b[0mdata\u001b[0m\u001b[0;34m.\u001b[0m\u001b[0mdtype\u001b[0m\u001b[0;34m)\u001b[0m\u001b[0;34m:\u001b[0m\u001b[0;34m\u001b[0m\u001b[0;34m\u001b[0m\u001b[0m\n\u001b[1;32m    972\u001b[0m         \u001b[0;31m# no need to make a copy, need to convert if string-dtyped\u001b[0m\u001b[0;34m\u001b[0m\u001b[0;34m\u001b[0m\u001b[0;34m\u001b[0m\u001b[0m\n\u001b[0;32m--> 973\u001b[0;31m         \u001b[0mdata\u001b[0m \u001b[0;34m=\u001b[0m \u001b[0mobjects_to_td64ns\u001b[0m\u001b[0;34m(\u001b[0m\u001b[0mdata\u001b[0m\u001b[0;34m,\u001b[0m \u001b[0munit\u001b[0m\u001b[0;34m=\u001b[0m\u001b[0munit\u001b[0m\u001b[0;34m,\u001b[0m \u001b[0merrors\u001b[0m\u001b[0;34m=\u001b[0m\u001b[0merrors\u001b[0m\u001b[0;34m)\u001b[0m\u001b[0;34m\u001b[0m\u001b[0;34m\u001b[0m\u001b[0m\n\u001b[0m\u001b[1;32m    974\u001b[0m         \u001b[0mcopy\u001b[0m \u001b[0;34m=\u001b[0m \u001b[0;32mFalse\u001b[0m\u001b[0;34m\u001b[0m\u001b[0;34m\u001b[0m\u001b[0m\n\u001b[1;32m    975\u001b[0m \u001b[0;34m\u001b[0m\u001b[0m\n",
      "\u001b[0;32m/project/ccr/apgrass/miniconda3/envs/cmip6/lib/python3.7/site-packages/pandas/core/arrays/timedeltas.py\u001b[0m in \u001b[0;36mobjects_to_td64ns\u001b[0;34m(data, unit, errors)\u001b[0m\n\u001b[1;32m   1096\u001b[0m     \u001b[0mvalues\u001b[0m \u001b[0;34m=\u001b[0m \u001b[0mnp\u001b[0m\u001b[0;34m.\u001b[0m\u001b[0marray\u001b[0m\u001b[0;34m(\u001b[0m\u001b[0mdata\u001b[0m\u001b[0;34m,\u001b[0m \u001b[0mdtype\u001b[0m\u001b[0;34m=\u001b[0m\u001b[0mnp\u001b[0m\u001b[0;34m.\u001b[0m\u001b[0mobject_\u001b[0m\u001b[0;34m,\u001b[0m \u001b[0mcopy\u001b[0m\u001b[0;34m=\u001b[0m\u001b[0;32mFalse\u001b[0m\u001b[0;34m)\u001b[0m\u001b[0;34m\u001b[0m\u001b[0;34m\u001b[0m\u001b[0m\n\u001b[1;32m   1097\u001b[0m \u001b[0;34m\u001b[0m\u001b[0m\n\u001b[0;32m-> 1098\u001b[0;31m     \u001b[0mresult\u001b[0m \u001b[0;34m=\u001b[0m \u001b[0marray_to_timedelta64\u001b[0m\u001b[0;34m(\u001b[0m\u001b[0mvalues\u001b[0m\u001b[0;34m,\u001b[0m \u001b[0munit\u001b[0m\u001b[0;34m=\u001b[0m\u001b[0munit\u001b[0m\u001b[0;34m,\u001b[0m \u001b[0merrors\u001b[0m\u001b[0;34m=\u001b[0m\u001b[0merrors\u001b[0m\u001b[0;34m)\u001b[0m\u001b[0;34m\u001b[0m\u001b[0;34m\u001b[0m\u001b[0m\n\u001b[0m\u001b[1;32m   1099\u001b[0m     \u001b[0;32mreturn\u001b[0m \u001b[0mresult\u001b[0m\u001b[0;34m.\u001b[0m\u001b[0mview\u001b[0m\u001b[0;34m(\u001b[0m\u001b[0;34m\"timedelta64[ns]\"\u001b[0m\u001b[0;34m)\u001b[0m\u001b[0;34m\u001b[0m\u001b[0;34m\u001b[0m\u001b[0m\n\u001b[1;32m   1100\u001b[0m \u001b[0;34m\u001b[0m\u001b[0m\n",
      "\u001b[0;32mpandas/_libs/tslibs/timedeltas.pyx\u001b[0m in \u001b[0;36mpandas._libs.tslibs.timedeltas.array_to_timedelta64\u001b[0;34m()\u001b[0m\n",
      "\u001b[0;32mpandas/_libs/tslibs/timedeltas.pyx\u001b[0m in \u001b[0;36mpandas._libs.tslibs.timedeltas.convert_to_timedelta64\u001b[0;34m()\u001b[0m\n",
      "\u001b[0;32mpandas/_libs/tslibs/timedeltas.pyx\u001b[0m in \u001b[0;36mpandas._libs.tslibs.timedeltas.delta_to_nanoseconds\u001b[0;34m()\u001b[0m\n",
      "\u001b[0;31mOverflowError\u001b[0m: Python int too large to convert to C long"
     ]
    },
    {
     "name": "stderr",
     "output_type": "stream",
     "text": [
      "Exception ignored in: 'pandas._libs.algos.are_diff'\n",
      "Traceback (most recent call last):\n",
      "  File \"/project/ccr/apgrass/miniconda3/envs/cmip6/lib/python3.7/site-packages/xarray/coding/cftimeindex.py\", line 415, in __sub__\n",
      "    return pd.TimedeltaIndex(np.array(self) - np.array(other))\n",
      "  File \"/project/ccr/apgrass/miniconda3/envs/cmip6/lib/python3.7/site-packages/pandas/core/indexes/timedeltas.py\", line 258, in __new__\n",
      "    data, freq=freq, unit=unit, dtype=dtype, copy=copy\n",
      "  File \"/project/ccr/apgrass/miniconda3/envs/cmip6/lib/python3.7/site-packages/pandas/core/arrays/timedeltas.py\", line 272, in _from_sequence\n",
      "    data, inferred_freq = sequence_to_td64ns(data, copy=copy, unit=unit)\n",
      "  File \"/project/ccr/apgrass/miniconda3/envs/cmip6/lib/python3.7/site-packages/pandas/core/arrays/timedeltas.py\", line 973, in sequence_to_td64ns\n",
      "    data = objects_to_td64ns(data, unit=unit, errors=errors)\n",
      "  File \"/project/ccr/apgrass/miniconda3/envs/cmip6/lib/python3.7/site-packages/pandas/core/arrays/timedeltas.py\", line 1098, in objects_to_td64ns\n",
      "    result = array_to_timedelta64(values, unit=unit, errors=errors)\n",
      "  File \"pandas/_libs/tslibs/timedeltas.pyx\", line 236, in pandas._libs.tslibs.timedeltas.array_to_timedelta64\n",
      "  File \"pandas/_libs/tslibs/timedeltas.pyx\", line 199, in pandas._libs.tslibs.timedeltas.convert_to_timedelta64\n",
      "  File \"pandas/_libs/tslibs/timedeltas.pyx\", line 144, in pandas._libs.tslibs.timedeltas.delta_to_nanoseconds\n",
      "OverflowError: Python int too large to convert to C long\n"
     ]
    },
    {
     "name": "stdout",
     "output_type": "stream",
     "text": [
      "rsdt\n",
      "/project/cmip6/piControl/Amon/rsdt/IPSL-CM6A-LR/r1i2p1f1/gr/rsdt_Amon_IPSL-CM6A-LR_piControl_r1i2p1f1_gr_185001-209812.nc\n",
      "rsdt\n"
     ]
    },
    {
     "ename": "OverflowError",
     "evalue": "Python int too large to convert to C long",
     "output_type": "error",
     "traceback": [
      "\u001b[0;31m---------------------------------------------------------------------------\u001b[0m",
      "\u001b[0;31mTypeError\u001b[0m                                 Traceback (most recent call last)",
      "\u001b[0;32mpandas/_libs/tslibs/timedeltas.pyx\u001b[0m in \u001b[0;36mpandas._libs.tslibs.timedeltas.array_to_timedelta64\u001b[0;34m()\u001b[0m\n",
      "\u001b[0;32mpandas/_libs/tslibs/timedeltas.pyx\u001b[0m in \u001b[0;36mpandas._libs.tslibs.timedeltas.parse_timedelta_string\u001b[0;34m()\u001b[0m\n",
      "\u001b[0;31mTypeError\u001b[0m: object of type 'datetime.timedelta' has no len()",
      "\nDuring handling of the above exception, another exception occurred:\n",
      "\u001b[0;31mOverflowError\u001b[0m                             Traceback (most recent call last)",
      "\u001b[0;32m/project/ccr/apgrass/miniconda3/envs/cmip6/lib/python3.7/site-packages/xarray/coding/cftimeindex.py\u001b[0m in \u001b[0;36m__sub__\u001b[0;34m(self, other)\u001b[0m\n\u001b[1;32m    413\u001b[0m         \u001b[0;32mimport\u001b[0m \u001b[0mcftime\u001b[0m\u001b[0;34m\u001b[0m\u001b[0;34m\u001b[0m\u001b[0m\n\u001b[1;32m    414\u001b[0m         \u001b[0;32mif\u001b[0m \u001b[0misinstance\u001b[0m\u001b[0;34m(\u001b[0m\u001b[0mother\u001b[0m\u001b[0;34m,\u001b[0m \u001b[0;34m(\u001b[0m\u001b[0mCFTimeIndex\u001b[0m\u001b[0;34m,\u001b[0m \u001b[0mcftime\u001b[0m\u001b[0;34m.\u001b[0m\u001b[0mdatetime\u001b[0m\u001b[0;34m)\u001b[0m\u001b[0;34m)\u001b[0m\u001b[0;34m:\u001b[0m\u001b[0;34m\u001b[0m\u001b[0;34m\u001b[0m\u001b[0m\n\u001b[0;32m--> 415\u001b[0;31m             \u001b[0;32mreturn\u001b[0m \u001b[0mpd\u001b[0m\u001b[0;34m.\u001b[0m\u001b[0mTimedeltaIndex\u001b[0m\u001b[0;34m(\u001b[0m\u001b[0mnp\u001b[0m\u001b[0;34m.\u001b[0m\u001b[0marray\u001b[0m\u001b[0;34m(\u001b[0m\u001b[0mself\u001b[0m\u001b[0;34m)\u001b[0m \u001b[0;34m-\u001b[0m \u001b[0mnp\u001b[0m\u001b[0;34m.\u001b[0m\u001b[0marray\u001b[0m\u001b[0;34m(\u001b[0m\u001b[0mother\u001b[0m\u001b[0;34m)\u001b[0m\u001b[0;34m)\u001b[0m\u001b[0;34m\u001b[0m\u001b[0;34m\u001b[0m\u001b[0m\n\u001b[0m\u001b[1;32m    416\u001b[0m         \u001b[0;32melif\u001b[0m \u001b[0misinstance\u001b[0m\u001b[0;34m(\u001b[0m\u001b[0mother\u001b[0m\u001b[0;34m,\u001b[0m \u001b[0mpd\u001b[0m\u001b[0;34m.\u001b[0m\u001b[0mTimedeltaIndex\u001b[0m\u001b[0;34m)\u001b[0m\u001b[0;34m:\u001b[0m\u001b[0;34m\u001b[0m\u001b[0;34m\u001b[0m\u001b[0m\n\u001b[1;32m    417\u001b[0m             \u001b[0;32mreturn\u001b[0m \u001b[0mCFTimeIndex\u001b[0m\u001b[0;34m(\u001b[0m\u001b[0mnp\u001b[0m\u001b[0;34m.\u001b[0m\u001b[0marray\u001b[0m\u001b[0;34m(\u001b[0m\u001b[0mself\u001b[0m\u001b[0;34m)\u001b[0m \u001b[0;34m-\u001b[0m \u001b[0mother\u001b[0m\u001b[0;34m.\u001b[0m\u001b[0mto_pytimedelta\u001b[0m\u001b[0;34m(\u001b[0m\u001b[0;34m)\u001b[0m\u001b[0;34m)\u001b[0m\u001b[0;34m\u001b[0m\u001b[0;34m\u001b[0m\u001b[0m\n",
      "\u001b[0;32m/project/ccr/apgrass/miniconda3/envs/cmip6/lib/python3.7/site-packages/pandas/core/indexes/timedeltas.py\u001b[0m in \u001b[0;36m__new__\u001b[0;34m(cls, data, unit, freq, start, end, periods, closed, dtype, copy, name, verify_integrity)\u001b[0m\n\u001b[1;32m    256\u001b[0m \u001b[0;34m\u001b[0m\u001b[0m\n\u001b[1;32m    257\u001b[0m         tdarr = TimedeltaArray._from_sequence(\n\u001b[0;32m--> 258\u001b[0;31m             \u001b[0mdata\u001b[0m\u001b[0;34m,\u001b[0m \u001b[0mfreq\u001b[0m\u001b[0;34m=\u001b[0m\u001b[0mfreq\u001b[0m\u001b[0;34m,\u001b[0m \u001b[0munit\u001b[0m\u001b[0;34m=\u001b[0m\u001b[0munit\u001b[0m\u001b[0;34m,\u001b[0m \u001b[0mdtype\u001b[0m\u001b[0;34m=\u001b[0m\u001b[0mdtype\u001b[0m\u001b[0;34m,\u001b[0m \u001b[0mcopy\u001b[0m\u001b[0;34m=\u001b[0m\u001b[0mcopy\u001b[0m\u001b[0;34m\u001b[0m\u001b[0;34m\u001b[0m\u001b[0m\n\u001b[0m\u001b[1;32m    259\u001b[0m         )\n\u001b[1;32m    260\u001b[0m         \u001b[0;32mreturn\u001b[0m \u001b[0mcls\u001b[0m\u001b[0;34m.\u001b[0m\u001b[0m_simple_new\u001b[0m\u001b[0;34m(\u001b[0m\u001b[0mtdarr\u001b[0m\u001b[0;34m.\u001b[0m\u001b[0m_data\u001b[0m\u001b[0;34m,\u001b[0m \u001b[0mfreq\u001b[0m\u001b[0;34m=\u001b[0m\u001b[0mtdarr\u001b[0m\u001b[0;34m.\u001b[0m\u001b[0mfreq\u001b[0m\u001b[0;34m,\u001b[0m \u001b[0mname\u001b[0m\u001b[0;34m=\u001b[0m\u001b[0mname\u001b[0m\u001b[0;34m)\u001b[0m\u001b[0;34m\u001b[0m\u001b[0;34m\u001b[0m\u001b[0m\n",
      "\u001b[0;32m/project/ccr/apgrass/miniconda3/envs/cmip6/lib/python3.7/site-packages/pandas/core/arrays/timedeltas.py\u001b[0m in \u001b[0;36m_from_sequence\u001b[0;34m(cls, data, dtype, copy, freq, unit)\u001b[0m\n\u001b[1;32m    270\u001b[0m         \u001b[0mfreq\u001b[0m\u001b[0;34m,\u001b[0m \u001b[0mfreq_infer\u001b[0m \u001b[0;34m=\u001b[0m \u001b[0mdtl\u001b[0m\u001b[0;34m.\u001b[0m\u001b[0mmaybe_infer_freq\u001b[0m\u001b[0;34m(\u001b[0m\u001b[0mfreq\u001b[0m\u001b[0;34m)\u001b[0m\u001b[0;34m\u001b[0m\u001b[0;34m\u001b[0m\u001b[0m\n\u001b[1;32m    271\u001b[0m \u001b[0;34m\u001b[0m\u001b[0m\n\u001b[0;32m--> 272\u001b[0;31m         \u001b[0mdata\u001b[0m\u001b[0;34m,\u001b[0m \u001b[0minferred_freq\u001b[0m \u001b[0;34m=\u001b[0m \u001b[0msequence_to_td64ns\u001b[0m\u001b[0;34m(\u001b[0m\u001b[0mdata\u001b[0m\u001b[0;34m,\u001b[0m \u001b[0mcopy\u001b[0m\u001b[0;34m=\u001b[0m\u001b[0mcopy\u001b[0m\u001b[0;34m,\u001b[0m \u001b[0munit\u001b[0m\u001b[0;34m=\u001b[0m\u001b[0munit\u001b[0m\u001b[0;34m)\u001b[0m\u001b[0;34m\u001b[0m\u001b[0;34m\u001b[0m\u001b[0m\n\u001b[0m\u001b[1;32m    273\u001b[0m         \u001b[0mfreq\u001b[0m\u001b[0;34m,\u001b[0m \u001b[0mfreq_infer\u001b[0m \u001b[0;34m=\u001b[0m \u001b[0mdtl\u001b[0m\u001b[0;34m.\u001b[0m\u001b[0mvalidate_inferred_freq\u001b[0m\u001b[0;34m(\u001b[0m\u001b[0mfreq\u001b[0m\u001b[0;34m,\u001b[0m \u001b[0minferred_freq\u001b[0m\u001b[0;34m,\u001b[0m \u001b[0mfreq_infer\u001b[0m\u001b[0;34m)\u001b[0m\u001b[0;34m\u001b[0m\u001b[0;34m\u001b[0m\u001b[0m\n\u001b[1;32m    274\u001b[0m \u001b[0;34m\u001b[0m\u001b[0m\n",
      "\u001b[0;32m/project/ccr/apgrass/miniconda3/envs/cmip6/lib/python3.7/site-packages/pandas/core/arrays/timedeltas.py\u001b[0m in \u001b[0;36msequence_to_td64ns\u001b[0;34m(data, copy, unit, errors)\u001b[0m\n\u001b[1;32m    971\u001b[0m     \u001b[0;32mif\u001b[0m \u001b[0mis_object_dtype\u001b[0m\u001b[0;34m(\u001b[0m\u001b[0mdata\u001b[0m\u001b[0;34m.\u001b[0m\u001b[0mdtype\u001b[0m\u001b[0;34m)\u001b[0m \u001b[0;32mor\u001b[0m \u001b[0mis_string_dtype\u001b[0m\u001b[0;34m(\u001b[0m\u001b[0mdata\u001b[0m\u001b[0;34m.\u001b[0m\u001b[0mdtype\u001b[0m\u001b[0;34m)\u001b[0m\u001b[0;34m:\u001b[0m\u001b[0;34m\u001b[0m\u001b[0;34m\u001b[0m\u001b[0m\n\u001b[1;32m    972\u001b[0m         \u001b[0;31m# no need to make a copy, need to convert if string-dtyped\u001b[0m\u001b[0;34m\u001b[0m\u001b[0;34m\u001b[0m\u001b[0;34m\u001b[0m\u001b[0m\n\u001b[0;32m--> 973\u001b[0;31m         \u001b[0mdata\u001b[0m \u001b[0;34m=\u001b[0m \u001b[0mobjects_to_td64ns\u001b[0m\u001b[0;34m(\u001b[0m\u001b[0mdata\u001b[0m\u001b[0;34m,\u001b[0m \u001b[0munit\u001b[0m\u001b[0;34m=\u001b[0m\u001b[0munit\u001b[0m\u001b[0;34m,\u001b[0m \u001b[0merrors\u001b[0m\u001b[0;34m=\u001b[0m\u001b[0merrors\u001b[0m\u001b[0;34m)\u001b[0m\u001b[0;34m\u001b[0m\u001b[0;34m\u001b[0m\u001b[0m\n\u001b[0m\u001b[1;32m    974\u001b[0m         \u001b[0mcopy\u001b[0m \u001b[0;34m=\u001b[0m \u001b[0;32mFalse\u001b[0m\u001b[0;34m\u001b[0m\u001b[0;34m\u001b[0m\u001b[0m\n\u001b[1;32m    975\u001b[0m \u001b[0;34m\u001b[0m\u001b[0m\n",
      "\u001b[0;32m/project/ccr/apgrass/miniconda3/envs/cmip6/lib/python3.7/site-packages/pandas/core/arrays/timedeltas.py\u001b[0m in \u001b[0;36mobjects_to_td64ns\u001b[0;34m(data, unit, errors)\u001b[0m\n\u001b[1;32m   1096\u001b[0m     \u001b[0mvalues\u001b[0m \u001b[0;34m=\u001b[0m \u001b[0mnp\u001b[0m\u001b[0;34m.\u001b[0m\u001b[0marray\u001b[0m\u001b[0;34m(\u001b[0m\u001b[0mdata\u001b[0m\u001b[0;34m,\u001b[0m \u001b[0mdtype\u001b[0m\u001b[0;34m=\u001b[0m\u001b[0mnp\u001b[0m\u001b[0;34m.\u001b[0m\u001b[0mobject_\u001b[0m\u001b[0;34m,\u001b[0m \u001b[0mcopy\u001b[0m\u001b[0;34m=\u001b[0m\u001b[0;32mFalse\u001b[0m\u001b[0;34m)\u001b[0m\u001b[0;34m\u001b[0m\u001b[0;34m\u001b[0m\u001b[0m\n\u001b[1;32m   1097\u001b[0m \u001b[0;34m\u001b[0m\u001b[0m\n\u001b[0;32m-> 1098\u001b[0;31m     \u001b[0mresult\u001b[0m \u001b[0;34m=\u001b[0m \u001b[0marray_to_timedelta64\u001b[0m\u001b[0;34m(\u001b[0m\u001b[0mvalues\u001b[0m\u001b[0;34m,\u001b[0m \u001b[0munit\u001b[0m\u001b[0;34m=\u001b[0m\u001b[0munit\u001b[0m\u001b[0;34m,\u001b[0m \u001b[0merrors\u001b[0m\u001b[0;34m=\u001b[0m\u001b[0merrors\u001b[0m\u001b[0;34m)\u001b[0m\u001b[0;34m\u001b[0m\u001b[0;34m\u001b[0m\u001b[0m\n\u001b[0m\u001b[1;32m   1099\u001b[0m     \u001b[0;32mreturn\u001b[0m \u001b[0mresult\u001b[0m\u001b[0;34m.\u001b[0m\u001b[0mview\u001b[0m\u001b[0;34m(\u001b[0m\u001b[0;34m\"timedelta64[ns]\"\u001b[0m\u001b[0;34m)\u001b[0m\u001b[0;34m\u001b[0m\u001b[0;34m\u001b[0m\u001b[0m\n\u001b[1;32m   1100\u001b[0m \u001b[0;34m\u001b[0m\u001b[0m\n",
      "\u001b[0;32mpandas/_libs/tslibs/timedeltas.pyx\u001b[0m in \u001b[0;36mpandas._libs.tslibs.timedeltas.array_to_timedelta64\u001b[0;34m()\u001b[0m\n",
      "\u001b[0;32mpandas/_libs/tslibs/timedeltas.pyx\u001b[0m in \u001b[0;36mpandas._libs.tslibs.timedeltas.convert_to_timedelta64\u001b[0;34m()\u001b[0m\n",
      "\u001b[0;32mpandas/_libs/tslibs/timedeltas.pyx\u001b[0m in \u001b[0;36mpandas._libs.tslibs.timedeltas.delta_to_nanoseconds\u001b[0;34m()\u001b[0m\n",
      "\u001b[0;31mOverflowError\u001b[0m: Python int too large to convert to C long"
     ]
    },
    {
     "name": "stderr",
     "output_type": "stream",
     "text": [
      "Exception ignored in: 'pandas._libs.algos.are_diff'\n",
      "Traceback (most recent call last):\n",
      "  File \"/project/ccr/apgrass/miniconda3/envs/cmip6/lib/python3.7/site-packages/xarray/coding/cftimeindex.py\", line 415, in __sub__\n",
      "    return pd.TimedeltaIndex(np.array(self) - np.array(other))\n",
      "  File \"/project/ccr/apgrass/miniconda3/envs/cmip6/lib/python3.7/site-packages/pandas/core/indexes/timedeltas.py\", line 258, in __new__\n",
      "    data, freq=freq, unit=unit, dtype=dtype, copy=copy\n",
      "  File \"/project/ccr/apgrass/miniconda3/envs/cmip6/lib/python3.7/site-packages/pandas/core/arrays/timedeltas.py\", line 272, in _from_sequence\n",
      "    data, inferred_freq = sequence_to_td64ns(data, copy=copy, unit=unit)\n",
      "  File \"/project/ccr/apgrass/miniconda3/envs/cmip6/lib/python3.7/site-packages/pandas/core/arrays/timedeltas.py\", line 973, in sequence_to_td64ns\n",
      "    data = objects_to_td64ns(data, unit=unit, errors=errors)\n",
      "  File \"/project/ccr/apgrass/miniconda3/envs/cmip6/lib/python3.7/site-packages/pandas/core/arrays/timedeltas.py\", line 1098, in objects_to_td64ns\n",
      "    result = array_to_timedelta64(values, unit=unit, errors=errors)\n",
      "  File \"pandas/_libs/tslibs/timedeltas.pyx\", line 236, in pandas._libs.tslibs.timedeltas.array_to_timedelta64\n",
      "  File \"pandas/_libs/tslibs/timedeltas.pyx\", line 199, in pandas._libs.tslibs.timedeltas.convert_to_timedelta64\n",
      "  File \"pandas/_libs/tslibs/timedeltas.pyx\", line 144, in pandas._libs.tslibs.timedeltas.delta_to_nanoseconds\n",
      "OverflowError: Python int too large to convert to C long\n"
     ]
    },
    {
     "name": "stdout",
     "output_type": "stream",
     "text": [
      "globalannualmean: IPSL-CM6A-LR r1i1p1f1 trying just first file\n",
      "/project/cmip6/piControl/Amon/rsut/IPSL-CM6A-LR/r1i1p1f1/gr/rsut_Amon_IPSL-CM6A-LR_piControl_r1i1p1f1_gr_185001-234912.nc\n"
     ]
    },
    {
     "ename": "OverflowError",
     "evalue": "Python int too large to convert to C long",
     "output_type": "error",
     "traceback": [
      "\u001b[0;31m---------------------------------------------------------------------------\u001b[0m",
      "\u001b[0;31mTypeError\u001b[0m                                 Traceback (most recent call last)",
      "\u001b[0;32mpandas/_libs/tslibs/timedeltas.pyx\u001b[0m in \u001b[0;36mpandas._libs.tslibs.timedeltas.array_to_timedelta64\u001b[0;34m()\u001b[0m\n",
      "\u001b[0;32mpandas/_libs/tslibs/timedeltas.pyx\u001b[0m in \u001b[0;36mpandas._libs.tslibs.timedeltas.parse_timedelta_string\u001b[0;34m()\u001b[0m\n",
      "\u001b[0;31mTypeError\u001b[0m: object of type 'datetime.timedelta' has no len()",
      "\nDuring handling of the above exception, another exception occurred:\n",
      "\u001b[0;31mOverflowError\u001b[0m                             Traceback (most recent call last)",
      "\u001b[0;32m/project/ccr/apgrass/miniconda3/envs/cmip6/lib/python3.7/site-packages/xarray/coding/cftimeindex.py\u001b[0m in \u001b[0;36m__sub__\u001b[0;34m(self, other)\u001b[0m\n\u001b[1;32m    413\u001b[0m         \u001b[0;32mimport\u001b[0m \u001b[0mcftime\u001b[0m\u001b[0;34m\u001b[0m\u001b[0;34m\u001b[0m\u001b[0m\n\u001b[1;32m    414\u001b[0m         \u001b[0;32mif\u001b[0m \u001b[0misinstance\u001b[0m\u001b[0;34m(\u001b[0m\u001b[0mother\u001b[0m\u001b[0;34m,\u001b[0m \u001b[0;34m(\u001b[0m\u001b[0mCFTimeIndex\u001b[0m\u001b[0;34m,\u001b[0m \u001b[0mcftime\u001b[0m\u001b[0;34m.\u001b[0m\u001b[0mdatetime\u001b[0m\u001b[0;34m)\u001b[0m\u001b[0;34m)\u001b[0m\u001b[0;34m:\u001b[0m\u001b[0;34m\u001b[0m\u001b[0;34m\u001b[0m\u001b[0m\n\u001b[0;32m--> 415\u001b[0;31m             \u001b[0;32mreturn\u001b[0m \u001b[0mpd\u001b[0m\u001b[0;34m.\u001b[0m\u001b[0mTimedeltaIndex\u001b[0m\u001b[0;34m(\u001b[0m\u001b[0mnp\u001b[0m\u001b[0;34m.\u001b[0m\u001b[0marray\u001b[0m\u001b[0;34m(\u001b[0m\u001b[0mself\u001b[0m\u001b[0;34m)\u001b[0m \u001b[0;34m-\u001b[0m \u001b[0mnp\u001b[0m\u001b[0;34m.\u001b[0m\u001b[0marray\u001b[0m\u001b[0;34m(\u001b[0m\u001b[0mother\u001b[0m\u001b[0;34m)\u001b[0m\u001b[0;34m)\u001b[0m\u001b[0;34m\u001b[0m\u001b[0;34m\u001b[0m\u001b[0m\n\u001b[0m\u001b[1;32m    416\u001b[0m         \u001b[0;32melif\u001b[0m \u001b[0misinstance\u001b[0m\u001b[0;34m(\u001b[0m\u001b[0mother\u001b[0m\u001b[0;34m,\u001b[0m \u001b[0mpd\u001b[0m\u001b[0;34m.\u001b[0m\u001b[0mTimedeltaIndex\u001b[0m\u001b[0;34m)\u001b[0m\u001b[0;34m:\u001b[0m\u001b[0;34m\u001b[0m\u001b[0;34m\u001b[0m\u001b[0m\n\u001b[1;32m    417\u001b[0m             \u001b[0;32mreturn\u001b[0m \u001b[0mCFTimeIndex\u001b[0m\u001b[0;34m(\u001b[0m\u001b[0mnp\u001b[0m\u001b[0;34m.\u001b[0m\u001b[0marray\u001b[0m\u001b[0;34m(\u001b[0m\u001b[0mself\u001b[0m\u001b[0;34m)\u001b[0m \u001b[0;34m-\u001b[0m \u001b[0mother\u001b[0m\u001b[0;34m.\u001b[0m\u001b[0mto_pytimedelta\u001b[0m\u001b[0;34m(\u001b[0m\u001b[0;34m)\u001b[0m\u001b[0;34m)\u001b[0m\u001b[0;34m\u001b[0m\u001b[0;34m\u001b[0m\u001b[0m\n",
      "\u001b[0;32m/project/ccr/apgrass/miniconda3/envs/cmip6/lib/python3.7/site-packages/pandas/core/indexes/timedeltas.py\u001b[0m in \u001b[0;36m__new__\u001b[0;34m(cls, data, unit, freq, start, end, periods, closed, dtype, copy, name, verify_integrity)\u001b[0m\n\u001b[1;32m    256\u001b[0m \u001b[0;34m\u001b[0m\u001b[0m\n\u001b[1;32m    257\u001b[0m         tdarr = TimedeltaArray._from_sequence(\n\u001b[0;32m--> 258\u001b[0;31m             \u001b[0mdata\u001b[0m\u001b[0;34m,\u001b[0m \u001b[0mfreq\u001b[0m\u001b[0;34m=\u001b[0m\u001b[0mfreq\u001b[0m\u001b[0;34m,\u001b[0m \u001b[0munit\u001b[0m\u001b[0;34m=\u001b[0m\u001b[0munit\u001b[0m\u001b[0;34m,\u001b[0m \u001b[0mdtype\u001b[0m\u001b[0;34m=\u001b[0m\u001b[0mdtype\u001b[0m\u001b[0;34m,\u001b[0m \u001b[0mcopy\u001b[0m\u001b[0;34m=\u001b[0m\u001b[0mcopy\u001b[0m\u001b[0;34m\u001b[0m\u001b[0;34m\u001b[0m\u001b[0m\n\u001b[0m\u001b[1;32m    259\u001b[0m         )\n\u001b[1;32m    260\u001b[0m         \u001b[0;32mreturn\u001b[0m \u001b[0mcls\u001b[0m\u001b[0;34m.\u001b[0m\u001b[0m_simple_new\u001b[0m\u001b[0;34m(\u001b[0m\u001b[0mtdarr\u001b[0m\u001b[0;34m.\u001b[0m\u001b[0m_data\u001b[0m\u001b[0;34m,\u001b[0m \u001b[0mfreq\u001b[0m\u001b[0;34m=\u001b[0m\u001b[0mtdarr\u001b[0m\u001b[0;34m.\u001b[0m\u001b[0mfreq\u001b[0m\u001b[0;34m,\u001b[0m \u001b[0mname\u001b[0m\u001b[0;34m=\u001b[0m\u001b[0mname\u001b[0m\u001b[0;34m)\u001b[0m\u001b[0;34m\u001b[0m\u001b[0;34m\u001b[0m\u001b[0m\n",
      "\u001b[0;32m/project/ccr/apgrass/miniconda3/envs/cmip6/lib/python3.7/site-packages/pandas/core/arrays/timedeltas.py\u001b[0m in \u001b[0;36m_from_sequence\u001b[0;34m(cls, data, dtype, copy, freq, unit)\u001b[0m\n\u001b[1;32m    270\u001b[0m         \u001b[0mfreq\u001b[0m\u001b[0;34m,\u001b[0m \u001b[0mfreq_infer\u001b[0m \u001b[0;34m=\u001b[0m \u001b[0mdtl\u001b[0m\u001b[0;34m.\u001b[0m\u001b[0mmaybe_infer_freq\u001b[0m\u001b[0;34m(\u001b[0m\u001b[0mfreq\u001b[0m\u001b[0;34m)\u001b[0m\u001b[0;34m\u001b[0m\u001b[0;34m\u001b[0m\u001b[0m\n\u001b[1;32m    271\u001b[0m \u001b[0;34m\u001b[0m\u001b[0m\n\u001b[0;32m--> 272\u001b[0;31m         \u001b[0mdata\u001b[0m\u001b[0;34m,\u001b[0m \u001b[0minferred_freq\u001b[0m \u001b[0;34m=\u001b[0m \u001b[0msequence_to_td64ns\u001b[0m\u001b[0;34m(\u001b[0m\u001b[0mdata\u001b[0m\u001b[0;34m,\u001b[0m \u001b[0mcopy\u001b[0m\u001b[0;34m=\u001b[0m\u001b[0mcopy\u001b[0m\u001b[0;34m,\u001b[0m \u001b[0munit\u001b[0m\u001b[0;34m=\u001b[0m\u001b[0munit\u001b[0m\u001b[0;34m)\u001b[0m\u001b[0;34m\u001b[0m\u001b[0;34m\u001b[0m\u001b[0m\n\u001b[0m\u001b[1;32m    273\u001b[0m         \u001b[0mfreq\u001b[0m\u001b[0;34m,\u001b[0m \u001b[0mfreq_infer\u001b[0m \u001b[0;34m=\u001b[0m \u001b[0mdtl\u001b[0m\u001b[0;34m.\u001b[0m\u001b[0mvalidate_inferred_freq\u001b[0m\u001b[0;34m(\u001b[0m\u001b[0mfreq\u001b[0m\u001b[0;34m,\u001b[0m \u001b[0minferred_freq\u001b[0m\u001b[0;34m,\u001b[0m \u001b[0mfreq_infer\u001b[0m\u001b[0;34m)\u001b[0m\u001b[0;34m\u001b[0m\u001b[0;34m\u001b[0m\u001b[0m\n\u001b[1;32m    274\u001b[0m \u001b[0;34m\u001b[0m\u001b[0m\n",
      "\u001b[0;32m/project/ccr/apgrass/miniconda3/envs/cmip6/lib/python3.7/site-packages/pandas/core/arrays/timedeltas.py\u001b[0m in \u001b[0;36msequence_to_td64ns\u001b[0;34m(data, copy, unit, errors)\u001b[0m\n\u001b[1;32m    971\u001b[0m     \u001b[0;32mif\u001b[0m \u001b[0mis_object_dtype\u001b[0m\u001b[0;34m(\u001b[0m\u001b[0mdata\u001b[0m\u001b[0;34m.\u001b[0m\u001b[0mdtype\u001b[0m\u001b[0;34m)\u001b[0m \u001b[0;32mor\u001b[0m \u001b[0mis_string_dtype\u001b[0m\u001b[0;34m(\u001b[0m\u001b[0mdata\u001b[0m\u001b[0;34m.\u001b[0m\u001b[0mdtype\u001b[0m\u001b[0;34m)\u001b[0m\u001b[0;34m:\u001b[0m\u001b[0;34m\u001b[0m\u001b[0;34m\u001b[0m\u001b[0m\n\u001b[1;32m    972\u001b[0m         \u001b[0;31m# no need to make a copy, need to convert if string-dtyped\u001b[0m\u001b[0;34m\u001b[0m\u001b[0;34m\u001b[0m\u001b[0;34m\u001b[0m\u001b[0m\n\u001b[0;32m--> 973\u001b[0;31m         \u001b[0mdata\u001b[0m \u001b[0;34m=\u001b[0m \u001b[0mobjects_to_td64ns\u001b[0m\u001b[0;34m(\u001b[0m\u001b[0mdata\u001b[0m\u001b[0;34m,\u001b[0m \u001b[0munit\u001b[0m\u001b[0;34m=\u001b[0m\u001b[0munit\u001b[0m\u001b[0;34m,\u001b[0m \u001b[0merrors\u001b[0m\u001b[0;34m=\u001b[0m\u001b[0merrors\u001b[0m\u001b[0;34m)\u001b[0m\u001b[0;34m\u001b[0m\u001b[0;34m\u001b[0m\u001b[0m\n\u001b[0m\u001b[1;32m    974\u001b[0m         \u001b[0mcopy\u001b[0m \u001b[0;34m=\u001b[0m \u001b[0;32mFalse\u001b[0m\u001b[0;34m\u001b[0m\u001b[0;34m\u001b[0m\u001b[0m\n\u001b[1;32m    975\u001b[0m \u001b[0;34m\u001b[0m\u001b[0m\n",
      "\u001b[0;32m/project/ccr/apgrass/miniconda3/envs/cmip6/lib/python3.7/site-packages/pandas/core/arrays/timedeltas.py\u001b[0m in \u001b[0;36mobjects_to_td64ns\u001b[0;34m(data, unit, errors)\u001b[0m\n\u001b[1;32m   1096\u001b[0m     \u001b[0mvalues\u001b[0m \u001b[0;34m=\u001b[0m \u001b[0mnp\u001b[0m\u001b[0;34m.\u001b[0m\u001b[0marray\u001b[0m\u001b[0;34m(\u001b[0m\u001b[0mdata\u001b[0m\u001b[0;34m,\u001b[0m \u001b[0mdtype\u001b[0m\u001b[0;34m=\u001b[0m\u001b[0mnp\u001b[0m\u001b[0;34m.\u001b[0m\u001b[0mobject_\u001b[0m\u001b[0;34m,\u001b[0m \u001b[0mcopy\u001b[0m\u001b[0;34m=\u001b[0m\u001b[0;32mFalse\u001b[0m\u001b[0;34m)\u001b[0m\u001b[0;34m\u001b[0m\u001b[0;34m\u001b[0m\u001b[0m\n\u001b[1;32m   1097\u001b[0m \u001b[0;34m\u001b[0m\u001b[0m\n\u001b[0;32m-> 1098\u001b[0;31m     \u001b[0mresult\u001b[0m \u001b[0;34m=\u001b[0m \u001b[0marray_to_timedelta64\u001b[0m\u001b[0;34m(\u001b[0m\u001b[0mvalues\u001b[0m\u001b[0;34m,\u001b[0m \u001b[0munit\u001b[0m\u001b[0;34m=\u001b[0m\u001b[0munit\u001b[0m\u001b[0;34m,\u001b[0m \u001b[0merrors\u001b[0m\u001b[0;34m=\u001b[0m\u001b[0merrors\u001b[0m\u001b[0;34m)\u001b[0m\u001b[0;34m\u001b[0m\u001b[0;34m\u001b[0m\u001b[0m\n\u001b[0m\u001b[1;32m   1099\u001b[0m     \u001b[0;32mreturn\u001b[0m \u001b[0mresult\u001b[0m\u001b[0;34m.\u001b[0m\u001b[0mview\u001b[0m\u001b[0;34m(\u001b[0m\u001b[0;34m\"timedelta64[ns]\"\u001b[0m\u001b[0;34m)\u001b[0m\u001b[0;34m\u001b[0m\u001b[0;34m\u001b[0m\u001b[0m\n\u001b[1;32m   1100\u001b[0m \u001b[0;34m\u001b[0m\u001b[0m\n",
      "\u001b[0;32mpandas/_libs/tslibs/timedeltas.pyx\u001b[0m in \u001b[0;36mpandas._libs.tslibs.timedeltas.array_to_timedelta64\u001b[0;34m()\u001b[0m\n",
      "\u001b[0;32mpandas/_libs/tslibs/timedeltas.pyx\u001b[0m in \u001b[0;36mpandas._libs.tslibs.timedeltas.convert_to_timedelta64\u001b[0;34m()\u001b[0m\n",
      "\u001b[0;32mpandas/_libs/tslibs/timedeltas.pyx\u001b[0m in \u001b[0;36mpandas._libs.tslibs.timedeltas.delta_to_nanoseconds\u001b[0;34m()\u001b[0m\n",
      "\u001b[0;31mOverflowError\u001b[0m: Python int too large to convert to C long"
     ]
    },
    {
     "name": "stderr",
     "output_type": "stream",
     "text": [
      "Exception ignored in: 'pandas._libs.algos.are_diff'\n",
      "Traceback (most recent call last):\n",
      "  File \"/project/ccr/apgrass/miniconda3/envs/cmip6/lib/python3.7/site-packages/xarray/coding/cftimeindex.py\", line 415, in __sub__\n",
      "    return pd.TimedeltaIndex(np.array(self) - np.array(other))\n",
      "  File \"/project/ccr/apgrass/miniconda3/envs/cmip6/lib/python3.7/site-packages/pandas/core/indexes/timedeltas.py\", line 258, in __new__\n",
      "    data, freq=freq, unit=unit, dtype=dtype, copy=copy\n",
      "  File \"/project/ccr/apgrass/miniconda3/envs/cmip6/lib/python3.7/site-packages/pandas/core/arrays/timedeltas.py\", line 272, in _from_sequence\n",
      "    data, inferred_freq = sequence_to_td64ns(data, copy=copy, unit=unit)\n",
      "  File \"/project/ccr/apgrass/miniconda3/envs/cmip6/lib/python3.7/site-packages/pandas/core/arrays/timedeltas.py\", line 973, in sequence_to_td64ns\n",
      "    data = objects_to_td64ns(data, unit=unit, errors=errors)\n",
      "  File \"/project/ccr/apgrass/miniconda3/envs/cmip6/lib/python3.7/site-packages/pandas/core/arrays/timedeltas.py\", line 1098, in objects_to_td64ns\n",
      "    result = array_to_timedelta64(values, unit=unit, errors=errors)\n",
      "  File \"pandas/_libs/tslibs/timedeltas.pyx\", line 236, in pandas._libs.tslibs.timedeltas.array_to_timedelta64\n",
      "  File \"pandas/_libs/tslibs/timedeltas.pyx\", line 199, in pandas._libs.tslibs.timedeltas.convert_to_timedelta64\n",
      "  File \"pandas/_libs/tslibs/timedeltas.pyx\", line 144, in pandas._libs.tslibs.timedeltas.delta_to_nanoseconds\n",
      "OverflowError: Python int too large to convert to C long\n"
     ]
    },
    {
     "ename": "OverflowError",
     "evalue": "Python int too large to convert to C long",
     "output_type": "error",
     "traceback": [
      "\u001b[0;31m---------------------------------------------------------------------------\u001b[0m",
      "\u001b[0;31mTypeError\u001b[0m                                 Traceback (most recent call last)",
      "\u001b[0;32mpandas/_libs/tslibs/timedeltas.pyx\u001b[0m in \u001b[0;36mpandas._libs.tslibs.timedeltas.array_to_timedelta64\u001b[0;34m()\u001b[0m\n",
      "\u001b[0;32mpandas/_libs/tslibs/timedeltas.pyx\u001b[0m in \u001b[0;36mpandas._libs.tslibs.timedeltas.parse_timedelta_string\u001b[0;34m()\u001b[0m\n",
      "\u001b[0;31mTypeError\u001b[0m: object of type 'datetime.timedelta' has no len()",
      "\nDuring handling of the above exception, another exception occurred:\n",
      "\u001b[0;31mOverflowError\u001b[0m                             Traceback (most recent call last)",
      "\u001b[0;32m/project/ccr/apgrass/miniconda3/envs/cmip6/lib/python3.7/site-packages/xarray/coding/cftimeindex.py\u001b[0m in \u001b[0;36m__sub__\u001b[0;34m(self, other)\u001b[0m\n\u001b[1;32m    413\u001b[0m         \u001b[0;32mimport\u001b[0m \u001b[0mcftime\u001b[0m\u001b[0;34m\u001b[0m\u001b[0;34m\u001b[0m\u001b[0m\n\u001b[1;32m    414\u001b[0m         \u001b[0;32mif\u001b[0m \u001b[0misinstance\u001b[0m\u001b[0;34m(\u001b[0m\u001b[0mother\u001b[0m\u001b[0;34m,\u001b[0m \u001b[0;34m(\u001b[0m\u001b[0mCFTimeIndex\u001b[0m\u001b[0;34m,\u001b[0m \u001b[0mcftime\u001b[0m\u001b[0;34m.\u001b[0m\u001b[0mdatetime\u001b[0m\u001b[0;34m)\u001b[0m\u001b[0;34m)\u001b[0m\u001b[0;34m:\u001b[0m\u001b[0;34m\u001b[0m\u001b[0;34m\u001b[0m\u001b[0m\n\u001b[0;32m--> 415\u001b[0;31m             \u001b[0;32mreturn\u001b[0m \u001b[0mpd\u001b[0m\u001b[0;34m.\u001b[0m\u001b[0mTimedeltaIndex\u001b[0m\u001b[0;34m(\u001b[0m\u001b[0mnp\u001b[0m\u001b[0;34m.\u001b[0m\u001b[0marray\u001b[0m\u001b[0;34m(\u001b[0m\u001b[0mself\u001b[0m\u001b[0;34m)\u001b[0m \u001b[0;34m-\u001b[0m \u001b[0mnp\u001b[0m\u001b[0;34m.\u001b[0m\u001b[0marray\u001b[0m\u001b[0;34m(\u001b[0m\u001b[0mother\u001b[0m\u001b[0;34m)\u001b[0m\u001b[0;34m)\u001b[0m\u001b[0;34m\u001b[0m\u001b[0;34m\u001b[0m\u001b[0m\n\u001b[0m\u001b[1;32m    416\u001b[0m         \u001b[0;32melif\u001b[0m \u001b[0misinstance\u001b[0m\u001b[0;34m(\u001b[0m\u001b[0mother\u001b[0m\u001b[0;34m,\u001b[0m \u001b[0mpd\u001b[0m\u001b[0;34m.\u001b[0m\u001b[0mTimedeltaIndex\u001b[0m\u001b[0;34m)\u001b[0m\u001b[0;34m:\u001b[0m\u001b[0;34m\u001b[0m\u001b[0;34m\u001b[0m\u001b[0m\n\u001b[1;32m    417\u001b[0m             \u001b[0;32mreturn\u001b[0m \u001b[0mCFTimeIndex\u001b[0m\u001b[0;34m(\u001b[0m\u001b[0mnp\u001b[0m\u001b[0;34m.\u001b[0m\u001b[0marray\u001b[0m\u001b[0;34m(\u001b[0m\u001b[0mself\u001b[0m\u001b[0;34m)\u001b[0m \u001b[0;34m-\u001b[0m \u001b[0mother\u001b[0m\u001b[0;34m.\u001b[0m\u001b[0mto_pytimedelta\u001b[0m\u001b[0;34m(\u001b[0m\u001b[0;34m)\u001b[0m\u001b[0;34m)\u001b[0m\u001b[0;34m\u001b[0m\u001b[0;34m\u001b[0m\u001b[0m\n",
      "\u001b[0;32m/project/ccr/apgrass/miniconda3/envs/cmip6/lib/python3.7/site-packages/pandas/core/indexes/timedeltas.py\u001b[0m in \u001b[0;36m__new__\u001b[0;34m(cls, data, unit, freq, start, end, periods, closed, dtype, copy, name, verify_integrity)\u001b[0m\n\u001b[1;32m    256\u001b[0m \u001b[0;34m\u001b[0m\u001b[0m\n\u001b[1;32m    257\u001b[0m         tdarr = TimedeltaArray._from_sequence(\n\u001b[0;32m--> 258\u001b[0;31m             \u001b[0mdata\u001b[0m\u001b[0;34m,\u001b[0m \u001b[0mfreq\u001b[0m\u001b[0;34m=\u001b[0m\u001b[0mfreq\u001b[0m\u001b[0;34m,\u001b[0m \u001b[0munit\u001b[0m\u001b[0;34m=\u001b[0m\u001b[0munit\u001b[0m\u001b[0;34m,\u001b[0m \u001b[0mdtype\u001b[0m\u001b[0;34m=\u001b[0m\u001b[0mdtype\u001b[0m\u001b[0;34m,\u001b[0m \u001b[0mcopy\u001b[0m\u001b[0;34m=\u001b[0m\u001b[0mcopy\u001b[0m\u001b[0;34m\u001b[0m\u001b[0;34m\u001b[0m\u001b[0m\n\u001b[0m\u001b[1;32m    259\u001b[0m         )\n\u001b[1;32m    260\u001b[0m         \u001b[0;32mreturn\u001b[0m \u001b[0mcls\u001b[0m\u001b[0;34m.\u001b[0m\u001b[0m_simple_new\u001b[0m\u001b[0;34m(\u001b[0m\u001b[0mtdarr\u001b[0m\u001b[0;34m.\u001b[0m\u001b[0m_data\u001b[0m\u001b[0;34m,\u001b[0m \u001b[0mfreq\u001b[0m\u001b[0;34m=\u001b[0m\u001b[0mtdarr\u001b[0m\u001b[0;34m.\u001b[0m\u001b[0mfreq\u001b[0m\u001b[0;34m,\u001b[0m \u001b[0mname\u001b[0m\u001b[0;34m=\u001b[0m\u001b[0mname\u001b[0m\u001b[0;34m)\u001b[0m\u001b[0;34m\u001b[0m\u001b[0;34m\u001b[0m\u001b[0m\n",
      "\u001b[0;32m/project/ccr/apgrass/miniconda3/envs/cmip6/lib/python3.7/site-packages/pandas/core/arrays/timedeltas.py\u001b[0m in \u001b[0;36m_from_sequence\u001b[0;34m(cls, data, dtype, copy, freq, unit)\u001b[0m\n\u001b[1;32m    270\u001b[0m         \u001b[0mfreq\u001b[0m\u001b[0;34m,\u001b[0m \u001b[0mfreq_infer\u001b[0m \u001b[0;34m=\u001b[0m \u001b[0mdtl\u001b[0m\u001b[0;34m.\u001b[0m\u001b[0mmaybe_infer_freq\u001b[0m\u001b[0;34m(\u001b[0m\u001b[0mfreq\u001b[0m\u001b[0;34m)\u001b[0m\u001b[0;34m\u001b[0m\u001b[0;34m\u001b[0m\u001b[0m\n\u001b[1;32m    271\u001b[0m \u001b[0;34m\u001b[0m\u001b[0m\n\u001b[0;32m--> 272\u001b[0;31m         \u001b[0mdata\u001b[0m\u001b[0;34m,\u001b[0m \u001b[0minferred_freq\u001b[0m \u001b[0;34m=\u001b[0m \u001b[0msequence_to_td64ns\u001b[0m\u001b[0;34m(\u001b[0m\u001b[0mdata\u001b[0m\u001b[0;34m,\u001b[0m \u001b[0mcopy\u001b[0m\u001b[0;34m=\u001b[0m\u001b[0mcopy\u001b[0m\u001b[0;34m,\u001b[0m \u001b[0munit\u001b[0m\u001b[0;34m=\u001b[0m\u001b[0munit\u001b[0m\u001b[0;34m)\u001b[0m\u001b[0;34m\u001b[0m\u001b[0;34m\u001b[0m\u001b[0m\n\u001b[0m\u001b[1;32m    273\u001b[0m         \u001b[0mfreq\u001b[0m\u001b[0;34m,\u001b[0m \u001b[0mfreq_infer\u001b[0m \u001b[0;34m=\u001b[0m \u001b[0mdtl\u001b[0m\u001b[0;34m.\u001b[0m\u001b[0mvalidate_inferred_freq\u001b[0m\u001b[0;34m(\u001b[0m\u001b[0mfreq\u001b[0m\u001b[0;34m,\u001b[0m \u001b[0minferred_freq\u001b[0m\u001b[0;34m,\u001b[0m \u001b[0mfreq_infer\u001b[0m\u001b[0;34m)\u001b[0m\u001b[0;34m\u001b[0m\u001b[0;34m\u001b[0m\u001b[0m\n\u001b[1;32m    274\u001b[0m \u001b[0;34m\u001b[0m\u001b[0m\n",
      "\u001b[0;32m/project/ccr/apgrass/miniconda3/envs/cmip6/lib/python3.7/site-packages/pandas/core/arrays/timedeltas.py\u001b[0m in \u001b[0;36msequence_to_td64ns\u001b[0;34m(data, copy, unit, errors)\u001b[0m\n\u001b[1;32m    971\u001b[0m     \u001b[0;32mif\u001b[0m \u001b[0mis_object_dtype\u001b[0m\u001b[0;34m(\u001b[0m\u001b[0mdata\u001b[0m\u001b[0;34m.\u001b[0m\u001b[0mdtype\u001b[0m\u001b[0;34m)\u001b[0m \u001b[0;32mor\u001b[0m \u001b[0mis_string_dtype\u001b[0m\u001b[0;34m(\u001b[0m\u001b[0mdata\u001b[0m\u001b[0;34m.\u001b[0m\u001b[0mdtype\u001b[0m\u001b[0;34m)\u001b[0m\u001b[0;34m:\u001b[0m\u001b[0;34m\u001b[0m\u001b[0;34m\u001b[0m\u001b[0m\n\u001b[1;32m    972\u001b[0m         \u001b[0;31m# no need to make a copy, need to convert if string-dtyped\u001b[0m\u001b[0;34m\u001b[0m\u001b[0;34m\u001b[0m\u001b[0;34m\u001b[0m\u001b[0m\n\u001b[0;32m--> 973\u001b[0;31m         \u001b[0mdata\u001b[0m \u001b[0;34m=\u001b[0m \u001b[0mobjects_to_td64ns\u001b[0m\u001b[0;34m(\u001b[0m\u001b[0mdata\u001b[0m\u001b[0;34m,\u001b[0m \u001b[0munit\u001b[0m\u001b[0;34m=\u001b[0m\u001b[0munit\u001b[0m\u001b[0;34m,\u001b[0m \u001b[0merrors\u001b[0m\u001b[0;34m=\u001b[0m\u001b[0merrors\u001b[0m\u001b[0;34m)\u001b[0m\u001b[0;34m\u001b[0m\u001b[0;34m\u001b[0m\u001b[0m\n\u001b[0m\u001b[1;32m    974\u001b[0m         \u001b[0mcopy\u001b[0m \u001b[0;34m=\u001b[0m \u001b[0;32mFalse\u001b[0m\u001b[0;34m\u001b[0m\u001b[0;34m\u001b[0m\u001b[0m\n\u001b[1;32m    975\u001b[0m \u001b[0;34m\u001b[0m\u001b[0m\n",
      "\u001b[0;32m/project/ccr/apgrass/miniconda3/envs/cmip6/lib/python3.7/site-packages/pandas/core/arrays/timedeltas.py\u001b[0m in \u001b[0;36mobjects_to_td64ns\u001b[0;34m(data, unit, errors)\u001b[0m\n\u001b[1;32m   1096\u001b[0m     \u001b[0mvalues\u001b[0m \u001b[0;34m=\u001b[0m \u001b[0mnp\u001b[0m\u001b[0;34m.\u001b[0m\u001b[0marray\u001b[0m\u001b[0;34m(\u001b[0m\u001b[0mdata\u001b[0m\u001b[0;34m,\u001b[0m \u001b[0mdtype\u001b[0m\u001b[0;34m=\u001b[0m\u001b[0mnp\u001b[0m\u001b[0;34m.\u001b[0m\u001b[0mobject_\u001b[0m\u001b[0;34m,\u001b[0m \u001b[0mcopy\u001b[0m\u001b[0;34m=\u001b[0m\u001b[0;32mFalse\u001b[0m\u001b[0;34m)\u001b[0m\u001b[0;34m\u001b[0m\u001b[0;34m\u001b[0m\u001b[0m\n\u001b[1;32m   1097\u001b[0m \u001b[0;34m\u001b[0m\u001b[0m\n\u001b[0;32m-> 1098\u001b[0;31m     \u001b[0mresult\u001b[0m \u001b[0;34m=\u001b[0m \u001b[0marray_to_timedelta64\u001b[0m\u001b[0;34m(\u001b[0m\u001b[0mvalues\u001b[0m\u001b[0;34m,\u001b[0m \u001b[0munit\u001b[0m\u001b[0;34m=\u001b[0m\u001b[0munit\u001b[0m\u001b[0;34m,\u001b[0m \u001b[0merrors\u001b[0m\u001b[0;34m=\u001b[0m\u001b[0merrors\u001b[0m\u001b[0;34m)\u001b[0m\u001b[0;34m\u001b[0m\u001b[0;34m\u001b[0m\u001b[0m\n\u001b[0m\u001b[1;32m   1099\u001b[0m     \u001b[0;32mreturn\u001b[0m \u001b[0mresult\u001b[0m\u001b[0;34m.\u001b[0m\u001b[0mview\u001b[0m\u001b[0;34m(\u001b[0m\u001b[0;34m\"timedelta64[ns]\"\u001b[0m\u001b[0;34m)\u001b[0m\u001b[0;34m\u001b[0m\u001b[0;34m\u001b[0m\u001b[0m\n\u001b[1;32m   1100\u001b[0m \u001b[0;34m\u001b[0m\u001b[0m\n",
      "\u001b[0;32mpandas/_libs/tslibs/timedeltas.pyx\u001b[0m in \u001b[0;36mpandas._libs.tslibs.timedeltas.array_to_timedelta64\u001b[0;34m()\u001b[0m\n",
      "\u001b[0;32mpandas/_libs/tslibs/timedeltas.pyx\u001b[0m in \u001b[0;36mpandas._libs.tslibs.timedeltas.convert_to_timedelta64\u001b[0;34m()\u001b[0m\n",
      "\u001b[0;32mpandas/_libs/tslibs/timedeltas.pyx\u001b[0m in \u001b[0;36mpandas._libs.tslibs.timedeltas.delta_to_nanoseconds\u001b[0;34m()\u001b[0m\n",
      "\u001b[0;31mOverflowError\u001b[0m: Python int too large to convert to C long"
     ]
    },
    {
     "name": "stderr",
     "output_type": "stream",
     "text": [
      "Exception ignored in: 'pandas._libs.algos.are_diff'\n",
      "Traceback (most recent call last):\n",
      "  File \"/project/ccr/apgrass/miniconda3/envs/cmip6/lib/python3.7/site-packages/xarray/coding/cftimeindex.py\", line 415, in __sub__\n",
      "    return pd.TimedeltaIndex(np.array(self) - np.array(other))\n",
      "  File \"/project/ccr/apgrass/miniconda3/envs/cmip6/lib/python3.7/site-packages/pandas/core/indexes/timedeltas.py\", line 258, in __new__\n",
      "    data, freq=freq, unit=unit, dtype=dtype, copy=copy\n",
      "  File \"/project/ccr/apgrass/miniconda3/envs/cmip6/lib/python3.7/site-packages/pandas/core/arrays/timedeltas.py\", line 272, in _from_sequence\n",
      "    data, inferred_freq = sequence_to_td64ns(data, copy=copy, unit=unit)\n",
      "  File \"/project/ccr/apgrass/miniconda3/envs/cmip6/lib/python3.7/site-packages/pandas/core/arrays/timedeltas.py\", line 973, in sequence_to_td64ns\n",
      "    data = objects_to_td64ns(data, unit=unit, errors=errors)\n",
      "  File \"/project/ccr/apgrass/miniconda3/envs/cmip6/lib/python3.7/site-packages/pandas/core/arrays/timedeltas.py\", line 1098, in objects_to_td64ns\n",
      "    result = array_to_timedelta64(values, unit=unit, errors=errors)\n",
      "  File \"pandas/_libs/tslibs/timedeltas.pyx\", line 236, in pandas._libs.tslibs.timedeltas.array_to_timedelta64\n",
      "  File \"pandas/_libs/tslibs/timedeltas.pyx\", line 199, in pandas._libs.tslibs.timedeltas.convert_to_timedelta64\n",
      "  File \"pandas/_libs/tslibs/timedeltas.pyx\", line 144, in pandas._libs.tslibs.timedeltas.delta_to_nanoseconds\n",
      "OverflowError: Python int too large to convert to C long\n"
     ]
    },
    {
     "name": "stdout",
     "output_type": "stream",
     "text": [
      "rsut\n",
      "/project/cmip6/piControl/Amon/rsut/IPSL-CM6A-LR/r1i2p1f1/gr/rsut_Amon_IPSL-CM6A-LR_piControl_r1i2p1f1_gr_185001-209812.nc\n",
      "rsut\n"
     ]
    },
    {
     "ename": "OverflowError",
     "evalue": "Python int too large to convert to C long",
     "output_type": "error",
     "traceback": [
      "\u001b[0;31m---------------------------------------------------------------------------\u001b[0m",
      "\u001b[0;31mTypeError\u001b[0m                                 Traceback (most recent call last)",
      "\u001b[0;32mpandas/_libs/tslibs/timedeltas.pyx\u001b[0m in \u001b[0;36mpandas._libs.tslibs.timedeltas.array_to_timedelta64\u001b[0;34m()\u001b[0m\n",
      "\u001b[0;32mpandas/_libs/tslibs/timedeltas.pyx\u001b[0m in \u001b[0;36mpandas._libs.tslibs.timedeltas.parse_timedelta_string\u001b[0;34m()\u001b[0m\n",
      "\u001b[0;31mTypeError\u001b[0m: object of type 'datetime.timedelta' has no len()",
      "\nDuring handling of the above exception, another exception occurred:\n",
      "\u001b[0;31mOverflowError\u001b[0m                             Traceback (most recent call last)",
      "\u001b[0;32m/project/ccr/apgrass/miniconda3/envs/cmip6/lib/python3.7/site-packages/xarray/coding/cftimeindex.py\u001b[0m in \u001b[0;36m__sub__\u001b[0;34m(self, other)\u001b[0m\n\u001b[1;32m    413\u001b[0m         \u001b[0;32mimport\u001b[0m \u001b[0mcftime\u001b[0m\u001b[0;34m\u001b[0m\u001b[0;34m\u001b[0m\u001b[0m\n\u001b[1;32m    414\u001b[0m         \u001b[0;32mif\u001b[0m \u001b[0misinstance\u001b[0m\u001b[0;34m(\u001b[0m\u001b[0mother\u001b[0m\u001b[0;34m,\u001b[0m \u001b[0;34m(\u001b[0m\u001b[0mCFTimeIndex\u001b[0m\u001b[0;34m,\u001b[0m \u001b[0mcftime\u001b[0m\u001b[0;34m.\u001b[0m\u001b[0mdatetime\u001b[0m\u001b[0;34m)\u001b[0m\u001b[0;34m)\u001b[0m\u001b[0;34m:\u001b[0m\u001b[0;34m\u001b[0m\u001b[0;34m\u001b[0m\u001b[0m\n\u001b[0;32m--> 415\u001b[0;31m             \u001b[0;32mreturn\u001b[0m \u001b[0mpd\u001b[0m\u001b[0;34m.\u001b[0m\u001b[0mTimedeltaIndex\u001b[0m\u001b[0;34m(\u001b[0m\u001b[0mnp\u001b[0m\u001b[0;34m.\u001b[0m\u001b[0marray\u001b[0m\u001b[0;34m(\u001b[0m\u001b[0mself\u001b[0m\u001b[0;34m)\u001b[0m \u001b[0;34m-\u001b[0m \u001b[0mnp\u001b[0m\u001b[0;34m.\u001b[0m\u001b[0marray\u001b[0m\u001b[0;34m(\u001b[0m\u001b[0mother\u001b[0m\u001b[0;34m)\u001b[0m\u001b[0;34m)\u001b[0m\u001b[0;34m\u001b[0m\u001b[0;34m\u001b[0m\u001b[0m\n\u001b[0m\u001b[1;32m    416\u001b[0m         \u001b[0;32melif\u001b[0m \u001b[0misinstance\u001b[0m\u001b[0;34m(\u001b[0m\u001b[0mother\u001b[0m\u001b[0;34m,\u001b[0m \u001b[0mpd\u001b[0m\u001b[0;34m.\u001b[0m\u001b[0mTimedeltaIndex\u001b[0m\u001b[0;34m)\u001b[0m\u001b[0;34m:\u001b[0m\u001b[0;34m\u001b[0m\u001b[0;34m\u001b[0m\u001b[0m\n\u001b[1;32m    417\u001b[0m             \u001b[0;32mreturn\u001b[0m \u001b[0mCFTimeIndex\u001b[0m\u001b[0;34m(\u001b[0m\u001b[0mnp\u001b[0m\u001b[0;34m.\u001b[0m\u001b[0marray\u001b[0m\u001b[0;34m(\u001b[0m\u001b[0mself\u001b[0m\u001b[0;34m)\u001b[0m \u001b[0;34m-\u001b[0m \u001b[0mother\u001b[0m\u001b[0;34m.\u001b[0m\u001b[0mto_pytimedelta\u001b[0m\u001b[0;34m(\u001b[0m\u001b[0;34m)\u001b[0m\u001b[0;34m)\u001b[0m\u001b[0;34m\u001b[0m\u001b[0;34m\u001b[0m\u001b[0m\n",
      "\u001b[0;32m/project/ccr/apgrass/miniconda3/envs/cmip6/lib/python3.7/site-packages/pandas/core/indexes/timedeltas.py\u001b[0m in \u001b[0;36m__new__\u001b[0;34m(cls, data, unit, freq, start, end, periods, closed, dtype, copy, name, verify_integrity)\u001b[0m\n\u001b[1;32m    256\u001b[0m \u001b[0;34m\u001b[0m\u001b[0m\n\u001b[1;32m    257\u001b[0m         tdarr = TimedeltaArray._from_sequence(\n\u001b[0;32m--> 258\u001b[0;31m             \u001b[0mdata\u001b[0m\u001b[0;34m,\u001b[0m \u001b[0mfreq\u001b[0m\u001b[0;34m=\u001b[0m\u001b[0mfreq\u001b[0m\u001b[0;34m,\u001b[0m \u001b[0munit\u001b[0m\u001b[0;34m=\u001b[0m\u001b[0munit\u001b[0m\u001b[0;34m,\u001b[0m \u001b[0mdtype\u001b[0m\u001b[0;34m=\u001b[0m\u001b[0mdtype\u001b[0m\u001b[0;34m,\u001b[0m \u001b[0mcopy\u001b[0m\u001b[0;34m=\u001b[0m\u001b[0mcopy\u001b[0m\u001b[0;34m\u001b[0m\u001b[0;34m\u001b[0m\u001b[0m\n\u001b[0m\u001b[1;32m    259\u001b[0m         )\n\u001b[1;32m    260\u001b[0m         \u001b[0;32mreturn\u001b[0m \u001b[0mcls\u001b[0m\u001b[0;34m.\u001b[0m\u001b[0m_simple_new\u001b[0m\u001b[0;34m(\u001b[0m\u001b[0mtdarr\u001b[0m\u001b[0;34m.\u001b[0m\u001b[0m_data\u001b[0m\u001b[0;34m,\u001b[0m \u001b[0mfreq\u001b[0m\u001b[0;34m=\u001b[0m\u001b[0mtdarr\u001b[0m\u001b[0;34m.\u001b[0m\u001b[0mfreq\u001b[0m\u001b[0;34m,\u001b[0m \u001b[0mname\u001b[0m\u001b[0;34m=\u001b[0m\u001b[0mname\u001b[0m\u001b[0;34m)\u001b[0m\u001b[0;34m\u001b[0m\u001b[0;34m\u001b[0m\u001b[0m\n",
      "\u001b[0;32m/project/ccr/apgrass/miniconda3/envs/cmip6/lib/python3.7/site-packages/pandas/core/arrays/timedeltas.py\u001b[0m in \u001b[0;36m_from_sequence\u001b[0;34m(cls, data, dtype, copy, freq, unit)\u001b[0m\n\u001b[1;32m    270\u001b[0m         \u001b[0mfreq\u001b[0m\u001b[0;34m,\u001b[0m \u001b[0mfreq_infer\u001b[0m \u001b[0;34m=\u001b[0m \u001b[0mdtl\u001b[0m\u001b[0;34m.\u001b[0m\u001b[0mmaybe_infer_freq\u001b[0m\u001b[0;34m(\u001b[0m\u001b[0mfreq\u001b[0m\u001b[0;34m)\u001b[0m\u001b[0;34m\u001b[0m\u001b[0;34m\u001b[0m\u001b[0m\n\u001b[1;32m    271\u001b[0m \u001b[0;34m\u001b[0m\u001b[0m\n\u001b[0;32m--> 272\u001b[0;31m         \u001b[0mdata\u001b[0m\u001b[0;34m,\u001b[0m \u001b[0minferred_freq\u001b[0m \u001b[0;34m=\u001b[0m \u001b[0msequence_to_td64ns\u001b[0m\u001b[0;34m(\u001b[0m\u001b[0mdata\u001b[0m\u001b[0;34m,\u001b[0m \u001b[0mcopy\u001b[0m\u001b[0;34m=\u001b[0m\u001b[0mcopy\u001b[0m\u001b[0;34m,\u001b[0m \u001b[0munit\u001b[0m\u001b[0;34m=\u001b[0m\u001b[0munit\u001b[0m\u001b[0;34m)\u001b[0m\u001b[0;34m\u001b[0m\u001b[0;34m\u001b[0m\u001b[0m\n\u001b[0m\u001b[1;32m    273\u001b[0m         \u001b[0mfreq\u001b[0m\u001b[0;34m,\u001b[0m \u001b[0mfreq_infer\u001b[0m \u001b[0;34m=\u001b[0m \u001b[0mdtl\u001b[0m\u001b[0;34m.\u001b[0m\u001b[0mvalidate_inferred_freq\u001b[0m\u001b[0;34m(\u001b[0m\u001b[0mfreq\u001b[0m\u001b[0;34m,\u001b[0m \u001b[0minferred_freq\u001b[0m\u001b[0;34m,\u001b[0m \u001b[0mfreq_infer\u001b[0m\u001b[0;34m)\u001b[0m\u001b[0;34m\u001b[0m\u001b[0;34m\u001b[0m\u001b[0m\n\u001b[1;32m    274\u001b[0m \u001b[0;34m\u001b[0m\u001b[0m\n",
      "\u001b[0;32m/project/ccr/apgrass/miniconda3/envs/cmip6/lib/python3.7/site-packages/pandas/core/arrays/timedeltas.py\u001b[0m in \u001b[0;36msequence_to_td64ns\u001b[0;34m(data, copy, unit, errors)\u001b[0m\n\u001b[1;32m    971\u001b[0m     \u001b[0;32mif\u001b[0m \u001b[0mis_object_dtype\u001b[0m\u001b[0;34m(\u001b[0m\u001b[0mdata\u001b[0m\u001b[0;34m.\u001b[0m\u001b[0mdtype\u001b[0m\u001b[0;34m)\u001b[0m \u001b[0;32mor\u001b[0m \u001b[0mis_string_dtype\u001b[0m\u001b[0;34m(\u001b[0m\u001b[0mdata\u001b[0m\u001b[0;34m.\u001b[0m\u001b[0mdtype\u001b[0m\u001b[0;34m)\u001b[0m\u001b[0;34m:\u001b[0m\u001b[0;34m\u001b[0m\u001b[0;34m\u001b[0m\u001b[0m\n\u001b[1;32m    972\u001b[0m         \u001b[0;31m# no need to make a copy, need to convert if string-dtyped\u001b[0m\u001b[0;34m\u001b[0m\u001b[0;34m\u001b[0m\u001b[0;34m\u001b[0m\u001b[0m\n\u001b[0;32m--> 973\u001b[0;31m         \u001b[0mdata\u001b[0m \u001b[0;34m=\u001b[0m \u001b[0mobjects_to_td64ns\u001b[0m\u001b[0;34m(\u001b[0m\u001b[0mdata\u001b[0m\u001b[0;34m,\u001b[0m \u001b[0munit\u001b[0m\u001b[0;34m=\u001b[0m\u001b[0munit\u001b[0m\u001b[0;34m,\u001b[0m \u001b[0merrors\u001b[0m\u001b[0;34m=\u001b[0m\u001b[0merrors\u001b[0m\u001b[0;34m)\u001b[0m\u001b[0;34m\u001b[0m\u001b[0;34m\u001b[0m\u001b[0m\n\u001b[0m\u001b[1;32m    974\u001b[0m         \u001b[0mcopy\u001b[0m \u001b[0;34m=\u001b[0m \u001b[0;32mFalse\u001b[0m\u001b[0;34m\u001b[0m\u001b[0;34m\u001b[0m\u001b[0m\n\u001b[1;32m    975\u001b[0m \u001b[0;34m\u001b[0m\u001b[0m\n",
      "\u001b[0;32m/project/ccr/apgrass/miniconda3/envs/cmip6/lib/python3.7/site-packages/pandas/core/arrays/timedeltas.py\u001b[0m in \u001b[0;36mobjects_to_td64ns\u001b[0;34m(data, unit, errors)\u001b[0m\n\u001b[1;32m   1096\u001b[0m     \u001b[0mvalues\u001b[0m \u001b[0;34m=\u001b[0m \u001b[0mnp\u001b[0m\u001b[0;34m.\u001b[0m\u001b[0marray\u001b[0m\u001b[0;34m(\u001b[0m\u001b[0mdata\u001b[0m\u001b[0;34m,\u001b[0m \u001b[0mdtype\u001b[0m\u001b[0;34m=\u001b[0m\u001b[0mnp\u001b[0m\u001b[0;34m.\u001b[0m\u001b[0mobject_\u001b[0m\u001b[0;34m,\u001b[0m \u001b[0mcopy\u001b[0m\u001b[0;34m=\u001b[0m\u001b[0;32mFalse\u001b[0m\u001b[0;34m)\u001b[0m\u001b[0;34m\u001b[0m\u001b[0;34m\u001b[0m\u001b[0m\n\u001b[1;32m   1097\u001b[0m \u001b[0;34m\u001b[0m\u001b[0m\n\u001b[0;32m-> 1098\u001b[0;31m     \u001b[0mresult\u001b[0m \u001b[0;34m=\u001b[0m \u001b[0marray_to_timedelta64\u001b[0m\u001b[0;34m(\u001b[0m\u001b[0mvalues\u001b[0m\u001b[0;34m,\u001b[0m \u001b[0munit\u001b[0m\u001b[0;34m=\u001b[0m\u001b[0munit\u001b[0m\u001b[0;34m,\u001b[0m \u001b[0merrors\u001b[0m\u001b[0;34m=\u001b[0m\u001b[0merrors\u001b[0m\u001b[0;34m)\u001b[0m\u001b[0;34m\u001b[0m\u001b[0;34m\u001b[0m\u001b[0m\n\u001b[0m\u001b[1;32m   1099\u001b[0m     \u001b[0;32mreturn\u001b[0m \u001b[0mresult\u001b[0m\u001b[0;34m.\u001b[0m\u001b[0mview\u001b[0m\u001b[0;34m(\u001b[0m\u001b[0;34m\"timedelta64[ns]\"\u001b[0m\u001b[0;34m)\u001b[0m\u001b[0;34m\u001b[0m\u001b[0;34m\u001b[0m\u001b[0m\n\u001b[1;32m   1100\u001b[0m \u001b[0;34m\u001b[0m\u001b[0m\n",
      "\u001b[0;32mpandas/_libs/tslibs/timedeltas.pyx\u001b[0m in \u001b[0;36mpandas._libs.tslibs.timedeltas.array_to_timedelta64\u001b[0;34m()\u001b[0m\n",
      "\u001b[0;32mpandas/_libs/tslibs/timedeltas.pyx\u001b[0m in \u001b[0;36mpandas._libs.tslibs.timedeltas.convert_to_timedelta64\u001b[0;34m()\u001b[0m\n",
      "\u001b[0;32mpandas/_libs/tslibs/timedeltas.pyx\u001b[0m in \u001b[0;36mpandas._libs.tslibs.timedeltas.delta_to_nanoseconds\u001b[0;34m()\u001b[0m\n",
      "\u001b[0;31mOverflowError\u001b[0m: Python int too large to convert to C long"
     ]
    },
    {
     "name": "stderr",
     "output_type": "stream",
     "text": [
      "Exception ignored in: 'pandas._libs.algos.are_diff'\n",
      "Traceback (most recent call last):\n",
      "  File \"/project/ccr/apgrass/miniconda3/envs/cmip6/lib/python3.7/site-packages/xarray/coding/cftimeindex.py\", line 415, in __sub__\n",
      "    return pd.TimedeltaIndex(np.array(self) - np.array(other))\n",
      "  File \"/project/ccr/apgrass/miniconda3/envs/cmip6/lib/python3.7/site-packages/pandas/core/indexes/timedeltas.py\", line 258, in __new__\n",
      "    data, freq=freq, unit=unit, dtype=dtype, copy=copy\n",
      "  File \"/project/ccr/apgrass/miniconda3/envs/cmip6/lib/python3.7/site-packages/pandas/core/arrays/timedeltas.py\", line 272, in _from_sequence\n",
      "    data, inferred_freq = sequence_to_td64ns(data, copy=copy, unit=unit)\n",
      "  File \"/project/ccr/apgrass/miniconda3/envs/cmip6/lib/python3.7/site-packages/pandas/core/arrays/timedeltas.py\", line 973, in sequence_to_td64ns\n",
      "    data = objects_to_td64ns(data, unit=unit, errors=errors)\n",
      "  File \"/project/ccr/apgrass/miniconda3/envs/cmip6/lib/python3.7/site-packages/pandas/core/arrays/timedeltas.py\", line 1098, in objects_to_td64ns\n",
      "    result = array_to_timedelta64(values, unit=unit, errors=errors)\n",
      "  File \"pandas/_libs/tslibs/timedeltas.pyx\", line 236, in pandas._libs.tslibs.timedeltas.array_to_timedelta64\n",
      "  File \"pandas/_libs/tslibs/timedeltas.pyx\", line 199, in pandas._libs.tslibs.timedeltas.convert_to_timedelta64\n",
      "  File \"pandas/_libs/tslibs/timedeltas.pyx\", line 144, in pandas._libs.tslibs.timedeltas.delta_to_nanoseconds\n",
      "OverflowError: Python int too large to convert to C long\n"
     ]
    },
    {
     "name": "stdout",
     "output_type": "stream",
     "text": [
      "globalannualmean: IPSL-CM6A-LR r1i1p1f1 trying just first file\n",
      "/project/cmip6/piControl/Amon/rlut/IPSL-CM6A-LR/r1i1p1f1/gr/rlut_Amon_IPSL-CM6A-LR_piControl_r1i1p1f1_gr_185001-234912.nc\n"
     ]
    },
    {
     "ename": "OverflowError",
     "evalue": "Python int too large to convert to C long",
     "output_type": "error",
     "traceback": [
      "\u001b[0;31m---------------------------------------------------------------------------\u001b[0m",
      "\u001b[0;31mTypeError\u001b[0m                                 Traceback (most recent call last)",
      "\u001b[0;32mpandas/_libs/tslibs/timedeltas.pyx\u001b[0m in \u001b[0;36mpandas._libs.tslibs.timedeltas.array_to_timedelta64\u001b[0;34m()\u001b[0m\n",
      "\u001b[0;32mpandas/_libs/tslibs/timedeltas.pyx\u001b[0m in \u001b[0;36mpandas._libs.tslibs.timedeltas.parse_timedelta_string\u001b[0;34m()\u001b[0m\n",
      "\u001b[0;31mTypeError\u001b[0m: object of type 'datetime.timedelta' has no len()",
      "\nDuring handling of the above exception, another exception occurred:\n",
      "\u001b[0;31mOverflowError\u001b[0m                             Traceback (most recent call last)",
      "\u001b[0;32m/project/ccr/apgrass/miniconda3/envs/cmip6/lib/python3.7/site-packages/xarray/coding/cftimeindex.py\u001b[0m in \u001b[0;36m__sub__\u001b[0;34m(self, other)\u001b[0m\n\u001b[1;32m    413\u001b[0m         \u001b[0;32mimport\u001b[0m \u001b[0mcftime\u001b[0m\u001b[0;34m\u001b[0m\u001b[0;34m\u001b[0m\u001b[0m\n\u001b[1;32m    414\u001b[0m         \u001b[0;32mif\u001b[0m \u001b[0misinstance\u001b[0m\u001b[0;34m(\u001b[0m\u001b[0mother\u001b[0m\u001b[0;34m,\u001b[0m \u001b[0;34m(\u001b[0m\u001b[0mCFTimeIndex\u001b[0m\u001b[0;34m,\u001b[0m \u001b[0mcftime\u001b[0m\u001b[0;34m.\u001b[0m\u001b[0mdatetime\u001b[0m\u001b[0;34m)\u001b[0m\u001b[0;34m)\u001b[0m\u001b[0;34m:\u001b[0m\u001b[0;34m\u001b[0m\u001b[0;34m\u001b[0m\u001b[0m\n\u001b[0;32m--> 415\u001b[0;31m             \u001b[0;32mreturn\u001b[0m \u001b[0mpd\u001b[0m\u001b[0;34m.\u001b[0m\u001b[0mTimedeltaIndex\u001b[0m\u001b[0;34m(\u001b[0m\u001b[0mnp\u001b[0m\u001b[0;34m.\u001b[0m\u001b[0marray\u001b[0m\u001b[0;34m(\u001b[0m\u001b[0mself\u001b[0m\u001b[0;34m)\u001b[0m \u001b[0;34m-\u001b[0m \u001b[0mnp\u001b[0m\u001b[0;34m.\u001b[0m\u001b[0marray\u001b[0m\u001b[0;34m(\u001b[0m\u001b[0mother\u001b[0m\u001b[0;34m)\u001b[0m\u001b[0;34m)\u001b[0m\u001b[0;34m\u001b[0m\u001b[0;34m\u001b[0m\u001b[0m\n\u001b[0m\u001b[1;32m    416\u001b[0m         \u001b[0;32melif\u001b[0m \u001b[0misinstance\u001b[0m\u001b[0;34m(\u001b[0m\u001b[0mother\u001b[0m\u001b[0;34m,\u001b[0m \u001b[0mpd\u001b[0m\u001b[0;34m.\u001b[0m\u001b[0mTimedeltaIndex\u001b[0m\u001b[0;34m)\u001b[0m\u001b[0;34m:\u001b[0m\u001b[0;34m\u001b[0m\u001b[0;34m\u001b[0m\u001b[0m\n\u001b[1;32m    417\u001b[0m             \u001b[0;32mreturn\u001b[0m \u001b[0mCFTimeIndex\u001b[0m\u001b[0;34m(\u001b[0m\u001b[0mnp\u001b[0m\u001b[0;34m.\u001b[0m\u001b[0marray\u001b[0m\u001b[0;34m(\u001b[0m\u001b[0mself\u001b[0m\u001b[0;34m)\u001b[0m \u001b[0;34m-\u001b[0m \u001b[0mother\u001b[0m\u001b[0;34m.\u001b[0m\u001b[0mto_pytimedelta\u001b[0m\u001b[0;34m(\u001b[0m\u001b[0;34m)\u001b[0m\u001b[0;34m)\u001b[0m\u001b[0;34m\u001b[0m\u001b[0;34m\u001b[0m\u001b[0m\n",
      "\u001b[0;32m/project/ccr/apgrass/miniconda3/envs/cmip6/lib/python3.7/site-packages/pandas/core/indexes/timedeltas.py\u001b[0m in \u001b[0;36m__new__\u001b[0;34m(cls, data, unit, freq, start, end, periods, closed, dtype, copy, name, verify_integrity)\u001b[0m\n\u001b[1;32m    256\u001b[0m \u001b[0;34m\u001b[0m\u001b[0m\n\u001b[1;32m    257\u001b[0m         tdarr = TimedeltaArray._from_sequence(\n\u001b[0;32m--> 258\u001b[0;31m             \u001b[0mdata\u001b[0m\u001b[0;34m,\u001b[0m \u001b[0mfreq\u001b[0m\u001b[0;34m=\u001b[0m\u001b[0mfreq\u001b[0m\u001b[0;34m,\u001b[0m \u001b[0munit\u001b[0m\u001b[0;34m=\u001b[0m\u001b[0munit\u001b[0m\u001b[0;34m,\u001b[0m \u001b[0mdtype\u001b[0m\u001b[0;34m=\u001b[0m\u001b[0mdtype\u001b[0m\u001b[0;34m,\u001b[0m \u001b[0mcopy\u001b[0m\u001b[0;34m=\u001b[0m\u001b[0mcopy\u001b[0m\u001b[0;34m\u001b[0m\u001b[0;34m\u001b[0m\u001b[0m\n\u001b[0m\u001b[1;32m    259\u001b[0m         )\n\u001b[1;32m    260\u001b[0m         \u001b[0;32mreturn\u001b[0m \u001b[0mcls\u001b[0m\u001b[0;34m.\u001b[0m\u001b[0m_simple_new\u001b[0m\u001b[0;34m(\u001b[0m\u001b[0mtdarr\u001b[0m\u001b[0;34m.\u001b[0m\u001b[0m_data\u001b[0m\u001b[0;34m,\u001b[0m \u001b[0mfreq\u001b[0m\u001b[0;34m=\u001b[0m\u001b[0mtdarr\u001b[0m\u001b[0;34m.\u001b[0m\u001b[0mfreq\u001b[0m\u001b[0;34m,\u001b[0m \u001b[0mname\u001b[0m\u001b[0;34m=\u001b[0m\u001b[0mname\u001b[0m\u001b[0;34m)\u001b[0m\u001b[0;34m\u001b[0m\u001b[0;34m\u001b[0m\u001b[0m\n",
      "\u001b[0;32m/project/ccr/apgrass/miniconda3/envs/cmip6/lib/python3.7/site-packages/pandas/core/arrays/timedeltas.py\u001b[0m in \u001b[0;36m_from_sequence\u001b[0;34m(cls, data, dtype, copy, freq, unit)\u001b[0m\n\u001b[1;32m    270\u001b[0m         \u001b[0mfreq\u001b[0m\u001b[0;34m,\u001b[0m \u001b[0mfreq_infer\u001b[0m \u001b[0;34m=\u001b[0m \u001b[0mdtl\u001b[0m\u001b[0;34m.\u001b[0m\u001b[0mmaybe_infer_freq\u001b[0m\u001b[0;34m(\u001b[0m\u001b[0mfreq\u001b[0m\u001b[0;34m)\u001b[0m\u001b[0;34m\u001b[0m\u001b[0;34m\u001b[0m\u001b[0m\n\u001b[1;32m    271\u001b[0m \u001b[0;34m\u001b[0m\u001b[0m\n\u001b[0;32m--> 272\u001b[0;31m         \u001b[0mdata\u001b[0m\u001b[0;34m,\u001b[0m \u001b[0minferred_freq\u001b[0m \u001b[0;34m=\u001b[0m \u001b[0msequence_to_td64ns\u001b[0m\u001b[0;34m(\u001b[0m\u001b[0mdata\u001b[0m\u001b[0;34m,\u001b[0m \u001b[0mcopy\u001b[0m\u001b[0;34m=\u001b[0m\u001b[0mcopy\u001b[0m\u001b[0;34m,\u001b[0m \u001b[0munit\u001b[0m\u001b[0;34m=\u001b[0m\u001b[0munit\u001b[0m\u001b[0;34m)\u001b[0m\u001b[0;34m\u001b[0m\u001b[0;34m\u001b[0m\u001b[0m\n\u001b[0m\u001b[1;32m    273\u001b[0m         \u001b[0mfreq\u001b[0m\u001b[0;34m,\u001b[0m \u001b[0mfreq_infer\u001b[0m \u001b[0;34m=\u001b[0m \u001b[0mdtl\u001b[0m\u001b[0;34m.\u001b[0m\u001b[0mvalidate_inferred_freq\u001b[0m\u001b[0;34m(\u001b[0m\u001b[0mfreq\u001b[0m\u001b[0;34m,\u001b[0m \u001b[0minferred_freq\u001b[0m\u001b[0;34m,\u001b[0m \u001b[0mfreq_infer\u001b[0m\u001b[0;34m)\u001b[0m\u001b[0;34m\u001b[0m\u001b[0;34m\u001b[0m\u001b[0m\n\u001b[1;32m    274\u001b[0m \u001b[0;34m\u001b[0m\u001b[0m\n",
      "\u001b[0;32m/project/ccr/apgrass/miniconda3/envs/cmip6/lib/python3.7/site-packages/pandas/core/arrays/timedeltas.py\u001b[0m in \u001b[0;36msequence_to_td64ns\u001b[0;34m(data, copy, unit, errors)\u001b[0m\n\u001b[1;32m    971\u001b[0m     \u001b[0;32mif\u001b[0m \u001b[0mis_object_dtype\u001b[0m\u001b[0;34m(\u001b[0m\u001b[0mdata\u001b[0m\u001b[0;34m.\u001b[0m\u001b[0mdtype\u001b[0m\u001b[0;34m)\u001b[0m \u001b[0;32mor\u001b[0m \u001b[0mis_string_dtype\u001b[0m\u001b[0;34m(\u001b[0m\u001b[0mdata\u001b[0m\u001b[0;34m.\u001b[0m\u001b[0mdtype\u001b[0m\u001b[0;34m)\u001b[0m\u001b[0;34m:\u001b[0m\u001b[0;34m\u001b[0m\u001b[0;34m\u001b[0m\u001b[0m\n\u001b[1;32m    972\u001b[0m         \u001b[0;31m# no need to make a copy, need to convert if string-dtyped\u001b[0m\u001b[0;34m\u001b[0m\u001b[0;34m\u001b[0m\u001b[0;34m\u001b[0m\u001b[0m\n\u001b[0;32m--> 973\u001b[0;31m         \u001b[0mdata\u001b[0m \u001b[0;34m=\u001b[0m \u001b[0mobjects_to_td64ns\u001b[0m\u001b[0;34m(\u001b[0m\u001b[0mdata\u001b[0m\u001b[0;34m,\u001b[0m \u001b[0munit\u001b[0m\u001b[0;34m=\u001b[0m\u001b[0munit\u001b[0m\u001b[0;34m,\u001b[0m \u001b[0merrors\u001b[0m\u001b[0;34m=\u001b[0m\u001b[0merrors\u001b[0m\u001b[0;34m)\u001b[0m\u001b[0;34m\u001b[0m\u001b[0;34m\u001b[0m\u001b[0m\n\u001b[0m\u001b[1;32m    974\u001b[0m         \u001b[0mcopy\u001b[0m \u001b[0;34m=\u001b[0m \u001b[0;32mFalse\u001b[0m\u001b[0;34m\u001b[0m\u001b[0;34m\u001b[0m\u001b[0m\n\u001b[1;32m    975\u001b[0m \u001b[0;34m\u001b[0m\u001b[0m\n",
      "\u001b[0;32m/project/ccr/apgrass/miniconda3/envs/cmip6/lib/python3.7/site-packages/pandas/core/arrays/timedeltas.py\u001b[0m in \u001b[0;36mobjects_to_td64ns\u001b[0;34m(data, unit, errors)\u001b[0m\n\u001b[1;32m   1096\u001b[0m     \u001b[0mvalues\u001b[0m \u001b[0;34m=\u001b[0m \u001b[0mnp\u001b[0m\u001b[0;34m.\u001b[0m\u001b[0marray\u001b[0m\u001b[0;34m(\u001b[0m\u001b[0mdata\u001b[0m\u001b[0;34m,\u001b[0m \u001b[0mdtype\u001b[0m\u001b[0;34m=\u001b[0m\u001b[0mnp\u001b[0m\u001b[0;34m.\u001b[0m\u001b[0mobject_\u001b[0m\u001b[0;34m,\u001b[0m \u001b[0mcopy\u001b[0m\u001b[0;34m=\u001b[0m\u001b[0;32mFalse\u001b[0m\u001b[0;34m)\u001b[0m\u001b[0;34m\u001b[0m\u001b[0;34m\u001b[0m\u001b[0m\n\u001b[1;32m   1097\u001b[0m \u001b[0;34m\u001b[0m\u001b[0m\n\u001b[0;32m-> 1098\u001b[0;31m     \u001b[0mresult\u001b[0m \u001b[0;34m=\u001b[0m \u001b[0marray_to_timedelta64\u001b[0m\u001b[0;34m(\u001b[0m\u001b[0mvalues\u001b[0m\u001b[0;34m,\u001b[0m \u001b[0munit\u001b[0m\u001b[0;34m=\u001b[0m\u001b[0munit\u001b[0m\u001b[0;34m,\u001b[0m \u001b[0merrors\u001b[0m\u001b[0;34m=\u001b[0m\u001b[0merrors\u001b[0m\u001b[0;34m)\u001b[0m\u001b[0;34m\u001b[0m\u001b[0;34m\u001b[0m\u001b[0m\n\u001b[0m\u001b[1;32m   1099\u001b[0m     \u001b[0;32mreturn\u001b[0m \u001b[0mresult\u001b[0m\u001b[0;34m.\u001b[0m\u001b[0mview\u001b[0m\u001b[0;34m(\u001b[0m\u001b[0;34m\"timedelta64[ns]\"\u001b[0m\u001b[0;34m)\u001b[0m\u001b[0;34m\u001b[0m\u001b[0;34m\u001b[0m\u001b[0m\n\u001b[1;32m   1100\u001b[0m \u001b[0;34m\u001b[0m\u001b[0m\n",
      "\u001b[0;32mpandas/_libs/tslibs/timedeltas.pyx\u001b[0m in \u001b[0;36mpandas._libs.tslibs.timedeltas.array_to_timedelta64\u001b[0;34m()\u001b[0m\n",
      "\u001b[0;32mpandas/_libs/tslibs/timedeltas.pyx\u001b[0m in \u001b[0;36mpandas._libs.tslibs.timedeltas.convert_to_timedelta64\u001b[0;34m()\u001b[0m\n",
      "\u001b[0;32mpandas/_libs/tslibs/timedeltas.pyx\u001b[0m in \u001b[0;36mpandas._libs.tslibs.timedeltas.delta_to_nanoseconds\u001b[0;34m()\u001b[0m\n",
      "\u001b[0;31mOverflowError\u001b[0m: Python int too large to convert to C long"
     ]
    },
    {
     "name": "stderr",
     "output_type": "stream",
     "text": [
      "Exception ignored in: 'pandas._libs.algos.are_diff'\n",
      "Traceback (most recent call last):\n",
      "  File \"/project/ccr/apgrass/miniconda3/envs/cmip6/lib/python3.7/site-packages/xarray/coding/cftimeindex.py\", line 415, in __sub__\n",
      "    return pd.TimedeltaIndex(np.array(self) - np.array(other))\n",
      "  File \"/project/ccr/apgrass/miniconda3/envs/cmip6/lib/python3.7/site-packages/pandas/core/indexes/timedeltas.py\", line 258, in __new__\n",
      "    data, freq=freq, unit=unit, dtype=dtype, copy=copy\n",
      "  File \"/project/ccr/apgrass/miniconda3/envs/cmip6/lib/python3.7/site-packages/pandas/core/arrays/timedeltas.py\", line 272, in _from_sequence\n",
      "    data, inferred_freq = sequence_to_td64ns(data, copy=copy, unit=unit)\n",
      "  File \"/project/ccr/apgrass/miniconda3/envs/cmip6/lib/python3.7/site-packages/pandas/core/arrays/timedeltas.py\", line 973, in sequence_to_td64ns\n",
      "    data = objects_to_td64ns(data, unit=unit, errors=errors)\n",
      "  File \"/project/ccr/apgrass/miniconda3/envs/cmip6/lib/python3.7/site-packages/pandas/core/arrays/timedeltas.py\", line 1098, in objects_to_td64ns\n",
      "    result = array_to_timedelta64(values, unit=unit, errors=errors)\n",
      "  File \"pandas/_libs/tslibs/timedeltas.pyx\", line 236, in pandas._libs.tslibs.timedeltas.array_to_timedelta64\n",
      "  File \"pandas/_libs/tslibs/timedeltas.pyx\", line 199, in pandas._libs.tslibs.timedeltas.convert_to_timedelta64\n",
      "  File \"pandas/_libs/tslibs/timedeltas.pyx\", line 144, in pandas._libs.tslibs.timedeltas.delta_to_nanoseconds\n",
      "OverflowError: Python int too large to convert to C long\n"
     ]
    },
    {
     "ename": "OverflowError",
     "evalue": "Python int too large to convert to C long",
     "output_type": "error",
     "traceback": [
      "\u001b[0;31m---------------------------------------------------------------------------\u001b[0m",
      "\u001b[0;31mTypeError\u001b[0m                                 Traceback (most recent call last)",
      "\u001b[0;32mpandas/_libs/tslibs/timedeltas.pyx\u001b[0m in \u001b[0;36mpandas._libs.tslibs.timedeltas.array_to_timedelta64\u001b[0;34m()\u001b[0m\n",
      "\u001b[0;32mpandas/_libs/tslibs/timedeltas.pyx\u001b[0m in \u001b[0;36mpandas._libs.tslibs.timedeltas.parse_timedelta_string\u001b[0;34m()\u001b[0m\n",
      "\u001b[0;31mTypeError\u001b[0m: object of type 'datetime.timedelta' has no len()",
      "\nDuring handling of the above exception, another exception occurred:\n",
      "\u001b[0;31mOverflowError\u001b[0m                             Traceback (most recent call last)",
      "\u001b[0;32m/project/ccr/apgrass/miniconda3/envs/cmip6/lib/python3.7/site-packages/xarray/coding/cftimeindex.py\u001b[0m in \u001b[0;36m__sub__\u001b[0;34m(self, other)\u001b[0m\n\u001b[1;32m    413\u001b[0m         \u001b[0;32mimport\u001b[0m \u001b[0mcftime\u001b[0m\u001b[0;34m\u001b[0m\u001b[0;34m\u001b[0m\u001b[0m\n\u001b[1;32m    414\u001b[0m         \u001b[0;32mif\u001b[0m \u001b[0misinstance\u001b[0m\u001b[0;34m(\u001b[0m\u001b[0mother\u001b[0m\u001b[0;34m,\u001b[0m \u001b[0;34m(\u001b[0m\u001b[0mCFTimeIndex\u001b[0m\u001b[0;34m,\u001b[0m \u001b[0mcftime\u001b[0m\u001b[0;34m.\u001b[0m\u001b[0mdatetime\u001b[0m\u001b[0;34m)\u001b[0m\u001b[0;34m)\u001b[0m\u001b[0;34m:\u001b[0m\u001b[0;34m\u001b[0m\u001b[0;34m\u001b[0m\u001b[0m\n\u001b[0;32m--> 415\u001b[0;31m             \u001b[0;32mreturn\u001b[0m \u001b[0mpd\u001b[0m\u001b[0;34m.\u001b[0m\u001b[0mTimedeltaIndex\u001b[0m\u001b[0;34m(\u001b[0m\u001b[0mnp\u001b[0m\u001b[0;34m.\u001b[0m\u001b[0marray\u001b[0m\u001b[0;34m(\u001b[0m\u001b[0mself\u001b[0m\u001b[0;34m)\u001b[0m \u001b[0;34m-\u001b[0m \u001b[0mnp\u001b[0m\u001b[0;34m.\u001b[0m\u001b[0marray\u001b[0m\u001b[0;34m(\u001b[0m\u001b[0mother\u001b[0m\u001b[0;34m)\u001b[0m\u001b[0;34m)\u001b[0m\u001b[0;34m\u001b[0m\u001b[0;34m\u001b[0m\u001b[0m\n\u001b[0m\u001b[1;32m    416\u001b[0m         \u001b[0;32melif\u001b[0m \u001b[0misinstance\u001b[0m\u001b[0;34m(\u001b[0m\u001b[0mother\u001b[0m\u001b[0;34m,\u001b[0m \u001b[0mpd\u001b[0m\u001b[0;34m.\u001b[0m\u001b[0mTimedeltaIndex\u001b[0m\u001b[0;34m)\u001b[0m\u001b[0;34m:\u001b[0m\u001b[0;34m\u001b[0m\u001b[0;34m\u001b[0m\u001b[0m\n\u001b[1;32m    417\u001b[0m             \u001b[0;32mreturn\u001b[0m \u001b[0mCFTimeIndex\u001b[0m\u001b[0;34m(\u001b[0m\u001b[0mnp\u001b[0m\u001b[0;34m.\u001b[0m\u001b[0marray\u001b[0m\u001b[0;34m(\u001b[0m\u001b[0mself\u001b[0m\u001b[0;34m)\u001b[0m \u001b[0;34m-\u001b[0m \u001b[0mother\u001b[0m\u001b[0;34m.\u001b[0m\u001b[0mto_pytimedelta\u001b[0m\u001b[0;34m(\u001b[0m\u001b[0;34m)\u001b[0m\u001b[0;34m)\u001b[0m\u001b[0;34m\u001b[0m\u001b[0;34m\u001b[0m\u001b[0m\n",
      "\u001b[0;32m/project/ccr/apgrass/miniconda3/envs/cmip6/lib/python3.7/site-packages/pandas/core/indexes/timedeltas.py\u001b[0m in \u001b[0;36m__new__\u001b[0;34m(cls, data, unit, freq, start, end, periods, closed, dtype, copy, name, verify_integrity)\u001b[0m\n\u001b[1;32m    256\u001b[0m \u001b[0;34m\u001b[0m\u001b[0m\n\u001b[1;32m    257\u001b[0m         tdarr = TimedeltaArray._from_sequence(\n\u001b[0;32m--> 258\u001b[0;31m             \u001b[0mdata\u001b[0m\u001b[0;34m,\u001b[0m \u001b[0mfreq\u001b[0m\u001b[0;34m=\u001b[0m\u001b[0mfreq\u001b[0m\u001b[0;34m,\u001b[0m \u001b[0munit\u001b[0m\u001b[0;34m=\u001b[0m\u001b[0munit\u001b[0m\u001b[0;34m,\u001b[0m \u001b[0mdtype\u001b[0m\u001b[0;34m=\u001b[0m\u001b[0mdtype\u001b[0m\u001b[0;34m,\u001b[0m \u001b[0mcopy\u001b[0m\u001b[0;34m=\u001b[0m\u001b[0mcopy\u001b[0m\u001b[0;34m\u001b[0m\u001b[0;34m\u001b[0m\u001b[0m\n\u001b[0m\u001b[1;32m    259\u001b[0m         )\n\u001b[1;32m    260\u001b[0m         \u001b[0;32mreturn\u001b[0m \u001b[0mcls\u001b[0m\u001b[0;34m.\u001b[0m\u001b[0m_simple_new\u001b[0m\u001b[0;34m(\u001b[0m\u001b[0mtdarr\u001b[0m\u001b[0;34m.\u001b[0m\u001b[0m_data\u001b[0m\u001b[0;34m,\u001b[0m \u001b[0mfreq\u001b[0m\u001b[0;34m=\u001b[0m\u001b[0mtdarr\u001b[0m\u001b[0;34m.\u001b[0m\u001b[0mfreq\u001b[0m\u001b[0;34m,\u001b[0m \u001b[0mname\u001b[0m\u001b[0;34m=\u001b[0m\u001b[0mname\u001b[0m\u001b[0;34m)\u001b[0m\u001b[0;34m\u001b[0m\u001b[0;34m\u001b[0m\u001b[0m\n",
      "\u001b[0;32m/project/ccr/apgrass/miniconda3/envs/cmip6/lib/python3.7/site-packages/pandas/core/arrays/timedeltas.py\u001b[0m in \u001b[0;36m_from_sequence\u001b[0;34m(cls, data, dtype, copy, freq, unit)\u001b[0m\n\u001b[1;32m    270\u001b[0m         \u001b[0mfreq\u001b[0m\u001b[0;34m,\u001b[0m \u001b[0mfreq_infer\u001b[0m \u001b[0;34m=\u001b[0m \u001b[0mdtl\u001b[0m\u001b[0;34m.\u001b[0m\u001b[0mmaybe_infer_freq\u001b[0m\u001b[0;34m(\u001b[0m\u001b[0mfreq\u001b[0m\u001b[0;34m)\u001b[0m\u001b[0;34m\u001b[0m\u001b[0;34m\u001b[0m\u001b[0m\n\u001b[1;32m    271\u001b[0m \u001b[0;34m\u001b[0m\u001b[0m\n\u001b[0;32m--> 272\u001b[0;31m         \u001b[0mdata\u001b[0m\u001b[0;34m,\u001b[0m \u001b[0minferred_freq\u001b[0m \u001b[0;34m=\u001b[0m \u001b[0msequence_to_td64ns\u001b[0m\u001b[0;34m(\u001b[0m\u001b[0mdata\u001b[0m\u001b[0;34m,\u001b[0m \u001b[0mcopy\u001b[0m\u001b[0;34m=\u001b[0m\u001b[0mcopy\u001b[0m\u001b[0;34m,\u001b[0m \u001b[0munit\u001b[0m\u001b[0;34m=\u001b[0m\u001b[0munit\u001b[0m\u001b[0;34m)\u001b[0m\u001b[0;34m\u001b[0m\u001b[0;34m\u001b[0m\u001b[0m\n\u001b[0m\u001b[1;32m    273\u001b[0m         \u001b[0mfreq\u001b[0m\u001b[0;34m,\u001b[0m \u001b[0mfreq_infer\u001b[0m \u001b[0;34m=\u001b[0m \u001b[0mdtl\u001b[0m\u001b[0;34m.\u001b[0m\u001b[0mvalidate_inferred_freq\u001b[0m\u001b[0;34m(\u001b[0m\u001b[0mfreq\u001b[0m\u001b[0;34m,\u001b[0m \u001b[0minferred_freq\u001b[0m\u001b[0;34m,\u001b[0m \u001b[0mfreq_infer\u001b[0m\u001b[0;34m)\u001b[0m\u001b[0;34m\u001b[0m\u001b[0;34m\u001b[0m\u001b[0m\n\u001b[1;32m    274\u001b[0m \u001b[0;34m\u001b[0m\u001b[0m\n",
      "\u001b[0;32m/project/ccr/apgrass/miniconda3/envs/cmip6/lib/python3.7/site-packages/pandas/core/arrays/timedeltas.py\u001b[0m in \u001b[0;36msequence_to_td64ns\u001b[0;34m(data, copy, unit, errors)\u001b[0m\n\u001b[1;32m    971\u001b[0m     \u001b[0;32mif\u001b[0m \u001b[0mis_object_dtype\u001b[0m\u001b[0;34m(\u001b[0m\u001b[0mdata\u001b[0m\u001b[0;34m.\u001b[0m\u001b[0mdtype\u001b[0m\u001b[0;34m)\u001b[0m \u001b[0;32mor\u001b[0m \u001b[0mis_string_dtype\u001b[0m\u001b[0;34m(\u001b[0m\u001b[0mdata\u001b[0m\u001b[0;34m.\u001b[0m\u001b[0mdtype\u001b[0m\u001b[0;34m)\u001b[0m\u001b[0;34m:\u001b[0m\u001b[0;34m\u001b[0m\u001b[0;34m\u001b[0m\u001b[0m\n\u001b[1;32m    972\u001b[0m         \u001b[0;31m# no need to make a copy, need to convert if string-dtyped\u001b[0m\u001b[0;34m\u001b[0m\u001b[0;34m\u001b[0m\u001b[0;34m\u001b[0m\u001b[0m\n\u001b[0;32m--> 973\u001b[0;31m         \u001b[0mdata\u001b[0m \u001b[0;34m=\u001b[0m \u001b[0mobjects_to_td64ns\u001b[0m\u001b[0;34m(\u001b[0m\u001b[0mdata\u001b[0m\u001b[0;34m,\u001b[0m \u001b[0munit\u001b[0m\u001b[0;34m=\u001b[0m\u001b[0munit\u001b[0m\u001b[0;34m,\u001b[0m \u001b[0merrors\u001b[0m\u001b[0;34m=\u001b[0m\u001b[0merrors\u001b[0m\u001b[0;34m)\u001b[0m\u001b[0;34m\u001b[0m\u001b[0;34m\u001b[0m\u001b[0m\n\u001b[0m\u001b[1;32m    974\u001b[0m         \u001b[0mcopy\u001b[0m \u001b[0;34m=\u001b[0m \u001b[0;32mFalse\u001b[0m\u001b[0;34m\u001b[0m\u001b[0;34m\u001b[0m\u001b[0m\n\u001b[1;32m    975\u001b[0m \u001b[0;34m\u001b[0m\u001b[0m\n",
      "\u001b[0;32m/project/ccr/apgrass/miniconda3/envs/cmip6/lib/python3.7/site-packages/pandas/core/arrays/timedeltas.py\u001b[0m in \u001b[0;36mobjects_to_td64ns\u001b[0;34m(data, unit, errors)\u001b[0m\n\u001b[1;32m   1096\u001b[0m     \u001b[0mvalues\u001b[0m \u001b[0;34m=\u001b[0m \u001b[0mnp\u001b[0m\u001b[0;34m.\u001b[0m\u001b[0marray\u001b[0m\u001b[0;34m(\u001b[0m\u001b[0mdata\u001b[0m\u001b[0;34m,\u001b[0m \u001b[0mdtype\u001b[0m\u001b[0;34m=\u001b[0m\u001b[0mnp\u001b[0m\u001b[0;34m.\u001b[0m\u001b[0mobject_\u001b[0m\u001b[0;34m,\u001b[0m \u001b[0mcopy\u001b[0m\u001b[0;34m=\u001b[0m\u001b[0;32mFalse\u001b[0m\u001b[0;34m)\u001b[0m\u001b[0;34m\u001b[0m\u001b[0;34m\u001b[0m\u001b[0m\n\u001b[1;32m   1097\u001b[0m \u001b[0;34m\u001b[0m\u001b[0m\n\u001b[0;32m-> 1098\u001b[0;31m     \u001b[0mresult\u001b[0m \u001b[0;34m=\u001b[0m \u001b[0marray_to_timedelta64\u001b[0m\u001b[0;34m(\u001b[0m\u001b[0mvalues\u001b[0m\u001b[0;34m,\u001b[0m \u001b[0munit\u001b[0m\u001b[0;34m=\u001b[0m\u001b[0munit\u001b[0m\u001b[0;34m,\u001b[0m \u001b[0merrors\u001b[0m\u001b[0;34m=\u001b[0m\u001b[0merrors\u001b[0m\u001b[0;34m)\u001b[0m\u001b[0;34m\u001b[0m\u001b[0;34m\u001b[0m\u001b[0m\n\u001b[0m\u001b[1;32m   1099\u001b[0m     \u001b[0;32mreturn\u001b[0m \u001b[0mresult\u001b[0m\u001b[0;34m.\u001b[0m\u001b[0mview\u001b[0m\u001b[0;34m(\u001b[0m\u001b[0;34m\"timedelta64[ns]\"\u001b[0m\u001b[0;34m)\u001b[0m\u001b[0;34m\u001b[0m\u001b[0;34m\u001b[0m\u001b[0m\n\u001b[1;32m   1100\u001b[0m \u001b[0;34m\u001b[0m\u001b[0m\n",
      "\u001b[0;32mpandas/_libs/tslibs/timedeltas.pyx\u001b[0m in \u001b[0;36mpandas._libs.tslibs.timedeltas.array_to_timedelta64\u001b[0;34m()\u001b[0m\n",
      "\u001b[0;32mpandas/_libs/tslibs/timedeltas.pyx\u001b[0m in \u001b[0;36mpandas._libs.tslibs.timedeltas.convert_to_timedelta64\u001b[0;34m()\u001b[0m\n",
      "\u001b[0;32mpandas/_libs/tslibs/timedeltas.pyx\u001b[0m in \u001b[0;36mpandas._libs.tslibs.timedeltas.delta_to_nanoseconds\u001b[0;34m()\u001b[0m\n",
      "\u001b[0;31mOverflowError\u001b[0m: Python int too large to convert to C long"
     ]
    },
    {
     "name": "stderr",
     "output_type": "stream",
     "text": [
      "Exception ignored in: 'pandas._libs.algos.are_diff'\n",
      "Traceback (most recent call last):\n",
      "  File \"/project/ccr/apgrass/miniconda3/envs/cmip6/lib/python3.7/site-packages/xarray/coding/cftimeindex.py\", line 415, in __sub__\n",
      "    return pd.TimedeltaIndex(np.array(self) - np.array(other))\n",
      "  File \"/project/ccr/apgrass/miniconda3/envs/cmip6/lib/python3.7/site-packages/pandas/core/indexes/timedeltas.py\", line 258, in __new__\n",
      "    data, freq=freq, unit=unit, dtype=dtype, copy=copy\n",
      "  File \"/project/ccr/apgrass/miniconda3/envs/cmip6/lib/python3.7/site-packages/pandas/core/arrays/timedeltas.py\", line 272, in _from_sequence\n",
      "    data, inferred_freq = sequence_to_td64ns(data, copy=copy, unit=unit)\n",
      "  File \"/project/ccr/apgrass/miniconda3/envs/cmip6/lib/python3.7/site-packages/pandas/core/arrays/timedeltas.py\", line 973, in sequence_to_td64ns\n",
      "    data = objects_to_td64ns(data, unit=unit, errors=errors)\n",
      "  File \"/project/ccr/apgrass/miniconda3/envs/cmip6/lib/python3.7/site-packages/pandas/core/arrays/timedeltas.py\", line 1098, in objects_to_td64ns\n",
      "    result = array_to_timedelta64(values, unit=unit, errors=errors)\n",
      "  File \"pandas/_libs/tslibs/timedeltas.pyx\", line 236, in pandas._libs.tslibs.timedeltas.array_to_timedelta64\n",
      "  File \"pandas/_libs/tslibs/timedeltas.pyx\", line 199, in pandas._libs.tslibs.timedeltas.convert_to_timedelta64\n",
      "  File \"pandas/_libs/tslibs/timedeltas.pyx\", line 144, in pandas._libs.tslibs.timedeltas.delta_to_nanoseconds\n",
      "OverflowError: Python int too large to convert to C long\n"
     ]
    },
    {
     "name": "stdout",
     "output_type": "stream",
     "text": [
      "rlut\n",
      "/project/cmip6/piControl/Amon/rlut/IPSL-CM6A-LR/r1i2p1f1/gr/rlut_Amon_IPSL-CM6A-LR_piControl_r1i2p1f1_gr_185001-209812.nc\n",
      "rlut\n",
      "4.483081612984019\n",
      "MIROC6\n",
      "r1i1p1f1\n",
      "MIROC6: Area from cos lat\n",
      "/project/cmip6/piControl/Amon/ts/MIROC6/r1i1p1f1/gn/ts_Amon_MIROC6_piControl_r1i1p1f1_gn_320001-329912.nc\n",
      "ts\n",
      "/project/cmip6/piControl/Amon/rsdt/MIROC6/r1i1p1f1/gn/rsdt_Amon_MIROC6_piControl_r1i1p1f1_gn_320001-329912.nc\n",
      "rsdt\n",
      "/project/cmip6/piControl/Amon/rsut/MIROC6/r1i1p1f1/gn/rsut_Amon_MIROC6_piControl_r1i1p1f1_gn_320001-329912.nc\n",
      "rsut\n",
      "/project/cmip6/piControl/Amon/rlut/MIROC6/r1i1p1f1/gn/rlut_Amon_MIROC6_piControl_r1i1p1f1_gn_320001-329912.nc\n",
      "rlut\n",
      "2.5378744943208553\n",
      "MRI-ESM2-0\n",
      "r10i1p1f1\n",
      "MRI-ESM2-0: Area from cos lat\n",
      "/project/cmip6/piControl/Amon/ts/MRI-ESM2-0/r1i1p1f1/gn/ts_Amon_MRI-ESM2-0_piControl_r1i1p1f1_gn_185001-255012.nc\n",
      "ts\n",
      "/project/cmip6/piControl/Amon/rsdt/MRI-ESM2-0/r1i1p1f1/gn/rsdt_Amon_MRI-ESM2-0_piControl_r1i1p1f1_gn_185001-255012.nc\n",
      "rsdt\n",
      "/project/cmip6/piControl/Amon/rsut/MRI-ESM2-0/r1i1p1f1/gn/rsut_Amon_MRI-ESM2-0_piControl_r1i1p1f1_gn_185001-255012.nc\n",
      "rsut\n",
      "/project/cmip6/piControl/Amon/rlut/MRI-ESM2-0/r1i1p1f1/gn/rlut_Amon_MRI-ESM2-0_piControl_r1i1p1f1_gn_185001-255012.nc\n",
      "rlut\n",
      "3.4489822010805886\n",
      "r13i1p1f1\n",
      "MRI-ESM2-0: Area from cos lat\n",
      "/project/cmip6/piControl/Amon/ts/MRI-ESM2-0/r1i1p1f1/gn/ts_Amon_MRI-ESM2-0_piControl_r1i1p1f1_gn_185001-255012.nc\n",
      "ts\n",
      "/project/cmip6/piControl/Amon/rsdt/MRI-ESM2-0/r1i1p1f1/gn/rsdt_Amon_MRI-ESM2-0_piControl_r1i1p1f1_gn_185001-255012.nc\n",
      "rsdt\n",
      "/project/cmip6/piControl/Amon/rsut/MRI-ESM2-0/r1i1p1f1/gn/rsut_Amon_MRI-ESM2-0_piControl_r1i1p1f1_gn_185001-255012.nc\n",
      "rsut\n",
      "/project/cmip6/piControl/Amon/rlut/MRI-ESM2-0/r1i1p1f1/gn/rlut_Amon_MRI-ESM2-0_piControl_r1i1p1f1_gn_185001-255012.nc\n",
      "rlut\n",
      "3.542870237748016\n",
      "r1i1p1f1\n",
      "MRI-ESM2-0: Area from cos lat\n",
      "/project/cmip6/piControl/Amon/ts/MRI-ESM2-0/r1i1p1f1/gn/ts_Amon_MRI-ESM2-0_piControl_r1i1p1f1_gn_185001-255012.nc\n",
      "ts\n",
      "/project/cmip6/piControl/Amon/rsdt/MRI-ESM2-0/r1i1p1f1/gn/rsdt_Amon_MRI-ESM2-0_piControl_r1i1p1f1_gn_185001-255012.nc\n",
      "rsdt\n",
      "/project/cmip6/piControl/Amon/rsut/MRI-ESM2-0/r1i1p1f1/gn/rsut_Amon_MRI-ESM2-0_piControl_r1i1p1f1_gn_185001-255012.nc\n",
      "rsut\n",
      "/project/cmip6/piControl/Amon/rlut/MRI-ESM2-0/r1i1p1f1/gn/rlut_Amon_MRI-ESM2-0_piControl_r1i1p1f1_gn_185001-255012.nc\n",
      "rlut\n",
      "3.084033537286304\n",
      "r4i1p1f1\n",
      "MRI-ESM2-0: Area from cos lat\n",
      "/project/cmip6/piControl/Amon/ts/MRI-ESM2-0/r1i1p1f1/gn/ts_Amon_MRI-ESM2-0_piControl_r1i1p1f1_gn_185001-255012.nc\n",
      "ts\n",
      "/project/cmip6/piControl/Amon/rsdt/MRI-ESM2-0/r1i1p1f1/gn/rsdt_Amon_MRI-ESM2-0_piControl_r1i1p1f1_gn_185001-255012.nc\n",
      "rsdt\n",
      "/project/cmip6/piControl/Amon/rsut/MRI-ESM2-0/r1i1p1f1/gn/rsut_Amon_MRI-ESM2-0_piControl_r1i1p1f1_gn_185001-255012.nc\n",
      "rsut\n",
      "/project/cmip6/piControl/Amon/rlut/MRI-ESM2-0/r1i1p1f1/gn/rlut_Amon_MRI-ESM2-0_piControl_r1i1p1f1_gn_185001-255012.nc\n",
      "rlut\n",
      "3.1327302729756195\n",
      "r7i1p1f1\n",
      "MRI-ESM2-0: Area from cos lat\n",
      "/project/cmip6/piControl/Amon/ts/MRI-ESM2-0/r1i1p1f1/gn/ts_Amon_MRI-ESM2-0_piControl_r1i1p1f1_gn_185001-255012.nc\n",
      "ts\n",
      "/project/cmip6/piControl/Amon/rsdt/MRI-ESM2-0/r1i1p1f1/gn/rsdt_Amon_MRI-ESM2-0_piControl_r1i1p1f1_gn_185001-255012.nc\n",
      "rsdt\n",
      "/project/cmip6/piControl/Amon/rsut/MRI-ESM2-0/r1i1p1f1/gn/rsut_Amon_MRI-ESM2-0_piControl_r1i1p1f1_gn_185001-255012.nc\n",
      "rsut\n",
      "/project/cmip6/piControl/Amon/rlut/MRI-ESM2-0/r1i1p1f1/gn/rlut_Amon_MRI-ESM2-0_piControl_r1i1p1f1_gn_185001-255012.nc\n",
      "rlut\n",
      "3.3013004502251806\n",
      "SAM0-UNICON\n",
      "r1i1p1f1\n",
      "SAM0-UNICON: Area from cos lat\n",
      "/project/cmip6/piControl/Amon/ts/SAM0-UNICON/r1i1p1f1/gn/ts_Amon_SAM0-UNICON_piControl_r1i1p1f1_gn_000101-001012.nc\n",
      "ts\n",
      "/project/cmip6/piControl/Amon/rsdt/SAM0-UNICON/r1i1p1f1/gn/rsdt_Amon_SAM0-UNICON_piControl_r1i1p1f1_gn_000101-001012.nc\n",
      "rsdt\n",
      "/project/cmip6/piControl/Amon/rsut/SAM0-UNICON/r1i1p1f1/gn/rsut_Amon_SAM0-UNICON_piControl_r1i1p1f1_gn_000101-001012.nc\n",
      "rsut\n",
      "/project/cmip6/piControl/Amon/rlut/SAM0-UNICON/r1i1p1f1/gn/rlut_Amon_SAM0-UNICON_piControl_r1i1p1f1_gn_000101-001012.nc\n",
      "rlut\n",
      "3.718017280560372\n",
      "UKESM1-0-LL\n",
      "r1i1p1f2\n",
      "UKESM1-0-LL: Area from cos lat\n",
      "/project/cmip6/piControl/Amon/ts/UKESM1-0-LL/r1i1p1f2/gn/ts_Amon_UKESM1-0-LL_piControl_r1i1p1f2_gn_196001-204912.nc\n",
      "ts\n",
      "/project/cmip6/piControl/Amon/rsdt/UKESM1-0-LL/r1i1p1f2/gn/rsdt_Amon_UKESM1-0-LL_piControl_r1i1p1f2_gn_196001-204912.nc\n",
      "rsdt\n",
      "/project/cmip6/piControl/Amon/rsut/UKESM1-0-LL/r1i1p1f2/gn/rsut_Amon_UKESM1-0-LL_piControl_r1i1p1f2_gn_196001-204912.nc\n",
      "rsut\n",
      "/project/cmip6/piControl/Amon/rlut/UKESM1-0-LL/r1i1p1f2/gn/rlut_Amon_UKESM1-0-LL_piControl_r1i1p1f2_gn_196001-204912.nc\n",
      "rlut\n",
      "5.266521017402457\n"
     ]
    }
   ],
   "source": [
    "ECS={}\n",
    "for model in list(ECS_models):\n",
    "    print(model)\n",
    "    allECS = []\n",
    "    for mem in list(ECS_models[model].variants):\n",
    "        print(mem)\n",
    "        thisECS,F = calcECSts(model,mem)\n",
    "        (model,mem)\n",
    "        allECS.append(thisECS)\n",
    "        print(thisECS/2)\n",
    "    ECS[model] = np.average(allECS)"
   ]
  },
  {
   "cell_type": "markdown",
   "metadata": {},
   "source": [
    "### Make an ordered list of the ECS values, plot ECS/2 in a bar plot (to get ECS for CO2-doubling, which is more familiar), and save the data."
   ]
  },
  {
   "cell_type": "code",
   "execution_count": 67,
   "metadata": {},
   "outputs": [
    {
     "name": "stdout",
     "output_type": "stream",
     "text": [
      "{'MIROC6': 5.075748988641711, 'GISS-E2-1-G': 5.179636594221896, 'BCC-CSM2-MR': 5.862566106441299, 'GISS-E2-1-H': 5.898847616350526, 'MRI-ESM2-0': 6.603966679726284, 'BCC-ESM1': 6.6505168712144815, 'SAM0-UNICON': 7.436034561120744, 'EC-Earth3-Veg': 8.06409323996796, 'IPSL-CM6A-LR': 8.966163225968039, 'CESM2-WACCM': 9.206069182694343, 'CNRM-ESM2-1': 9.308267931166114, 'CNRM-CM6-1': 9.589815082354109, 'CESM2': 10.237067067918854, 'UKESM1-0-LL': 10.533042034804915, 'HadGEM3-GC31-LL': 10.814856440151704}\n",
      "{'MIROC6': 5.075748988641711, 'GISS-E2-1-G': 5.179636594221896, 'BCC-CSM2-MR': 5.862566106441299, 'GISS-E2-1-H': 5.898847616350526, 'MRI-ESM2-0': 6.603966679726284, 'BCC-ESM1': 6.6505168712144815, 'SAM0-UNICON': 7.436034561120744, 'EC-Earth3-Veg': 8.06409323996796, 'IPSL-CM6A-LR': 8.966163225968039, 'CESM2-WACCM': 9.206069182694343, 'CNRM-ESM2-1': 9.308267931166114, 'CNRM-CM6-1': 9.589815082354109, 'CESM2': 10.237067067918854, 'UKESM1-0-LL': 10.533042034804915, 'HadGEM3-GC31-LL': 10.814856440151704}\n"
     ]
    }
   ],
   "source": [
    "orderedECS = sorted(ECS.items(), key=lambda x: x[1])\n",
    "oECS = {}\n",
    "for pair in orderedECS:\n",
    "    #print(pair[0])\n",
    "    #print(pair[1])\n",
    "    oECS[pair[0]]=pair[1]\n",
    "    \n",
    "print(oECS)\n",
    "oECS = { pair[0]:pair[1] for pair in orderedECS }\n",
    "print(oECS)    "
   ]
  },
  {
   "cell_type": "code",
   "execution_count": 73,
   "metadata": {},
   "outputs": [
    {
     "data": {
      "text/plain": [
       "Text(0.5, 1.0, 'ECS for CMIP6 models (08 Aug 2019)')"
      ]
     },
     "execution_count": 73,
     "metadata": {},
     "output_type": "execute_result"
    },
    {
     "data": {
      "image/png": "[encoded data removed]",
      "text/plain": [
       "<Figure size 720x432 with 1 Axes>"
      ]
     },
     "metadata": {
      "needs_background": "light"
     },
     "output_type": "display_data"
    }
   ],
   "source": [
    "ecs2x = []\n",
    "for val in oECS.values():\n",
    "    ecs2x.append(val/2)\n",
    "\n",
    "\n",
    "objects = oECS.keys()\n",
    "y_pos = np.arange(len(objects))\n",
    "performance = ecs2x\n",
    "\n",
    "\n",
    "fig = plt.figure(figsize=(10, 6))\n",
    "ax = fig.add_subplot(1, 1, 1)\n",
    "\n",
    "plt.bar(y_pos, performance, align='center', alpha=0.5)\n",
    "plt.xticks(y_pos, objects)\n",
    "plt.xticks(rotation=45)\n",
    "plt.ylabel('ECS_2x [K]')\n",
    "plt.title('ECS for CMIP6 models ('+datetime.date.today().strftime('%d %b %Y')+')')"
   ]
  },
  {
   "cell_type": "code",
   "execution_count": 74,
   "metadata": {},
   "outputs": [],
   "source": [
    "fig.savefig('cmip6-ecs-08082019-cgd.pdf')"
   ]
  },
  {
   "cell_type": "code",
   "execution_count": 70,
   "metadata": {},
   "outputs": [],
   "source": [
    "import csv\n",
    "\n"
   ]
  },
  {
   "cell_type": "code",
   "execution_count": 75,
   "metadata": {},
   "outputs": [],
   "source": [
    "w = csv.writer(open(\"cmip6-ecs-08082019-cgd.csv\", \"w\"))\n",
    "for key, val in oECS.items():\n",
    "    w.writerow([key, val])\n"
   ]
  },
  {
   "cell_type": "code",
   "execution_count": 72,
   "metadata": {},
   "outputs": [
    {
     "data": {
      "text/plain": [
       "{'MIROC6': 5.075748988641711,\n",
       " 'GISS-E2-1-G': 5.179636594221896,\n",
       " 'BCC-CSM2-MR': 5.862566106441299,\n",
       " 'GISS-E2-1-H': 5.898847616350526,\n",
       " 'MRI-ESM2-0': 6.603966679726284,\n",
       " 'BCC-ESM1': 6.6505168712144815,\n",
       " 'SAM0-UNICON': 7.436034561120744,\n",
       " 'EC-Earth3-Veg': 8.06409323996796,\n",
       " 'IPSL-CM6A-LR': 8.966163225968039,\n",
       " 'CESM2-WACCM': 9.206069182694343,\n",
       " 'CNRM-ESM2-1': 9.308267931166114,\n",
       " 'CNRM-CM6-1': 9.589815082354109,\n",
       " 'CESM2': 10.237067067918854,\n",
       " 'UKESM1-0-LL': 10.533042034804915,\n",
       " 'HadGEM3-GC31-LL': 10.814856440151704}"
      ]
     },
     "execution_count": 72,
     "metadata": {},
     "output_type": "execute_result"
    }
   ],
   "source": [
    "oECS"
   ]
  },
  {
   "cell_type": "code",
   "execution_count": null,
   "metadata": {},
   "outputs": [],
   "source": []
  },
  {
   "cell_type": "code",
   "execution_count": null,
   "metadata": {},
   "outputs": [],
   "source": []
  }
 ],
 "metadata": {
  "kernelspec": {
   "display_name": "Python 3",
   "language": "python",
   "name": "python3"
  },
  "language_info": {
   "codemirror_mode": {
    "name": "ipython",
    "version": 3
   },
   "file_extension": ".py",
   "mimetype": "text/x-python",
   "name": "python",
   "nbconvert_exporter": "python",
   "pygments_lexer": "ipython3",
   "version": "3.7.3"
  }
 },
 "nbformat": 4,
 "nbformat_minor": 4
}
