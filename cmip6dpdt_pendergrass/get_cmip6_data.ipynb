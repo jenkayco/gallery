{
 "cells": [
  {
   "cell_type": "markdown",
   "metadata": {},
   "source": [
    "# Get cmip6 data\n",
    "## Utilities to get the pathnames from the CMIP analysis platform\n",
    "### Approach: Ask for an experiment and variable, find out the models with all their path names\n",
    "### Then, compare.\n",
    "Naming consistent with [cmip archive](https://esgf-node.llnl.gov/search/cmip6/)"
   ]
  },
  {
   "cell_type": "code",
   "execution_count": 30,
   "metadata": {},
   "outputs": [],
   "source": [
    "import sys\n",
    "import os\n",
    "import datetime"
   ]
  },
  {
   "cell_type": "code",
   "execution_count": 2,
   "metadata": {},
   "outputs": [
    {
     "data": {
      "text/plain": [
       "'/glade/collections/cmip/CMIP6/CMIP/NCAR/CESM2/abrupt-4xCO2/r1i1p1f1/Amon/ts/gn/latest/'"
      ]
     },
     "execution_count": 2,
     "metadata": {},
     "output_type": "execute_result"
    }
   ],
   "source": [
    "def getendpath(pathtovar,var):\n",
    "    # basedir/institution/model/experiment/variant/Amon/\"+variable / gridlabel / version {latest/vDATE} \n",
    "    # we begin from here:  basedir/institution/model/experiment/variant/Amon/variable/ \n",
    "    # the next level is the gridlabel\n",
    "    gridlabel=os.listdir(pathtovar)\n",
    "    extrabit = False\n",
    "    # the next level is the version. options are: 'latest' or 'vYYYYMMDD'; sometimes there's a red herring something called 'files' \n",
    "    possible_versions = os.listdir(pathtovar+\"/\"+gridlabel[0])\n",
    "    versions = []\n",
    "    # get rid of folders that don't have netcdf files\n",
    "    for aversion in possible_versions:\n",
    "        files = os.listdir(pathtovar+\"/\"+gridlabel[0]+\"/\"+aversion)\n",
    "        #print(aversion)\n",
    "        #print(files)\n",
    "        ncfiles = [item for item in files if item.endswith('.nc')]\n",
    "        if len(ncfiles)>0:\n",
    "            versions.append(aversion)\n",
    "    if len(versions)==0:\n",
    "        # try again with the variable name appended. models other than CESM have this.\n",
    "        for aversion in possible_versions:\n",
    "            files = os.listdir(pathtovar+\"/\"+gridlabel[0]+\"/\"+aversion+\"/\"+var)\n",
    "            #print(aversion)\n",
    "            #print(files)\n",
    "            ncfiles = [item for item in files if item.endswith('.nc')]\n",
    "            if len(ncfiles)>0:\n",
    "                versions.append(aversion)\n",
    "                extrabit = True\n",
    "    #print(len(versions))\n",
    "    if len(versions)==1:\n",
    "        # if there's only one folder, this is easy\n",
    "        theendpath = \"/\"+gridlabel[0]+\"/\"+versions[0]+\"/\"\n",
    "    elif len(versions)==0:\n",
    "        # nothing made the cut, return empty string\n",
    "        theendpath = []\n",
    "    else:\n",
    "        # there are multiple possibilities\n",
    "        # if one of them is \"latest\", we'll take it\n",
    "        hasLatest = any(elem == 'latest' for elem in versions)\n",
    "        if hasLatest:\n",
    "            theendpath = \"/\"+gridlabel[0]+\"/\"+'latest'+\"/\"\n",
    "        else:\n",
    "            # if there's no latest, there should be folders of the form 'vYYYYMMDD'. \n",
    "            datevs = [item for item in versions if item.startswith('v')]\n",
    "            if len(datevs)==1:\n",
    "                # there was only one properly formatted folder - get it\n",
    "                theendpath = \"/\"+gridlabel[0]+\"/\"+datevs[0]+\"/\"\n",
    "            elif len(datevs)>1:\n",
    "                # there are multiple dated versions. \n",
    "                # sort and take the most recent one\n",
    "                datelist = [datetime.datetime.strptime(item[1:],'%Y%m%d') for item in versions]\n",
    "                datelist.sort(reverse=True)\n",
    "                latestversion='v'+datelist[0].strftime('%Y%m%d')\n",
    "                theendpath = \"/\"+gridlabel[0]+\"/\"+latestversion+\"/\"\n",
    "            else:\n",
    "                # something went wrong; give up\n",
    "                theendpath = []\n",
    "    return theendpath,extrabit\n",
    "\n",
    "basedir = '/glade/collections/cmip/CMIP6/CMIP/'\n",
    "model='CESM2'\n",
    "institution='NCAR'\n",
    "thispath = basedir+institution+\"/\"+model+\"/abrupt-4xCO2/r1i1p1f1/Amon/ts\"\n",
    "thisendpath,extrabit = getendpath(thispath,\"ts\")\n",
    "thispath+thisendpath\n"
   ]
  },
  {
   "cell_type": "code",
   "execution_count": 3,
   "metadata": {},
   "outputs": [],
   "source": [
    "def getvariants(pathtoexp,var):\n",
    "    variants = []\n",
    "    endpaths = [] \n",
    "    extrabit = []\n",
    "    for variant in os.listdir(pathtoexp):\n",
    "        try: \n",
    "            # check that there is actually a path for this particular variable in this experiment\n",
    "            os.listdir(pathtoexp+variant+\"/Amon/\"+var)\n",
    "            #print(variant)\n",
    "            # we will now call a function that gets the end path. this is not trivial; it includes the grid label and finding the latest version. \n",
    "            thispath = pathtoexp+variant+\"/Amon/\"+var\n",
    "            #print(thispath)\n",
    "            thisendpath,extrabit = getendpath(thispath,var)\n",
    "            # if this all worked, then add the variant / ensemble member, and its path info, to the list of existing ones\n",
    "            if len(thisendpath)>0:\n",
    "                endpaths.append(thisendpath)\n",
    "                variants.append(variant)\n",
    "        except:\n",
    "            # in case there is not actually any data for this model + variant / ensemble member\n",
    "            print(pathtoexp+\" \"+variant+\" is missing\")\n",
    "    #print(variants)\n",
    "    return variants,endpaths,extrabit\n",
    "    \n",
    "# get a list of ensemble members with data for a particular model + experiment + variable\n",
    "basedir = '/glade/collections/cmip/CMIP6/CMIP/'\n",
    "#var = \"ts\"\n",
    "#path='NCAR/CESM2'\n",
    "model='CESM2'\n",
    "institution='NCAR'\n",
    "\n",
    "thevariants,theendpaths,extrabit = getvariants(basedir+institution+\"/\"+model+\"/abrupt-4xCO2/\",\"ts\")"
   ]
  },
  {
   "cell_type": "code",
   "execution_count": 4,
   "metadata": {},
   "outputs": [],
   "source": [
    "class ModelExpVar:\n",
    "  def __init__(self, model, experiment, variable,startpath,variants,endpaths,extraVarFolder):\n",
    "    self.model = model\n",
    "    self.experiment = experiment\n",
    "    self.variable = variable\n",
    "    self.startpath = startpath \n",
    "    self.variants = variants\n",
    "    self.endpaths = endpaths\n",
    "    self.extraVarFolder = extraVarFolder    # extra folder with variable name \n",
    "    # The rest are derived\n",
    "    self.nmem = len(variants)\n",
    "    ## basedir/institution/model/experiment/variant/Amon/\"+variable / gridlabel / version {latest/vDATE} / SOMETIMES extrafolder\n",
    "    paths = []\n",
    "    files = []\n",
    "    for i in range(len(variants)):\n",
    "        #print(variants[i])\n",
    "        #print(endpaths[i])\n",
    "        thepath = startpath+\"/\"+experiment+\"/\"+variants[i]+\"/Amon/\"+variable+endpaths[i]\n",
    "        if extraVarFolder:\n",
    "            thepath = thepath+variable+\"/\"\n",
    "        paths.append(thepath)\n",
    "        ensfiles = os.listdir(thepath)\n",
    "        files.append(ensfiles)\n",
    "    self.paths = paths\n",
    "    self.files = files"
   ]
  },
  {
   "cell_type": "code",
   "execution_count": 5,
   "metadata": {},
   "outputs": [],
   "source": [
    "def getModelsForExperimentVar(experiment,var):\n",
    "    basedir = '/glade/collections/cmip/CMIP6/CMIP/'\n",
    "    evd_ofmodels = {}\n",
    "    for institution in os.listdir(basedir):\n",
    "        #print(institution)\n",
    "        for model in os.listdir(basedir+institution):\n",
    "            #print(institution+\"/\"+model)\n",
    "            exps = os.listdir(basedir+institution+\"/\"+model)\n",
    "            #print(exps)\n",
    "            hasexp = any(elem == experiment for elem in exps)\n",
    "            if (hasexp) : \n",
    "                # get ensemble members with data and also their end paths\n",
    "                variants,endpaths,extrabit = getvariants(basedir+institution+\"/\"+model+\"/\"+experiment+\"/\",var)\n",
    "                if len(variants)==0:\n",
    "                    print(\"no \"+experiment+\" data for \"+model)\n",
    "                else:\n",
    "                    evd_ofmodels[model] = ModelExpVar(model,experiment,'ts',basedir+institution+\"/\"+model,variants,endpaths,extrabit)\n",
    "\n",
    "    return evd_ofmodels"
   ]
  },
  {
   "cell_type": "code",
   "execution_count": 9,
   "metadata": {},
   "outputs": [
    {
     "name": "stdout",
     "output_type": "stream",
     "text": [
      "/glade/collections/cmip/CMIP6/CMIP/NOAA-GFDL/GFDL-CM4/abrupt-4xCO2/ r1i1p1f1 is missing\n",
      "no abrupt-4xCO2 data for GFDL-CM4\n",
      "/glade/collections/cmip/CMIP6/CMIP/CCCma/CanESM5/abrupt-4xCO2/ r1i1p1f1 is missing\n",
      "no abrupt-4xCO2 data for CanESM5\n",
      "/glade/collections/cmip/CMIP6/CMIP/NOAA-GFDL/GFDL-CM4/piControl/ r1i1p1f1 is missing\n",
      "no piControl data for GFDL-CM4\n",
      "/glade/collections/cmip/CMIP6/CMIP/CCCma/CanESM5/piControl/ r1i1p1f1 is missing\n",
      "no piControl data for CanESM5\n",
      "/glade/collections/cmip/CMIP6/CMIP/EC-Earth-Consortium/EC-Earth3-LR/piControl/ r1i1p1f1 is missing\n",
      "no piControl data for EC-Earth3-LR\n"
     ]
    }
   ],
   "source": [
    "var = \"ts\"\n",
    "experiment = \"abrupt-4xCO2\"\n",
    "ts4x_models = getModelsForExperimentVar(experiment,var)\n",
    "tsPi_models = getModelsForExperimentVar(\"piControl\",var)\n",
    "## note, a few more models have tas than ts"
   ]
  },
  {
   "cell_type": "code",
   "execution_count": 10,
   "metadata": {},
   "outputs": [
    {
     "name": "stdout",
     "output_type": "stream",
     "text": [
      "CNRM-CM6-1 r3i1p1f2\n",
      "CNRM-CM6-1 1\n",
      "CNRM-ESM2-1 r3i1p1f2\n",
      "CNRM-ESM2-1 1\n",
      "BCC-CSM2-MR r1i1p1f1\n",
      "BCC-CSM2-MR 1\n",
      "CESM2-WACCM r1i1p1f1\n",
      "CESM2-WACCM 3\n",
      "CESM2 r1i1p1f1\n",
      "CESM2 1\n",
      "UKESM1-0-LL r1i1p1f2\n",
      "UKESM1-0-LL 2\n",
      "GISS-E2-1-H r1i1p1f1\n",
      "GISS-E2-1-H 3\n",
      "GISS-E2-1-G r1i1p1f1\n",
      "GISS-E2-1-G 6\n",
      "MRI-ESM2-0 r2i1p1f1\n",
      "MRI-ESM2-0 1\n",
      "MIROC6 r1i1p1f1\n",
      "MIROC6 2\n",
      "IPSL-CM6A-LR r2i1p1f1\n",
      "IPSL-CM6A-LR 1\n"
     ]
    }
   ],
   "source": [
    "for k,v in ts4x_models.items():\n",
    "    print(k, v.variants[0])\n",
    "    print(k, len(v.files[0]))"
   ]
  },
  {
   "cell_type": "code",
   "execution_count": 11,
   "metadata": {},
   "outputs": [
    {
     "data": {
      "text/plain": [
       "['CNRM-CM6-1',\n",
       " 'CNRM-ESM2-1',\n",
       " 'BCC-CSM2-MR',\n",
       " 'CESM2-WACCM',\n",
       " 'CESM2',\n",
       " 'UKESM1-0-LL',\n",
       " 'GISS-E2-1-H',\n",
       " 'GISS-E2-1-G',\n",
       " 'MRI-ESM2-0',\n",
       " 'MIROC6',\n",
       " 'IPSL-CM6A-LR']"
      ]
     },
     "execution_count": 11,
     "metadata": {},
     "output_type": "execute_result"
    }
   ],
   "source": [
    "list(ts4x_models)"
   ]
  },
  {
   "cell_type": "code",
   "execution_count": 12,
   "metadata": {},
   "outputs": [
    {
     "data": {
      "text/plain": [
       "['CNRM-CM6-1',\n",
       " 'CNRM-ESM2-1',\n",
       " 'BCC-ESM1',\n",
       " 'BCC-CSM2-MR',\n",
       " 'CESM2-WACCM',\n",
       " 'CESM2',\n",
       " 'UKESM1-0-LL',\n",
       " 'GISS-E2-1-H',\n",
       " 'GISS-E2-1-G',\n",
       " 'E3SM-1-0',\n",
       " 'MRI-ESM2-0',\n",
       " 'MIROC6',\n",
       " 'IPSL-CM6A-LR']"
      ]
     },
     "execution_count": 12,
     "metadata": {},
     "output_type": "execute_result"
    }
   ],
   "source": [
    "list(tsPi_models)"
   ]
  },
  {
   "cell_type": "code",
   "execution_count": 13,
   "metadata": {},
   "outputs": [
    {
     "data": {
      "text/plain": [
       "{'BCC-CSM2-MR',\n",
       " 'CESM2',\n",
       " 'CESM2-WACCM',\n",
       " 'CNRM-CM6-1',\n",
       " 'CNRM-ESM2-1',\n",
       " 'GISS-E2-1-G',\n",
       " 'GISS-E2-1-H',\n",
       " 'IPSL-CM6A-LR',\n",
       " 'MIROC6',\n",
       " 'MRI-ESM2-0',\n",
       " 'UKESM1-0-LL'}"
      ]
     },
     "execution_count": 13,
     "metadata": {},
     "output_type": "execute_result"
    }
   ],
   "source": [
    "ts4xPi = set(list(ts4x_models)).intersection(list(tsPi_models))\n",
    "ts4xPi"
   ]
  },
  {
   "cell_type": "code",
   "execution_count": 14,
   "metadata": {},
   "outputs": [
    {
     "data": {
      "text/plain": [
       "set()"
      ]
     },
     "execution_count": 14,
     "metadata": {},
     "output_type": "execute_result"
    }
   ],
   "source": [
    "set(list(ts4x_models)).difference(list(tsPi_models))"
   ]
  },
  {
   "cell_type": "code",
   "execution_count": 18,
   "metadata": {},
   "outputs": [
    {
     "data": {
      "text/plain": [
       "{'BCC-ESM1', 'E3SM-1-0'}"
      ]
     },
     "execution_count": 18,
     "metadata": {},
     "output_type": "execute_result"
    }
   ],
   "source": [
    "# The difference between two sets results in a third set with the element from the first, that are not present on the second.\n",
    "missingmodel = set(list(tsPi_models)).symmetric_difference(list(ts4x_models))\n",
    "missingmodel"
   ]
  },
  {
   "cell_type": "code",
   "execution_count": 28,
   "metadata": {},
   "outputs": [
    {
     "name": "stdout",
     "output_type": "stream",
     "text": [
      "E3SM-1-0\n",
      "\n",
      "\n",
      "BCC-ESM1\n",
      "\n"
     ]
    }
   ],
   "source": [
    "for model in missingmodel:\n",
    "    print(model)\n",
    "    try: \n",
    "        tsPi_models.pop(model)\n",
    "    except:\n",
    "        print(\"\")\n",
    "    try: \n",
    "        ts4x_models.pop(model)\n",
    "    except:\n",
    "        print(\"\")\n",
    "    #try: ts4x_models[model]"
   ]
  },
  {
   "cell_type": "code",
   "execution_count": 29,
   "metadata": {},
   "outputs": [
    {
     "data": {
      "text/plain": [
       "True"
      ]
     },
     "execution_count": 29,
     "metadata": {},
     "output_type": "execute_result"
    }
   ],
   "source": [
    "set(list(ts4x_models)).union(list(tsPi_models)) == set(list(ts4x_models)).intersection(list(tsPi_models))"
   ]
  },
  {
   "cell_type": "code",
   "execution_count": 32,
   "metadata": {},
   "outputs": [
    {
     "name": "stdout",
     "output_type": "stream",
     "text": [
      "/glade/collections/cmip/CMIP6/CMIP/NOAA-GFDL/GFDL-CM4/abrupt-4xCO2/ r1i1p1f1 is missing\n",
      "no abrupt-4xCO2 data for GFDL-CM4\n",
      "/glade/collections/cmip/CMIP6/CMIP/CCCma/CanESM5/abrupt-4xCO2/ r1i1p1f1 is missing\n",
      "no abrupt-4xCO2 data for CanESM5\n",
      "/glade/collections/cmip/CMIP6/CMIP/NOAA-GFDL/GFDL-CM4/piControl/ r1i1p1f1 is missing\n",
      "no piControl data for GFDL-CM4\n",
      "/glade/collections/cmip/CMIP6/CMIP/CCCma/CanESM5/piControl/ r1i1p1f1 is missing\n",
      "no piControl data for CanESM5\n",
      "/glade/collections/cmip/CMIP6/CMIP/EC-Earth-Consortium/EC-Earth3-LR/piControl/ r1i1p1f1 is missing\n",
      "no piControl data for EC-Earth3-LR\n",
      "E3SM-1-0\n",
      "\n",
      "BCC-ESM1\n",
      "\n"
     ]
    }
   ],
   "source": [
    "def keepModelsWithAllData(modeldict1,modeldict2):\n",
    "    missingmodel = set(list(modeldict1)).symmetric_difference(list(modeldict2))\n",
    "    for model in missingmodel:\n",
    "        print(model)\n",
    "        try: \n",
    "            modeldict1.pop(model)\n",
    "        except:\n",
    "            print(\"\")\n",
    "        try: \n",
    "            modeldict2.pop(model)\n",
    "        except:\n",
    "            print(\"\")\n",
    "    return modeldict1,modeldict2\n",
    "\n",
    "experiment = \"abrupt-4xCO2\"\n",
    "ts4x_models = getModelsForExperimentVar(experiment,var)\n",
    "tsPi_models = getModelsForExperimentVar(\"piControl\",var)\n",
    "ts4x_models,tsPi_models = keepModelsWithAllData(ts4x_models,tsPi_models)"
   ]
  },
  {
   "cell_type": "code",
   "execution_count": 33,
   "metadata": {},
   "outputs": [
    {
     "data": {
      "text/plain": [
       "True"
      ]
     },
     "execution_count": 33,
     "metadata": {},
     "output_type": "execute_result"
    }
   ],
   "source": [
    "set(list(ts4x_models)).union(list(tsPi_models)) == set(list(ts4x_models)).intersection(list(tsPi_models))"
   ]
  },
  {
   "cell_type": "code",
   "execution_count": null,
   "metadata": {},
   "outputs": [],
   "source": []
  }
 ],
 "metadata": {
  "kernelspec": {
   "display_name": "Python [conda env:analysis]",
   "language": "python",
   "name": "conda-env-analysis-py"
  },
  "language_info": {
   "codemirror_mode": {
    "name": "ipython",
    "version": 3
   },
   "file_extension": ".py",
   "mimetype": "text/x-python",
   "name": "python",
   "nbconvert_exporter": "python",
   "pygments_lexer": "ipython3",
   "version": "3.7.3"
  }
 },
 "nbformat": 4,
 "nbformat_minor": 2
}
